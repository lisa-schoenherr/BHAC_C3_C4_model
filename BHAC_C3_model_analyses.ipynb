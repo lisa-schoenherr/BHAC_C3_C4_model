{
 "cells": [
  {
   "cell_type": "markdown",
   "metadata": {},
   "source": [
    "# Building the Arabidopsis C3 model\n",
    "\n",
    "## Imports"
   ]
  },
  {
   "cell_type": "code",
   "execution_count": 1,
   "metadata": {},
   "outputs": [],
   "source": [
    "# cobrapy (constraint-based modelling package)\n",
    "from cobra.core import Group\n",
    "from cobra.io import read_sbml_model, write_sbml_model\n",
    "from cobra import Reaction\n",
    "from cobra.flux_analysis import flux_variability_analysis, pfba\n",
    "\n",
    "# cobramod (adding new reactions/metabolites)\n",
    "import cobramod as cm\n",
    "\n",
    "# additional functions for cobrapy\n",
    "from model_functions import *\n",
    "\n",
    "# pandas (data analysis)\n",
    "import pandas as pd\n",
    "\n",
    "# enables usage regex expression\n",
    "import re\n",
    "\n",
    "# matplotlib for making plots\n",
    "import matplotlib.pyplot as plt\n",
    "\n",
    "#General Core Model\n",
    "general_model = read_sbml_model(\"PlantCoreMetabolism_v2_0_0_deprotonated.sbml\")"
   ]
  },
  {
   "cell_type": "code",
   "execution_count": 2,
   "metadata": {},
   "outputs": [
    {
     "data": {
      "text/html": [
       "\n",
       "        <table>\n",
       "            <tr>\n",
       "                <td><strong>Name</strong></td>\n",
       "                <td>PlantCoreMetabolism_v1_3_0</td>\n",
       "            </tr><tr>\n",
       "                <td><strong>Memory address</strong></td>\n",
       "                <td>0x023523dee708</td>\n",
       "            </tr><tr>\n",
       "                <td><strong>Number of metabolites</strong></td>\n",
       "                <td>861</td>\n",
       "            </tr><tr>\n",
       "                <td><strong>Number of reactions</strong></td>\n",
       "                <td>892</td>\n",
       "            </tr><tr>\n",
       "                <td><strong>Number of groups</strong></td>\n",
       "                <td>208</td>\n",
       "            </tr><tr>\n",
       "                <td><strong>Objective expression</strong></td>\n",
       "                <td>1.0*Phloem_output_tx - 1.0*Phloem_output_tx_reverse_990b1</td>\n",
       "            </tr><tr>\n",
       "                <td><strong>Compartments</strong></td>\n",
       "                <td>Mitochondrion, Cytoplasm, Biomass, Plastid, Vacuole, Peroxisome, Endoplasmic reticulum, Mitochondrion innermembrane interacting with cristal space, Mitochondrion innermembrane interacting with inter membrane space, Extracellular, Thylakoid, Mitochondrial intermembrane space</td>\n",
       "            </tr>\n",
       "          </table>"
      ],
      "text/plain": [
       "<Model PlantCoreMetabolism_v1_3_0 at 0x23523dee708>"
      ]
     },
     "execution_count": 2,
     "metadata": {},
     "output_type": "execute_result"
    }
   ],
   "source": [
    "general_model"
   ]
  },
  {
   "cell_type": "markdown",
   "metadata": {},
   "source": [
    "## Adding reactions\n",
    "### Biomass equation and Malate/Pyruvate transporter"
   ]
  },
  {
   "cell_type": "code",
   "execution_count": 3,
   "metadata": {
    "pycharm": {
     "name": "#%%\n"
    }
   },
   "outputs": [],
   "source": [
    "\"\"\"\n",
    "Arabidopsis biomass\n",
    "\n",
    "\"\"\"\n",
    "\n",
    "reaction = Reaction('Arabidopsis_biomass_tx')\n",
    "reaction.name = 'Arabidopsis biomass'\n",
    "reaction.lower_bound = 0.  # This is the default\n",
    "reaction.upper_bound = 1000.  # This is the default\n",
    "\n",
    "#Import the pandas dataframe\n",
    "df = pd.read_csv(\"Final_Biomass_V1.csv\")\n",
    "\n",
    "#Get a list with the metabolite IDs from the generic model\n",
    "met_list = []\n",
    "\n",
    "for id in df.loc[:,\"Ids\"]:\n",
    "    met = general_model.metabolites.get_by_id(id)\n",
    "    met_list.append(met)\n",
    "\n",
    "#Create a list with the coefficients\n",
    "coef = list(df.loc[:,\"Arabidopsis\"])\n",
    "\n",
    "#Add metabolites to the model: dictionary - keys are metabolites and values are the coefficients\n",
    "for i in range(len(coef)):\n",
    "    reaction.add_metabolites({met_list[i]:coef[i]})\n",
    "\n",
    "#Add reaction to the model\n",
    "general_model.add_reactions([reaction])"
   ]
  },
  {
   "cell_type": "code",
   "execution_count": 4,
   "metadata": {
    "pycharm": {
     "name": "#%%\n"
    }
   },
   "outputs": [],
   "source": [
    "\"\"\"\n",
    "Malate/Pyruvate Transporter\n",
    "\"\"\"\n",
    "#Adding Malate/Pyruvate transporter between the cytosol and plastid compartments\n",
    "\n",
    "MAL_c = general_model.metabolites.MAL_c\n",
    "MAL_p = general_model.metabolites.MAL_p\n",
    "PYRUVATE_c = general_model.metabolites.PYRUVATE_c\n",
    "PYRUVATE_p = general_model.metabolites.PYRUVATE_p\n",
    "\n",
    "#Create the biomass reaction\n",
    "transporter = Reaction('PYR_MAL_pc')\n",
    "transporter.name = 'Malate/Pyruvate Transport'\n",
    "transporter.lower_bound = -1000.  # This is the default\n",
    "transporter.upper_bound = 1000.\n",
    "\n",
    "transporter.add_metabolites({\n",
    "    PYRUVATE_p: -1.0,\n",
    "    MAL_c: -1.0,\n",
    "    PYRUVATE_c: 1.0,\n",
    "    MAL_p: 1.0\n",
    "})\n",
    "\n",
    "general_model.add_reactions([transporter])\n"
   ]
  },
  {
   "cell_type": "markdown",
   "metadata": {},
   "source": [
    "### Adding the BHAC"
   ]
  },
  {
   "cell_type": "code",
   "execution_count": 5,
   "metadata": {
    "pycharm": {
     "name": "#%%\n"
    }
   },
   "outputs": [],
   "source": [
    "\"\"\"\n",
    "Adding BHAC\n",
    "\n",
    "reactions:\n",
    "1) Glycine + Oxaloacetate <--> Glyoxylate + L-Aspartate\n",
    "2) beta-Hydroxyaspartate <--> Glycine + Glyoxylate\n",
    "3) beta-Hydroxyaspartate -->  Immunosuccinat + H2O\n",
    "4) Immunosuccinate + NADH + H+ <--> L-Aspartate + NAD+\n",
    "\"\"\"\n",
    "\n",
    "from pathlib import Path\n",
    "path = Path.cwd().resolve().joinpath(\"bhac_data\")\n",
    "\n",
    "# new metabolites:\n",
    "# Beta-Hydroxyaspartate\n",
    "cm.add_metabolites(\n",
    "    model=general_model,\n",
    "    obj='BETA_HYDROXYASPARTATE_x, BETA_HYDROXYASPARTATE_x, x, C4H6N1O5, -1',\n",
    "    directory=path\n",
    ")\n",
    "\n",
    "# Iminosuccinat (= Iminoaspartate) needed for reaction 3)\n",
    "cm.add_metabolites(\n",
    "    model=general_model,\n",
    "    obj='IMINOASPARTATE_x, IMINOASPARTATE_x, x, C4H4N1O4, -1',\n",
    "    directory=path\n",
    ")\n",
    "\n",
    "# new reactions:\n",
    "# 1) Glycine + Oxaloacetate <--> Glyoxylate + L-Aspartate\n",
    "cm.add_reactions(\n",
    "    model=general_model,\n",
    "    obj='AGAT_x, Glycine:oxaloacetate aminotransferase | 1 GLYOX_x + 1 L_ASPARTATE_x <-> 1 GLY_x + 1 OXALACETIC_ACID_x',\n",
    "    directory=path\n",
    ")\n",
    "\n",
    "# 2) beta-Hydroxyaspartate <--> Glycine + Glyoxylate\n",
    "cm.add_reactions(\n",
    "    model=general_model,\n",
    "    obj='BHAA_x, threo-3-hydroxy-D-aspartate glyoxylate-lyase | 1 GLY_x + 1 GLYOX_x <-> 1 BETA_HYDROXYASPARTATE_x',\n",
    "    directory=path\n",
    ")\n",
    "\n",
    "# 3) beta-Hydroxyaspartate --> Immunosuccinat + H2O\n",
    "cm.add_reactions(\n",
    "    model=general_model,\n",
    "    obj='BHAD_x, beta-hydroxyaspartate dehydratase | 1 BETA_HYDROXYASPARTATE_x <-> 1 WATER_x + 1 IMINOASPARTATE_x',\n",
    "    directory=path\n",
    ")\n",
    "\n",
    "# 4) Immunosuccinate + NADH + H+ <--> L-Aspartate + NAD+\n",
    "cm.add_reactions(\n",
    "    model=general_model,\n",
    "    obj='ISR_x, L-aspartate:NAD+ oxidoreductase | 1 IMINOASPARTATE_x + 1 NADH_x + 1 PROTON_x <-> 1 L_ASPARTATE_x + 1 NAD_x',\n",
    "    directory=path,\n",
    ")"
   ]
  },
  {
   "cell_type": "markdown",
   "metadata": {},
   "source": [
    "## Adding Constrains to C3 model"
   ]
  },
  {
   "cell_type": "code",
   "execution_count": 6,
   "metadata": {
    "pycharm": {
     "name": "#%%\n"
    }
   },
   "outputs": [],
   "source": [
    "\"\"\"\n",
    "Generic constrains\n",
    "\"\"\"\n",
    "#Initial import/export constraints - Defining autotrofic conditions\n",
    "set_bounds('CO2_tx', (-1000, 1000), general_model)\n",
    "set_bounds('H2O_tx', (-1000, 1000), general_model)\n",
    "set_bounds('NH4_tx', (0., 0.), general_model) # Stop Ammonium import\n",
    "set_bounds('Pi_tx', (0, 1000), general_model)\n",
    "set_bounds('SO4_tx', (0, 1000), general_model)\n",
    "set_bounds('O2_tx', (-1000, 1000), general_model)\n",
    "set_bounds('Sucrose_tx', (-1000, 0), general_model) #Exported but not imported\n",
    "set_bounds('GLC_tx', (-1000, 0), general_model)\n",
    "\n",
    "#Bounds for ATP\n",
    "set_bounds('ATPase_tx', (0, 1000), general_model)\n",
    "\n",
    "#Bounds for chloroplastic NADPH dehydrogenase and plastoquinol oxidase\n",
    "#set_bounds('ISOCITDEH_RXN_c', (0, 0), general_model) #The only equivalent for the reaction in the Blaetke pipeline is in the cytosol\n",
    "set_bounds('Plastoquinol_Oxidase_p', (0, 0), general_model)\n",
    "\n",
    "#NTT is only active at night\n",
    "set_fixed_flux(\"ATP_ADP_Pi_pc\", 0, general_model)"
   ]
  },
  {
   "cell_type": "code",
   "execution_count": 7,
   "metadata": {
    "pycharm": {
     "name": "#%%\n"
    }
   },
   "outputs": [],
   "source": [
    "\"\"\"\n",
    "Write the model\n",
    "\n",
    "\"\"\"\n",
    "\n",
    "write_sbml_model(general_model, \"c3_model.xml\")"
   ]
  },
  {
   "cell_type": "markdown",
   "metadata": {},
   "source": [
    "## Reading the model\n",
    "\n",
    "### Adding Rubisco and Light Dependent Maintenance constrains"
   ]
  },
  {
   "cell_type": "code",
   "execution_count": 8,
   "metadata": {
    "pycharm": {
     "name": "#%%\n"
    }
   },
   "outputs": [],
   "source": [
    "\"\"\"\n",
    "Read and prepare c3 model\n",
    "\"\"\"\n",
    "\n",
    "c3_model = read_sbml_model(\"c3_model.xml\")\n",
    "\n",
    "c3_model.solver = \"glpk\"\n",
    "\n",
    "c3_model.objective = \"Arabidopsis_biomass_tx\"\n",
    "\n",
    "# -------------------\n",
    "#Setting up Rubisco carboxylase/oxygenase ratio in C3 model\n",
    "# AC (ambient co2) 3:1\n",
    "# HC (high co2) no ratio (oxygenase reaction is not forced, model will not choose it, = no PR)\n",
    "set_fixed_flux_ratio({'RIBULOSE_BISPHOSPHATE_CARBOXYLASE_RXN_p':3,'RXN_961_p':1},c3_model)\n",
    "# -------------------\n",
    "\n",
    "#Setting up Light dependent maintenace in the C3 model\n",
    "def c3_maintenance(c3_model):\n",
    "    #Constrains for light dependent maintenance costs\n",
    "    c3_model.reactions.ATPase_tx.flux_expression\n",
    "    c3_model.reactions.Photon_tx.flux_expression\n",
    "\n",
    "    const = c3_model.problem.Constraint((0.0049 * c3_model.reactions.Photon_tx.flux_expression + 2.7852) - c3_model.reactions.ATPase_tx.flux_expression , lb = 0, ub = 0)\n",
    "    c3_model.add_cons_vars(const)\n",
    "    \n",
    "    # ATP/NADPH 3:1 constraints\n",
    "    const = c3_model.problem.Constraint(c3_model.reactions.ATPase_tx.flux_expression - 3 *(c3_model.reactions.NADPHoxc_tx.flux_expression + c3_model.reactions.NADPHoxp_tx.flux_expression + c3_model.reactions.NADPHoxm_tx.flux_expression) , lb = 0, ub = 0)\n",
    "    c3_model.add_cons_vars(const)\n",
    "    \n",
    "#Add Light dependent maintenance\n",
    "c3_maintenance(c3_model)"
   ]
  },
  {
   "cell_type": "code",
   "execution_count": 9,
   "metadata": {},
   "outputs": [
    {
     "data": {
      "text/html": [
       "\n",
       "        <table>\n",
       "            <tr>\n",
       "                <td><strong>Name</strong></td>\n",
       "                <td>PlantCoreMetabolism_v1_3_0</td>\n",
       "            </tr><tr>\n",
       "                <td><strong>Memory address</strong></td>\n",
       "                <td>0x023527892388</td>\n",
       "            </tr><tr>\n",
       "                <td><strong>Number of metabolites</strong></td>\n",
       "                <td>863</td>\n",
       "            </tr><tr>\n",
       "                <td><strong>Number of reactions</strong></td>\n",
       "                <td>898</td>\n",
       "            </tr><tr>\n",
       "                <td><strong>Number of groups</strong></td>\n",
       "                <td>208</td>\n",
       "            </tr><tr>\n",
       "                <td><strong>Objective expression</strong></td>\n",
       "                <td>1.0*Arabidopsis_biomass_tx - 1.0*Arabidopsis_biomass_tx_reverse_f8680</td>\n",
       "            </tr><tr>\n",
       "                <td><strong>Compartments</strong></td>\n",
       "                <td>Mitochondrion, Cytoplasm, Biomass, Plastid, Vacuole, Peroxisome, Endoplasmic reticulum, Mitochondrion innermembrane interacting with cristal space, Mitochondrion innermembrane interacting with inter membrane space, Extracellular, Thylakoid, Mitochondrial intermembrane space</td>\n",
       "            </tr>\n",
       "          </table>"
      ],
      "text/plain": [
       "<Model PlantCoreMetabolism_v1_3_0 at 0x23527892388>"
      ]
     },
     "execution_count": 9,
     "metadata": {},
     "output_type": "execute_result"
    }
   ],
   "source": [
    "#Complete C3 model\n",
    "c3_model"
   ]
  },
  {
   "cell_type": "markdown",
   "metadata": {},
   "source": [
    "### Flux Balance Analysis"
   ]
  },
  {
   "cell_type": "code",
   "execution_count": 10,
   "metadata": {
    "pycharm": {
     "name": "#%%\n"
    }
   },
   "outputs": [],
   "source": [
    "\"\"\"\n",
    "Functions to perform a FBA defining limiting constrains of either light or nitrogen uptake\n",
    "\"\"\"\n",
    "\n",
    "def c3_simulation(light, N, c3_model):\n",
    "    with c3_model:\n",
    "        #Bounds for light\n",
    "        set_bounds('Photon_tx', (0, light), c3_model)\n",
    "        #Bounds for Nitrogen\n",
    "        set_bounds('Nitrate_tx', (0, N), c3_model)\n",
    "        #FBA\n",
    "        print(f'Arabidopsis C3 FBA: {c3_model.summary()}')"
   ]
  },
  {
   "cell_type": "code",
   "execution_count": 11,
   "metadata": {},
   "outputs": [
    {
     "name": "stdout",
     "output_type": "stream",
     "text": [
      "Arabidopsis C3 FBA: Objective\n",
      "=========\n",
      "1.0 Arabidopsis_biomass_tx = 0.1065721659737008\n",
      "\n",
      "Uptake\n",
      "------\n",
      "      Metabolite      Reaction    Flux  C-Number  C-Flux\n",
      "CARBON_DIOXIDE_e        CO2_tx   53.87         1 100.00%\n",
      "         WATER_e        H2O_tx   46.43         0   0.00%\n",
      "       NITRATE_e    Nitrate_tx      10         0   0.00%\n",
      "        Photon_e     Photon_tx   879.4         0   0.00%\n",
      "            Pi_e         Pi_tx 0.03544         0   0.00%\n",
      "       SULFATE_e        SO4_tx  0.2508         0   0.00%\n",
      "        PROTON_c unlProtHYPO_c   103.9         0   0.00%\n",
      "\n",
      "Secretion\n",
      "---------\n",
      "       Metabolite Reaction   Flux  C-Number C-Flux\n",
      "OXYGEN_MOLECULE_e    O2_tx -75.79         0  0.00%\n",
      "\n",
      "None\n"
     ]
    }
   ],
   "source": [
    "#Running simulations\n",
    "print(c3_simulation(1000, 10 , c3_model))"
   ]
  },
  {
   "cell_type": "markdown",
   "metadata": {
    "pycharm": {
     "name": "#%% md\n"
    }
   },
   "source": [
    "# BHAC in C3"
   ]
  },
  {
   "cell_type": "code",
   "execution_count": 12,
   "metadata": {
    "pycharm": {
     "name": "#%%\n"
    }
   },
   "outputs": [],
   "source": [
    "bhac_c3 = ['AGAT_x', 'BHAA_x', 'BHAD_x', 'ISR_x']"
   ]
  },
  {
   "cell_type": "code",
   "execution_count": 13,
   "metadata": {
    "pycharm": {
     "name": "#%%\n"
    }
   },
   "outputs": [],
   "source": [
    "# Setting bounds for Light Uptake for all the following analyses\n",
    "set_bounds('Photon_tx', (0, 250), c3_model)"
   ]
  },
  {
   "cell_type": "markdown",
   "metadata": {},
   "source": [
    "## pFBA for C3"
   ]
  },
  {
   "cell_type": "code",
   "execution_count": 14,
   "metadata": {
    "pycharm": {
     "name": "#%%\n"
    }
   },
   "outputs": [],
   "source": [
    "# pFBA for the WT with BHAC\n",
    "with c3_model:\n",
    "    set_fixed_flux_ratio({'GLYCINE_AMINOTRANSFERASE_RXN_x':1, 'AGAT_x':10},c3_model) #ggt1 reaction is forced\n",
    "    set_fixed_flux_ratio({'SERINE_GLYOXYLATE_AMINOTRANSFERASE_RXN_x':1, 'BHAA_x':10},c3_model)\n",
    "    pFBA_BHAC = round(pfba(c3_model).fluxes, 5)"
   ]
  },
  {
   "cell_type": "code",
   "execution_count": 15,
   "metadata": {
    "pycharm": {
     "name": "#%%\n"
    }
   },
   "outputs": [],
   "source": [
    "# pFBA for the WT model without BHAC\n",
    "with c3_model:\n",
    "    for i in bhac_c3:\n",
    "        c3_model.reactions.get_by_id(i).knock_out()\n",
    "    pFBA_noBHAC = round(pfba(c3_model).fluxes, 5)"
   ]
  },
  {
   "cell_type": "code",
   "execution_count": 16,
   "metadata": {
    "pycharm": {
     "name": "#%%\n"
    }
   },
   "outputs": [],
   "source": [
    "# pFBA for the ggt1 with BHAC\n",
    "with c3_model:\n",
    "    c3_model.reactions.get_by_id('GLYCINE_AMINOTRANSFERASE_RXN_x').knock_out()\n",
    "    pFBA_BHAC_ggt = round(pfba(c3_model).fluxes, 5)"
   ]
  },
  {
   "cell_type": "code",
   "execution_count": 17,
   "metadata": {
    "pycharm": {
     "name": "#%%\n"
    }
   },
   "outputs": [],
   "source": [
    "# pFBA for the ggt1 without BHAC\n",
    "with c3_model:\n",
    "    c3_model.reactions.get_by_id('GLYCINE_AMINOTRANSFERASE_RXN_x').knock_out()\n",
    "    for i in bhac_c3:\n",
    "        c3_model.reactions.get_by_id(i).knock_out()\n",
    "    pFBA_noBHAC_ggt = round(pfba(c3_model).fluxes, 5)"
   ]
  },
  {
   "cell_type": "markdown",
   "metadata": {},
   "source": [
    "## Functions (flux sum & searching for reactions)"
   ]
  },
  {
   "cell_type": "code",
   "execution_count": 18,
   "metadata": {
    "pycharm": {
     "name": "#%%\n"
    }
   },
   "outputs": [],
   "source": [
    "# defining a function that returns the flux values and the overall flux sum (after pFBA)\n",
    "# input:\n",
    "# first: reaction_set is a list of reactions that one wants the values for, all transport reaction in that list get excluded\n",
    "# second: bhac_yn (valid options: 'y' or 'n') indicates whether the BHAC is active ('y' - yes) or knocked out ('n' - no)\n",
    "# third: wt_ggt (valid options: 'wt' or 'ggt' indicates whether the pFBA is done with the wild type (wt) or the ggt1-1 mutant (ggt)\n",
    "# 1 optional arguments: plot can be set to 'plot' to return just the flux sum value\n",
    "\n",
    "def flux_values_sum(reaction_set, bhac_yn, wt_ggt, plot='no'):\n",
    "    flux_sum = 0\n",
    "\n",
    "    # exclude all transport reactions from reaction_set\n",
    "    reaction_set = [x for x in reaction_set if (re.match(re.compile('.*_.$'), x) or re.match(re.compile('.*s$'),x))]\n",
    "\n",
    "    with c3_model:\n",
    "\n",
    "        # (1) WT without BHAC\n",
    "        if bhac_yn == 'n' and wt_ggt == 'wt':\n",
    "            for i in bhac_c3:\n",
    "                c3_model.reactions.get_by_id(i).knock_out()\n",
    "            flux_opt = round(pfba(c3_model).fluxes, 5)\n",
    "\n",
    "        # (2) WT with BHAC\n",
    "        elif bhac_yn == 'y' and wt_ggt == 'wt':\n",
    "            set_fixed_flux_ratio({'GLYCINE_AMINOTRANSFERASE_RXN_x':1, 'AGAT_x':10},c3_model) #ggt1 reaction is forced\n",
    "            set_fixed_flux_ratio({'SERINE_GLYOXYLATE_AMINOTRANSFERASE_RXN_x':1, 'BHAA_x':10},c3_model)\n",
    "            flux_opt = round(pfba(c3_model).fluxes, 5)\n",
    "\n",
    "        # (3) ggt without BHAC\n",
    "        elif bhac_yn == 'n' and wt_ggt == 'ggt':\n",
    "            c3_model.reactions.get_by_id('GLYCINE_AMINOTRANSFERASE_RXN_x').knock_out()\n",
    "            for i in bhac_c3:\n",
    "                c3_model.reactions.get_by_id(i).knock_out()\n",
    "            flux_opt = round(pfba(c3_model).fluxes, 5)\n",
    "\n",
    "        # (4) ggt with BHAC\n",
    "        elif bhac_yn == 'y' and wt_ggt == 'ggt':\n",
    "            c3_model.reactions.get_by_id('GLYCINE_AMINOTRANSFERASE_RXN_x').knock_out()\n",
    "            flux_opt = round(pfba(c3_model).fluxes, 5)\n",
    "\n",
    "        else:\n",
    "            print('error, check arguments')\n",
    "            return\n",
    "\n",
    "        # just returns flux sum without values for every reaction (useful if you want to store the values)\n",
    "        if plot == 'plot':\n",
    "            for i in reaction_set:\n",
    "                flux_value =  flux_opt.get(i)\n",
    "                flux_sum += abs(flux_value)\n",
    "            return round(flux_sum,4)\n",
    "\n",
    "        # prints name reaction and their flux value and overall flux sum\n",
    "        elif plot == 'no':\n",
    "            for i in reaction_set:\n",
    "                flux_value =  flux_opt.get(i)\n",
    "                print(i, '=',flux_value)\n",
    "                flux_sum += abs(flux_value)\n",
    "\n",
    "            print('\\n ---------------- \\n The flux sum is:', round(flux_sum,4))\n",
    "\n"
   ]
  },
  {
   "cell_type": "code",
   "execution_count": 19,
   "metadata": {
    "pycharm": {
     "name": "#%%\n"
    }
   },
   "outputs": [],
   "source": [
    "# defining a function that searches for all reactions a metabolite is included in, this can be done for one compartment or the whole cell\n",
    "# input:\n",
    "# first: a metabolite name (official metabolite identifier without compartment)\n",
    "# second: abbreviation of a compartment (e.g. 'x', 'p') or use 'all' to search across all compartments\n",
    "def search_reactions(metabolite, compartment):\n",
    "    metabolite_list = []\n",
    "    metabolite_reactions = []\n",
    "    if compartment == 'all':\n",
    "        for i in c3_model.metabolites.query('^'+metabolite+'_[a-z]$'):\n",
    "           metabolite_list.append(i.id)\n",
    "    else:\n",
    "        for i in c3_model.metabolites.query('^'+metabolite+'_'+compartment+'$'):\n",
    "           metabolite_list.append(i.id)\n",
    "\n",
    "    for i in metabolite_list:\n",
    "        for j in c3_model.metabolites.get_by_id(i).reactions:\n",
    "            metabolite_reactions.append(j.id)\n",
    "\n",
    "    print('There are', len(metabolite_reactions), 'reactions including the following metabolites:\\n', metabolite_list, '\\n')\n",
    "    return set(metabolite_reactions)"
   ]
  },
  {
   "cell_type": "code",
   "execution_count": 20,
   "metadata": {
    "pycharm": {
     "name": "#%%\n"
    }
   },
   "outputs": [
    {
     "name": "stdout",
     "output_type": "stream",
     "text": [
      "There are 6 reactions including the following metabolites:\n",
      " ['GLY_x'] \n",
      "\n"
     ]
    },
    {
     "data": {
      "text/plain": [
       "{'AGAT_x',\n",
       " 'ALANINE_GLYOXYLATE_AMINOTRANSFERASE_RXN_x',\n",
       " 'BHAA_x',\n",
       " 'GLYCINE_AMINOTRANSFERASE_RXN_x',\n",
       " 'GLY_xc',\n",
       " 'SERINE_GLYOXYLATE_AMINOTRANSFERASE_RXN_x'}"
      ]
     },
     "execution_count": 20,
     "metadata": {},
     "output_type": "execute_result"
    }
   ],
   "source": [
    "# examples for using the two functions\n",
    "gly_x_reactions = search_reactions('GLY', 'x')\n",
    "gly_x_reactions"
   ]
  },
  {
   "cell_type": "code",
   "execution_count": 21,
   "metadata": {
    "pycharm": {
     "name": "#%%\n"
    }
   },
   "outputs": [
    {
     "name": "stdout",
     "output_type": "stream",
     "text": [
      "BHAA_x = 2.63161\n",
      "GLYCINE_AMINOTRANSFERASE_RXN_x = 0.27168\n",
      "SERINE_GLYOXYLATE_AMINOTRANSFERASE_RXN_x = 0.26316\n",
      "ALANINE_GLYOXYLATE_AMINOTRANSFERASE_RXN_x = 0.0\n",
      "AGAT_x = 2.7168\n",
      "\n",
      " ---------------- \n",
      " The flux sum is: 5.8832\n"
     ]
    }
   ],
   "source": [
    "flux_values_sum(gly_x_reactions, 'y', 'wt')"
   ]
  },
  {
   "cell_type": "code",
   "execution_count": 22,
   "metadata": {
    "pycharm": {
     "name": "#%%\n"
    }
   },
   "outputs": [
    {
     "name": "stdout",
     "output_type": "stream",
     "text": [
      "There are 26 reactions including the following metabolites:\n",
      " ['L_ASPARTATE_x', 'L_ASPARTATE_c', 'L_ASPARTATE_m', 'L_ASPARTATE_p', 'L_ASPARTATE_v'] \n",
      "\n"
     ]
    }
   ],
   "source": [
    "asp_reactions = search_reactions('L_ASPARTATE', 'all')"
   ]
  },
  {
   "cell_type": "code",
   "execution_count": 23,
   "metadata": {
    "pycharm": {
     "name": "#%%\n"
    }
   },
   "outputs": [
    {
     "name": "stdout",
     "output_type": "stream",
     "text": [
      "SAICARSYN_RXN_p = 0.00158\n",
      "ARGSUCCINSYN_RXN_p = 0.08094\n",
      "ASPCARBTRANS_RXN_p = 0.00173\n",
      "sASP_biomass = -0.10951\n",
      "ASPAMINOTRANS_RXN_x = -0.08519\n",
      "ASNSYNA_RXN_c = 0.07646\n",
      "AGAT_x = 2.7168\n",
      "ASPARAGHYD_RXN_c = 0.0\n",
      "ASPAMINOTRANS_RXN_p = -1.29336\n",
      "ISR_x = 2.63161\n",
      "ASPARTATE_TRNA_LIGASE_RXN_c = 0.0\n",
      "ASPAMINOTRANS_RXN_c = -0.18597\n",
      "ASPARTATEKIN_RXN_p = 1.1715\n",
      "ASPAMINOTRANS_RXN_m = 0.0\n",
      "ADENYLOSUCCINATE_SYNTHASE_RXN_p = 0.03761\n",
      "\n",
      " ---------------- \n",
      " The flux sum is: 8.3923\n"
     ]
    }
   ],
   "source": [
    "flux_values_sum(asp_reactions, 'y', 'wt')"
   ]
  },
  {
   "cell_type": "code",
   "execution_count": 24,
   "metadata": {
    "pycharm": {
     "name": "#%%\n"
    }
   },
   "outputs": [
    {
     "name": "stdout",
     "output_type": "stream",
     "text": [
      "SAICARSYN_RXN_p = 0.00155\n",
      "ARGSUCCINSYN_RXN_p = 0.07959\n",
      "ASPCARBTRANS_RXN_p = 0.0017\n",
      "sASP_biomass = -0.10768\n",
      "ASPAMINOTRANS_RXN_x = 0.0\n",
      "ASNSYNA_RXN_c = 0.07518\n",
      "AGAT_x = 0.0\n",
      "ASPARAGHYD_RXN_c = 0.0\n",
      "ASPAMINOTRANS_RXN_p = -1.2717\n",
      "ISR_x = 0.0\n",
      "ASPARTATE_TRNA_LIGASE_RXN_c = 0.0\n",
      "ASPAMINOTRANS_RXN_c = -0.18285\n",
      "ASPARTATEKIN_RXN_p = 1.15188\n",
      "ASPAMINOTRANS_RXN_m = 0.0\n",
      "ADENYLOSUCCINATE_SYNTHASE_RXN_p = 0.03698\n",
      "\n",
      " ---------------- \n",
      " The flux sum is: 2.9091\n"
     ]
    }
   ],
   "source": [
    "flux_values_sum(asp_reactions, 'n', 'ggt')"
   ]
  },
  {
   "cell_type": "markdown",
   "metadata": {},
   "source": [
    "## General analyses"
   ]
  },
  {
   "cell_type": "code",
   "execution_count": 25,
   "metadata": {
    "pycharm": {
     "name": "#%%\n"
    }
   },
   "outputs": [
    {
     "name": "stdout",
     "output_type": "stream",
     "text": [
      "Reaction AGAT_x passed the non-zero-flux test.\n",
      "Reaction BHAA_x passed the non-zero-flux test.\n",
      "Reaction BHAD_x passed the non-zero-flux test.\n",
      "Reaction ISR_x passed the non-zero-flux test.\n"
     ]
    }
   ],
   "source": [
    "# non-zero flux tests for new BHAC reactions\n",
    "cm.test_non_zero_flux(\n",
    "    model=c3_model,\n",
    "    reaction='AGAT_x'\n",
    ")\n",
    "cm.test_non_zero_flux(\n",
    "    model=c3_model,\n",
    "    reaction='BHAA_x'\n",
    ")\n",
    "cm.test_non_zero_flux(\n",
    "    model=c3_model,\n",
    "    reaction='BHAD_x'\n",
    ")\n",
    "cm.test_non_zero_flux(\n",
    "    model=c3_model,\n",
    "    reaction='ISR_x'\n",
    ")"
   ]
  },
  {
   "cell_type": "code",
   "execution_count": 26,
   "metadata": {
    "pycharm": {
     "name": "#%%\n"
    }
   },
   "outputs": [
    {
     "name": "stdout",
     "output_type": "stream",
     "text": [
      "0.029848389534952915\n",
      "0.029318769113688574\n"
     ]
    }
   ],
   "source": [
    "# FBA with BHAC\n",
    "print(c3_model.optimize().objective_value)\n",
    "\n",
    "# FBA without BHAC\n",
    "with c3_model:\n",
    "    for i in bhac_c3:\n",
    "        c3_model.reactions.get_by_id(i).knock_out()\n",
    "    print(c3_model.optimize().objective_value)"
   ]
  },
  {
   "cell_type": "code",
   "execution_count": 27,
   "metadata": {
    "pycharm": {
     "name": "#%%\n"
    }
   },
   "outputs": [
    {
     "data": {
      "text/html": [
       "<h3>Objective</h3><p>1.0 Arabidopsis_biomass_tx = 0.029848389534952936</p><h4>Uptake</h4><table border=\"1\" class=\"dataframe\">\n",
       "  <thead>\n",
       "    <tr style=\"text-align: right;\">\n",
       "      <th>Metabolite</th>\n",
       "      <th>Reaction</th>\n",
       "      <th>Flux</th>\n",
       "      <th>C-Number</th>\n",
       "      <th>C-Flux</th>\n",
       "    </tr>\n",
       "  </thead>\n",
       "  <tbody>\n",
       "    <tr>\n",
       "      <td>CARBON_DIOXIDE_e</td>\n",
       "      <td>CO2_tx</td>\n",
       "      <td>15.09</td>\n",
       "      <td>1</td>\n",
       "      <td>100.00%</td>\n",
       "    </tr>\n",
       "    <tr>\n",
       "      <td>WATER_e</td>\n",
       "      <td>H2O_tx</td>\n",
       "      <td>13</td>\n",
       "      <td>0</td>\n",
       "      <td>0.00%</td>\n",
       "    </tr>\n",
       "    <tr>\n",
       "      <td>NITRATE_e</td>\n",
       "      <td>Nitrate_tx</td>\n",
       "      <td>2.801</td>\n",
       "      <td>0</td>\n",
       "      <td>0.00%</td>\n",
       "    </tr>\n",
       "    <tr>\n",
       "      <td>Photon_e</td>\n",
       "      <td>Photon_tx</td>\n",
       "      <td>250</td>\n",
       "      <td>0</td>\n",
       "      <td>0.00%</td>\n",
       "    </tr>\n",
       "    <tr>\n",
       "      <td>Pi_e</td>\n",
       "      <td>Pi_tx</td>\n",
       "      <td>0.009927</td>\n",
       "      <td>0</td>\n",
       "      <td>0.00%</td>\n",
       "    </tr>\n",
       "    <tr>\n",
       "      <td>SULFATE_e</td>\n",
       "      <td>SO4_tx</td>\n",
       "      <td>0.07023</td>\n",
       "      <td>0</td>\n",
       "      <td>0.00%</td>\n",
       "    </tr>\n",
       "    <tr>\n",
       "      <td>PROTON_c</td>\n",
       "      <td>unlProtHYPO_c</td>\n",
       "      <td>29.74</td>\n",
       "      <td>0</td>\n",
       "      <td>0.00%</td>\n",
       "    </tr>\n",
       "  </tbody>\n",
       "</table><h4>Secretion</h4><table border=\"1\" class=\"dataframe\">\n",
       "  <thead>\n",
       "    <tr style=\"text-align: right;\">\n",
       "      <th>Metabolite</th>\n",
       "      <th>Reaction</th>\n",
       "      <th>Flux</th>\n",
       "      <th>C-Number</th>\n",
       "      <th>C-Flux</th>\n",
       "    </tr>\n",
       "  </thead>\n",
       "  <tbody>\n",
       "    <tr>\n",
       "      <td>OXYGEN_MOLECULE_e</td>\n",
       "      <td>O2_tx</td>\n",
       "      <td>-21.23</td>\n",
       "      <td>0</td>\n",
       "      <td>0.00%</td>\n",
       "    </tr>\n",
       "  </tbody>\n",
       "</table>"
      ],
      "text/plain": [
       "<cobra.summary.model_summary.ModelSummary at 0x23528183408>"
      ]
     },
     "execution_count": 27,
     "metadata": {},
     "output_type": "execute_result"
    }
   ],
   "source": [
    "# FBA with BHAC\n",
    "c3_model.summary()"
   ]
  },
  {
   "cell_type": "code",
   "execution_count": 28,
   "metadata": {
    "pycharm": {
     "name": "#%%\n"
    }
   },
   "outputs": [
    {
     "name": "stdout",
     "output_type": "stream",
     "text": [
      "Objective\n",
      "=========\n",
      "1.0 Arabidopsis_biomass_tx = 0.029318769113680237\n",
      "\n",
      "Uptake\n",
      "------\n",
      "      Metabolite      Reaction     Flux  C-Number  C-Flux\n",
      "CARBON_DIOXIDE_e        CO2_tx    14.82         1 100.00%\n",
      "         WATER_e        H2O_tx    12.77         0   0.00%\n",
      "       NITRATE_e    Nitrate_tx    2.751         0   0.00%\n",
      "        Photon_e     Photon_tx      250         0   0.00%\n",
      "            Pi_e         Pi_tx 0.009751         0   0.00%\n",
      "       SULFATE_e        SO4_tx  0.06899         0   0.00%\n",
      "        PROTON_c unlProtHYPO_c    30.36         0   0.00%\n",
      "\n",
      "Secretion\n",
      "---------\n",
      "       Metabolite Reaction   Flux  C-Number C-Flux\n",
      "OXYGEN_MOLECULE_e    O2_tx -20.85         0  0.00%\n",
      "\n"
     ]
    }
   ],
   "source": [
    "# FBA without BHAC\n",
    "with c3_model:\n",
    "    for i in bhac_c3:\n",
    "        c3_model.reactions.get_by_id(i).knock_out()\n",
    "    print(c3_model.summary())"
   ]
  },
  {
   "cell_type": "code",
   "execution_count": 29,
   "metadata": {
    "pycharm": {
     "name": "#%%\n"
    }
   },
   "outputs": [
    {
     "name": "stdout",
     "output_type": "stream",
     "text": [
      "         minimum   maximum\n",
      "AGAT_x  2.944606  2.944606\n",
      "BHAA_x  2.944606  2.944606\n",
      "BHAD_x  2.944606  2.944606\n",
      "ISR_x   2.944606  2.944606\n"
     ]
    }
   ],
   "source": [
    "#pFVA\n",
    "print(flux_variability_analysis(c3_model, bhac_c3, pfba_factor=1))"
   ]
  },
  {
   "cell_type": "code",
   "execution_count": 30,
   "metadata": {
    "pycharm": {
     "name": "#%%\n"
    }
   },
   "outputs": [
    {
     "name": "stdout",
     "output_type": "stream",
     "text": [
      "            minimum     maximum\n",
      "AGAT_x -1000.000000  1000.00000\n",
      "BHAA_x     2.897703     3.22272\n",
      "BHAD_x     2.897703     3.22272\n",
      "ISR_x      2.897703     3.22272\n"
     ]
    }
   ],
   "source": [
    "#FVA\n",
    "print(flux_variability_analysis(c3_model, bhac_c3))"
   ]
  },
  {
   "cell_type": "markdown",
   "metadata": {},
   "source": [
    "### ggt1 mutant\n",
    "1 reaction knocked out: Glutamate glyoxylate aminotransferase (= Glycine Aminotransferase 2.6.1.4)"
   ]
  },
  {
   "cell_type": "code",
   "execution_count": 31,
   "metadata": {
    "pycharm": {
     "name": "#%%\n"
    }
   },
   "outputs": [
    {
     "name": "stdout",
     "output_type": "stream",
     "text": [
      "objective (biomass): 0.0298\n",
      "last step PR: 0.2632\n",
      "AGAT: 2.7168\n",
      "BHAA 2.6316\n"
     ]
    }
   ],
   "source": [
    "# WT with BHAC\n",
    "with c3_model:\n",
    "    set_fixed_flux_ratio({'GLYCINE_AMINOTRANSFERASE_RXN_x':1, 'AGAT_x':10},c3_model) #ggt1 reaction is forced\n",
    "    set_fixed_flux_ratio({'SERINE_GLYOXYLATE_AMINOTRANSFERASE_RXN_x':1, 'BHAA_x':10},c3_model) # force weak flux through PR\n",
    "    pFBA = round(pfba(c3_model).fluxes, 4)\n",
    "    print('objective (biomass):', pFBA.get('Arabidopsis_biomass_tx'))\n",
    "    print('last step PR:', pFBA.get('GLY3KIN_RXN_p'))\n",
    "    print('AGAT:', pFBA.get('AGAT_x'))\n",
    "    print('BHAA', pFBA.get('BHAA_x'))"
   ]
  },
  {
   "cell_type": "code",
   "execution_count": 32,
   "metadata": {
    "pycharm": {
     "name": "#%%\n"
    }
   },
   "outputs": [
    {
     "name": "stdout",
     "output_type": "stream",
     "text": [
      "ggt without BHAC\n",
      "Objective: 0.02932\n",
      "----------\n",
      "WT without BHAC\n",
      "Objective: 0.02932\n"
     ]
    }
   ],
   "source": [
    "# pFBA - ggt1 mutant without BHAC\n",
    "print('ggt without BHAC\\nObjective:', pFBA_noBHAC_ggt.get('Arabidopsis_biomass_tx'))\n",
    "\n",
    "print('-'*10)\n",
    "\n",
    "# pFBA - WT without BHAC\n",
    "print('WT without BHAC\\nObjective:', pFBA_noBHAC.get('Arabidopsis_biomass_tx'))"
   ]
  },
  {
   "cell_type": "code",
   "execution_count": 33,
   "metadata": {
    "pycharm": {
     "name": "#%%\n"
    }
   },
   "outputs": [
    {
     "name": "stdout",
     "output_type": "stream",
     "text": [
      "ggt without BHAC\n",
      "PR: 2.84629\n",
      "----------\n",
      "WT without BHAC\n",
      "PR: 2.84629\n"
     ]
    }
   ],
   "source": [
    "# pFBA\n",
    "# pFBA - ggt1 mutant without BHAC\n",
    "print('ggt without BHAC\\nPR:', pFBA_noBHAC_ggt.get('GLY3KIN_RXN_p'))\n",
    "\n",
    "print('-'*10)\n",
    "\n",
    "# pFBA - WT without BHAC\n",
    "print('WT without BHAC\\nPR:', pFBA_noBHAC.get('GLY3KIN_RXN_p'))"
   ]
  },
  {
   "cell_type": "code",
   "execution_count": 34,
   "metadata": {
    "pycharm": {
     "name": "#%%\n"
    }
   },
   "outputs": [
    {
     "name": "stdout",
     "output_type": "stream",
     "text": [
      "ggt1 with BHAC\n",
      "Objective: 0.02985\n",
      "AGAT_x = 2.94461\n",
      "BHAA_x = 2.94461\n",
      "BHAD_x = 2.94461\n",
      "ISR_x = 2.94461\n",
      "----------\n",
      "WT with BHAC\n",
      "Objective: 0.02982\n",
      "AGAT_x = 2.7168\n",
      "BHAA_x = 2.63161\n",
      "BHAD_x = 2.63161\n",
      "ISR_x = 2.63161\n"
     ]
    }
   ],
   "source": [
    "# pFBA\n",
    "# ggt1 mutant with BHAC\n",
    "print('ggt1 with BHAC\\nObjective:', pFBA_BHAC_ggt.get('Arabidopsis_biomass_tx'))\n",
    "for i in bhac_c3:\n",
    "    print(i, '=', pFBA_BHAC_ggt.get(i))\n",
    "\n",
    "print('-'*10)\n",
    "\n",
    "# WT with BHAC\n",
    "print('WT with BHAC\\nObjective:', pFBA_BHAC.get('Arabidopsis_biomass_tx'))\n",
    "for i in bhac_c3:\n",
    "    print(i, '=', pFBA_BHAC.get(i))"
   ]
  },
  {
   "cell_type": "code",
   "execution_count": 35,
   "metadata": {
    "pycharm": {
     "name": "#%%\n"
    }
   },
   "outputs": [],
   "source": [
    "# compare pFBA values from WT and ggt1 WITH BHAC\n",
    "# following statements at the moment not active because of the lengthy output\n",
    "counter = 0\n",
    "#print('comparison pFBA values with BHAC between WT and ggt:\\n')\n",
    "#for i,j in zip(pFBA_BHAC, pFBA_BHAC_ggt):\n",
    "    #if i!=j:\n",
    "        #print(list(pFBA_BHAC.to_dict().keys())[counter])\n",
    "        #print(i,j, '\\n')\n",
    "    #counter += 1"
   ]
  },
  {
   "cell_type": "code",
   "execution_count": 36,
   "metadata": {
    "pycharm": {
     "name": "#%%\n"
    }
   },
   "outputs": [
    {
     "name": "stdout",
     "output_type": "stream",
     "text": [
      "comparison pFBA values with BHAC between WT and ggt:\n",
      "\n",
      "ALANINE_GLYOXYLATE_AMINOTRANSFERASE_RXN_x\n",
      "0.0 2.93843 \n",
      "\n",
      "ALANINE_AMINOTRANSFERASE_RXN_x\n",
      "0.0 -2.93843 \n",
      "\n",
      "DHAP_Pi_pc\n",
      "0.40601 0.0 \n",
      "\n",
      "GAP_Pi_pc\n",
      "3.2185 3.62451 \n",
      "\n",
      "1_PERIOD_2_PERIOD_1_PERIOD_13_RXN_p\n",
      "44.05642 43.8959 \n",
      "\n",
      "GAP_3PGA_pc\n",
      "1.04915 0.64313 \n",
      "\n",
      "RXN_5682_p\n",
      "0.05012 0.0 \n",
      "\n",
      "F16BDEPHOS_RXN_c\n",
      "0.0 0.40601 \n",
      "\n",
      "PREPHENATE_TRANSAMINE_RXN_p\n",
      "0.12116 0.07104 \n",
      "\n",
      "DIHYDROPICRED_RXN_NADP_p\n",
      "0.0 0.1104 \n",
      "\n",
      "DHAP_3PGA_pc\n",
      "0.0 0.40601 \n",
      "\n",
      "INORGPYROPHOSPHAT_RXN_c\n",
      "0.83974 0.43373 \n",
      "\n",
      "DIHYDROPICRED_RXN_NAD_p\n",
      "0.1104 0.0 \n",
      "\n",
      "GAPOXNPHOSPHN_RXN_p\n",
      "-0.05375 -0.21427 \n",
      "\n",
      "GLYCINE_AMINOTRANSFERASE_RXN_x\n",
      "2.93843 0.0 \n",
      "\n",
      "PREPHENATEDEHYDROG_RXN_p\n",
      "0.0 0.05012 \n",
      "\n",
      "TYROSINE_AMINOTRANSFERASE_RXN_p\n",
      "0.0 0.05012 \n",
      "\n",
      "2_PERIOD_7_PERIOD_1_PERIOD_90_RXN_c\n",
      "-0.40601 0.0 \n",
      "\n",
      "unlProtHYPO_c\n",
      "30.36336 30.76937 \n",
      "\n"
     ]
    }
   ],
   "source": [
    "# compare pFBA values from WT and ggt1 WITHOUT BHAC\n",
    "counter = 0\n",
    "print('comparison pFBA values with BHAC between WT and ggt:\\n')\n",
    "for i,j in zip(pFBA_noBHAC, pFBA_noBHAC_ggt):\n",
    "    if i!=j:\n",
    "        print(list(pFBA_noBHAC.to_dict().keys())[counter])\n",
    "        print(i,j, '\\n')\n",
    "    counter += 1"
   ]
  },
  {
   "cell_type": "code",
   "execution_count": 37,
   "metadata": {
    "pycharm": {
     "name": "#%%\n"
    }
   },
   "outputs": [],
   "source": [
    "# compare results from pFVA WITHOUT BHAC\n",
    "# important differences between ggt1 and WT:\n",
    "# (1) ALANINE_GLYOXYLATE_AMINOTRANSFERASE_RXN_x\n",
    "# ggt1: 2.93 and WT: 0\n",
    "# (2) ALANINE_AMINOTRANSFERASE_RXN_x\n",
    "# ggt1: -2.93 and WT: 0\n",
    "\n",
    "# this is ggt1 reactions, that is of course knocked out in the mutant\n",
    "# (3) GLYCINE_AMINOTRANSFERASE_RXN_x\n",
    "# ggt1: 0 and WT: 2.93"
   ]
  },
  {
   "cell_type": "code",
   "execution_count": 38,
   "metadata": {
    "pycharm": {
     "name": "#%%\n"
    }
   },
   "outputs": [
    {
     "data": {
      "text/html": [
       "\n",
       "        <table>\n",
       "            <tr>\n",
       "                <td><strong>Reaction identifier</strong></td><td>ALANINE_GLYOXYLATE_AMINOTRANSFERASE_RXN_x</td>\n",
       "            </tr><tr>\n",
       "                <td><strong>Name</strong></td><td>ALANINE--GLYOXYLATE-AMINOTRANSFERASE-RXN:Alanine--glyoxylate aminotransferase</td>\n",
       "            </tr><tr>\n",
       "                <td><strong>Memory address</strong></td>\n",
       "                <td>0x23527983c48</td>\n",
       "            </tr><tr>\n",
       "                <td><strong>Stoichiometry</strong></td>\n",
       "                <td>\n",
       "                    <p style='text-align:right'>GLYOX_x + L_ALPHA_ALANINE_x --> GLY_x + PYRUVATE_x</p>\n",
       "                    <p style='text-align:right'>GLYOX + L-ALPHA-ALANINE --> GLY + PYRUVATE</p>\n",
       "                </td>\n",
       "            </tr><tr>\n",
       "                <td><strong>GPR</strong></td><td></td>\n",
       "            </tr><tr>\n",
       "                <td><strong>Lower bound</strong></td><td>0.0</td>\n",
       "            </tr><tr>\n",
       "                <td><strong>Upper bound</strong></td><td>1000.0</td>\n",
       "            </tr>\n",
       "        </table>\n",
       "        "
      ],
      "text/plain": [
       "<Reaction ALANINE_GLYOXYLATE_AMINOTRANSFERASE_RXN_x at 0x23527983c48>"
      ]
     },
     "execution_count": 38,
     "metadata": {},
     "output_type": "execute_result"
    }
   ],
   "source": [
    "c3_model.reactions.get_by_id('ALANINE_GLYOXYLATE_AMINOTRANSFERASE_RXN_x')"
   ]
  },
  {
   "cell_type": "code",
   "execution_count": 39,
   "metadata": {
    "pycharm": {
     "name": "#%%\n"
    }
   },
   "outputs": [
    {
     "data": {
      "text/html": [
       "\n",
       "        <table>\n",
       "            <tr>\n",
       "                <td><strong>Reaction identifier</strong></td><td>ALANINE_AMINOTRANSFERASE_RXN_x</td>\n",
       "            </tr><tr>\n",
       "                <td><strong>Name</strong></td><td>ALANINE-AMINOTRANSFERASE-RXN:Alanine aminotransferase</td>\n",
       "            </tr><tr>\n",
       "                <td><strong>Memory address</strong></td>\n",
       "                <td>0x23527991f48</td>\n",
       "            </tr><tr>\n",
       "                <td><strong>Stoichiometry</strong></td>\n",
       "                <td>\n",
       "                    <p style='text-align:right'>2_KETOGLUTARATE_x + L_ALPHA_ALANINE_x <=> GLT_x + PYRUVATE_x</p>\n",
       "                    <p style='text-align:right'>2-KETOGLUTARATE + L-ALPHA-ALANINE <=> GLT + PYRUVATE</p>\n",
       "                </td>\n",
       "            </tr><tr>\n",
       "                <td><strong>GPR</strong></td><td></td>\n",
       "            </tr><tr>\n",
       "                <td><strong>Lower bound</strong></td><td>-1000.0</td>\n",
       "            </tr><tr>\n",
       "                <td><strong>Upper bound</strong></td><td>1000.0</td>\n",
       "            </tr>\n",
       "        </table>\n",
       "        "
      ],
      "text/plain": [
       "<Reaction ALANINE_AMINOTRANSFERASE_RXN_x at 0x23527991f48>"
      ]
     },
     "execution_count": 39,
     "metadata": {},
     "output_type": "execute_result"
    }
   ],
   "source": [
    "c3_model.reactions.get_by_id('ALANINE_AMINOTRANSFERASE_RXN_x')"
   ]
  },
  {
   "cell_type": "code",
   "execution_count": 40,
   "metadata": {
    "pycharm": {
     "name": "#%%\n"
    }
   },
   "outputs": [
    {
     "data": {
      "text/html": [
       "\n",
       "        <table>\n",
       "            <tr>\n",
       "                <td><strong>Reaction identifier</strong></td><td>GLYCINE_AMINOTRANSFERASE_RXN_x</td>\n",
       "            </tr><tr>\n",
       "                <td><strong>Name</strong></td><td>GLYCINE-AMINOTRANSFERASE-RXN:Glycine aminotransferase</td>\n",
       "            </tr><tr>\n",
       "                <td><strong>Memory address</strong></td>\n",
       "                <td>0x2352797ec08</td>\n",
       "            </tr><tr>\n",
       "                <td><strong>Stoichiometry</strong></td>\n",
       "                <td>\n",
       "                    <p style='text-align:right'>GLT_x + GLYOX_x <=> 2_KETOGLUTARATE_x + GLY_x</p>\n",
       "                    <p style='text-align:right'>GLT + GLYOX <=> 2-KETOGLUTARATE + GLY</p>\n",
       "                </td>\n",
       "            </tr><tr>\n",
       "                <td><strong>GPR</strong></td><td></td>\n",
       "            </tr><tr>\n",
       "                <td><strong>Lower bound</strong></td><td>-1000.0</td>\n",
       "            </tr><tr>\n",
       "                <td><strong>Upper bound</strong></td><td>1000.0</td>\n",
       "            </tr>\n",
       "        </table>\n",
       "        "
      ],
      "text/plain": [
       "<Reaction GLYCINE_AMINOTRANSFERASE_RXN_x at 0x2352797ec08>"
      ]
     },
     "execution_count": 40,
     "metadata": {},
     "output_type": "execute_result"
    }
   ],
   "source": [
    "c3_model.reactions.get_by_id('GLYCINE_AMINOTRANSFERASE_RXN_x')"
   ]
  },
  {
   "cell_type": "code",
   "execution_count": 41,
   "metadata": {
    "pycharm": {
     "name": "#%%\n"
    }
   },
   "outputs": [
    {
     "name": "stdout",
     "output_type": "stream",
     "text": [
      "knocked out reaction for ggt1 mutant:\n",
      "GLYCINE_AMINOTRANSFERASE_RXN_x: GLT_x + GLYOX_x <=> 2_KETOGLUTARATE_x + GLY_x\n",
      "\n",
      "other two reactions that mutant uses to bypass the knocked out reaction:\n",
      "ALANINE_GLYOXYLATE_AMINOTRANSFERASE_RXN_x: GLYOX_x + L_ALPHA_ALANINE_x --> GLY_x + PYRUVATE_x\n",
      "ALANINE_AMINOTRANSFERASE_RXN_x: 2_KETOGLUTARATE_x + L_ALPHA_ALANINE_x <=> GLT_x + PYRUVATE_x\n"
     ]
    }
   ],
   "source": [
    "print('knocked out reaction for ggt1 mutant:')\n",
    "print(c3_model.reactions.get_by_id('GLYCINE_AMINOTRANSFERASE_RXN_x'))\n",
    "print('\\nother two reactions that mutant uses to bypass the knocked out reaction:')\n",
    "print(c3_model.reactions.get_by_id('ALANINE_GLYOXYLATE_AMINOTRANSFERASE_RXN_x'))\n",
    "print(c3_model.reactions.get_by_id('ALANINE_AMINOTRANSFERASE_RXN_x'))"
   ]
  },
  {
   "cell_type": "markdown",
   "metadata": {},
   "source": [
    "### Biomass comparison - plot"
   ]
  },
  {
   "cell_type": "code",
   "execution_count": 42,
   "metadata": {
    "pycharm": {
     "name": "#%%\n"
    }
   },
   "outputs": [],
   "source": [
    "# general plot aesthetics\n",
    "SMALL_SIZE = 13\n",
    "MEDIUM_SIZE = 18\n",
    "BIGGER_SIZE = 22\n",
    "\n",
    "plt.rc('font', size=SMALL_SIZE)          # controls default text sizes\n",
    "plt.rc('axes', titlesize=MEDIUM_SIZE)    # fontsize of the axes title\n",
    "plt.rc('axes', labelsize=MEDIUM_SIZE)    # fontsize of the x and y labels\n",
    "plt.rc('xtick', labelsize=SMALL_SIZE)    # fontsize of the tick labels\n",
    "plt.rc('ytick', labelsize=SMALL_SIZE)    # fontsize of the tick labels\n",
    "plt.rc('legend', fontsize=SMALL_SIZE)    # legend fontsize\n",
    "plt.rc('figure', titlesize=BIGGER_SIZE)  # fontsize of the figure title"
   ]
  },
  {
   "cell_type": "code",
   "execution_count": 43,
   "metadata": {
    "pycharm": {
     "name": "#%%\n"
    }
   },
   "outputs": [
    {
     "data": {
      "image/png": "[encoded data removed]",
      "text/plain": [
       "<Figure size 720x324 with 1 Axes>"
      ]
     },
     "metadata": {
      "needs_background": "light"
     },
     "output_type": "display_data"
    }
   ],
   "source": [
    "# plot to compare the values through the objective function (Arabidopsis biomass) between the 4 sceanrios\n",
    "\n",
    "biomass_val = [pFBA_noBHAC.get('Arabidopsis_biomass_tx'), pFBA_BHAC.get('Arabidopsis_biomass_tx'), pFBA_noBHAC_ggt.get('Arabidopsis_biomass_tx'), pFBA_BHAC_ggt.get('Arabidopsis_biomass_tx')]\n",
    "\n",
    "fig = plt.figure(figsize=(10,4.5))\n",
    "ax = fig.add_axes([0,0,1,1])\n",
    "\n",
    "# labels of a-axis\n",
    "x_titles = ['WT \\n without BHAC', 'WT \\n with BHAC', 'ggt1 \\n without BHAC', 'ggt1 \\n with BHAC']\n",
    "\n",
    "# y-axis\n",
    "ax.set(ylabel='Absolute flux values \\n [\\u03BCmol m$^{-2}$ s$^{-1}$]')\n",
    "ax.set_ylim(0,0.035)\n",
    "\n",
    "# title plot\n",
    "ax.set_title('Flux values through the biomass reaction')\n",
    "\n",
    "# plot data\n",
    "#plt.bar(x_titles,biomass_val, width=0.5)\n",
    "\n",
    "# plot data and add values to each bar\n",
    "bars = ax.bar(x_titles, biomass_val, width=0.5)\n",
    "ax.bar_label(bars)\n",
    "\n",
    "plt.show()\n",
    "#plt.savefig('figures/biomass_comparison.png', dpi=300, bbox_inches='tight')"
   ]
  },
  {
   "cell_type": "markdown",
   "metadata": {},
   "source": [
    "### Alternatives for AGAT reaction"
   ]
  },
  {
   "cell_type": "code",
   "execution_count": 44,
   "metadata": {
    "pycharm": {
     "name": "#%%\n"
    }
   },
   "outputs": [
    {
     "name": "stdout",
     "output_type": "stream",
     "text": [
      "            minimum     maximum\n",
      "AGAT_x -1000.000000  1000.00000\n",
      "BHAA_x     2.897703     3.22272\n",
      "BHAD_x     2.897703     3.22272\n",
      "ISR_x      2.897703     3.22272\n"
     ]
    }
   ],
   "source": [
    "print(flux_variability_analysis(c3_model, bhac_c3))"
   ]
  },
  {
   "cell_type": "code",
   "execution_count": 45,
   "metadata": {
    "pycharm": {
     "name": "#%%\n"
    }
   },
   "outputs": [
    {
     "name": "stdout",
     "output_type": "stream",
     "text": [
      "L_ASPARTATE_xc: L_ASPARTATE_x <=> L_ASPARTATE_c\n",
      "ISR_x: IMINOASPARTATE_x + NADH_x + PROTON_x <=> L_ASPARTATE_x + NAD_x\n",
      "ASPAMINOTRANS_RXN_x: 2_KETOGLUTARATE_x + L_ASPARTATE_x <=> GLT_x + OXALACETIC_ACID_x\n",
      "AGAT_x: GLYOX_x + L_ASPARTATE_x <=> GLY_x + OXALACETIC_ACID_x\n"
     ]
    }
   ],
   "source": [
    "for i in c3_model.metabolites.get_by_id('L_ASPARTATE_x').reactions:\n",
    "    print(i)"
   ]
  },
  {
   "cell_type": "code",
   "execution_count": 46,
   "metadata": {
    "pycharm": {
     "name": "#%%\n"
    }
   },
   "outputs": [],
   "source": [
    "AGAT_reacts = ['ASPAMINOTRANS_RXN_x' , 'ALANINE_GLYOXYLATE_AMINOTRANSFERASE_RXN_x', 'SERINE_GLYOXYLATE_AMINOTRANSFERASE_RXN_x', 'GLYCINE_AMINOTRANSFERASE_RXN_x']"
   ]
  },
  {
   "cell_type": "code",
   "execution_count": 47,
   "metadata": {
    "pycharm": {
     "name": "#%%\n"
    }
   },
   "outputs": [
    {
     "name": "stdout",
     "output_type": "stream",
     "text": [
      "                     fluxes\n",
      "ASPAMINOTRANS_RXN_x     0.0\n",
      "          fluxes\n",
      "AGAT_x  2.666493\n",
      "                                           fluxes\n",
      "ALANINE_GLYOXYLATE_AMINOTRANSFERASE_RXN_x     0.0\n",
      "         fluxes\n",
      "BHAA_x  3.22272\n",
      "                                          fluxes\n",
      "SERINE_GLYOXYLATE_AMINOTRANSFERASE_RXN_x     0.0\n",
      "         fluxes\n",
      "BHAD_x  3.22272\n",
      "                                fluxes\n",
      "GLYCINE_AMINOTRANSFERASE_RXN_x     0.0\n",
      "        fluxes\n",
      "ISR_x  3.22272\n",
      "0.02984838953494825\n"
     ]
    }
   ],
   "source": [
    "a = c3_model.optimize().fluxes.to_frame()\n",
    "for i,j in zip(AGAT_reacts,bhac_c3):\n",
    "    print(a[a.index == i])\n",
    "    print(a[a.index == j])\n",
    "print(c3_model.optimize().objective_value)"
   ]
  },
  {
   "cell_type": "code",
   "execution_count": 48,
   "metadata": {
    "pycharm": {
     "name": "#%%\n"
    }
   },
   "outputs": [
    {
     "data": {
      "text/html": [
       "<div>\n",
       "<style scoped>\n",
       "    .dataframe tbody tr th:only-of-type {\n",
       "        vertical-align: middle;\n",
       "    }\n",
       "\n",
       "    .dataframe tbody tr th {\n",
       "        vertical-align: top;\n",
       "    }\n",
       "\n",
       "    .dataframe thead th {\n",
       "        text-align: right;\n",
       "    }\n",
       "</style>\n",
       "<table border=\"1\" class=\"dataframe\">\n",
       "  <thead>\n",
       "    <tr style=\"text-align: right;\">\n",
       "      <th></th>\n",
       "      <th>minimum</th>\n",
       "      <th>maximum</th>\n",
       "    </tr>\n",
       "  </thead>\n",
       "  <tbody>\n",
       "    <tr>\n",
       "      <th>ASPAMINOTRANS_RXN_x</th>\n",
       "      <td>-1000.0</td>\n",
       "      <td>1.000000e+03</td>\n",
       "    </tr>\n",
       "    <tr>\n",
       "      <th>ALANINE_GLYOXYLATE_AMINOTRANSFERASE_RXN_x</th>\n",
       "      <td>0.0</td>\n",
       "      <td>1.000000e+03</td>\n",
       "    </tr>\n",
       "    <tr>\n",
       "      <th>SERINE_GLYOXYLATE_AMINOTRANSFERASE_RXN_x</th>\n",
       "      <td>0.0</td>\n",
       "      <td>8.640401e-12</td>\n",
       "    </tr>\n",
       "    <tr>\n",
       "      <th>GLYCINE_AMINOTRANSFERASE_RXN_x</th>\n",
       "      <td>-1000.0</td>\n",
       "      <td>1.000000e+03</td>\n",
       "    </tr>\n",
       "  </tbody>\n",
       "</table>\n",
       "</div>"
      ],
      "text/plain": [
       "                                           minimum       maximum\n",
       "ASPAMINOTRANS_RXN_x                        -1000.0  1.000000e+03\n",
       "ALANINE_GLYOXYLATE_AMINOTRANSFERASE_RXN_x      0.0  1.000000e+03\n",
       "SERINE_GLYOXYLATE_AMINOTRANSFERASE_RXN_x       0.0  8.640401e-12\n",
       "GLYCINE_AMINOTRANSFERASE_RXN_x             -1000.0  1.000000e+03"
      ]
     },
     "execution_count": 48,
     "metadata": {},
     "output_type": "execute_result"
    }
   ],
   "source": [
    "flux_variability_analysis(c3_model, AGAT_reacts)"
   ]
  },
  {
   "cell_type": "code",
   "execution_count": 49,
   "metadata": {
    "pycharm": {
     "name": "#%%\n"
    }
   },
   "outputs": [
    {
     "name": "stdout",
     "output_type": "stream",
     "text": [
      "          fluxes\n",
      "AGAT_x  2.666493\n",
      "         fluxes\n",
      "BHAA_x  3.22272\n",
      "         fluxes\n",
      "BHAD_x  3.22272\n",
      "        fluxes\n",
      "ISR_x  3.22272\n",
      "flux through objective: 0.02984838953494825\n"
     ]
    }
   ],
   "source": [
    "# knocking out all other reactions, where metabolites from AGAT are part off\n",
    "with c3_model:\n",
    "    for i in AGAT_reacts:\n",
    "        c3_model.reactions.get_by_id(i).knock_out()\n",
    "    a = c3_model.optimize().fluxes.to_frame()\n",
    "    for i in bhac_c3:\n",
    "        print(a[a.index == i])\n",
    "    print('flux through objective:', c3_model.optimize().objective_value)"
   ]
  },
  {
   "cell_type": "code",
   "execution_count": 50,
   "metadata": {
    "pycharm": {
     "name": "#%%\n"
    }
   },
   "outputs": [
    {
     "data": {
      "text/html": [
       "\n",
       "        <table>\n",
       "            <tr>\n",
       "                <td><strong>Reaction identifier</strong></td><td>ASPAMINOTRANS_RXN_x</td>\n",
       "            </tr><tr>\n",
       "                <td><strong>Name</strong></td><td>ASPAMINOTRANS-RXN:Aspartate aminotransferase</td>\n",
       "            </tr><tr>\n",
       "                <td><strong>Memory address</strong></td>\n",
       "                <td>0x23527af9a48</td>\n",
       "            </tr><tr>\n",
       "                <td><strong>Stoichiometry</strong></td>\n",
       "                <td>\n",
       "                    <p style='text-align:right'>2_KETOGLUTARATE_x + L_ASPARTATE_x <=> GLT_x + OXALACETIC_ACID_x</p>\n",
       "                    <p style='text-align:right'>2-KETOGLUTARATE + L-ASPARTATE <=> GLT + OXALACETIC_ACID[x]</p>\n",
       "                </td>\n",
       "            </tr><tr>\n",
       "                <td><strong>GPR</strong></td><td></td>\n",
       "            </tr><tr>\n",
       "                <td><strong>Lower bound</strong></td><td>-1000.0</td>\n",
       "            </tr><tr>\n",
       "                <td><strong>Upper bound</strong></td><td>1000.0</td>\n",
       "            </tr>\n",
       "        </table>\n",
       "        "
      ],
      "text/plain": [
       "<Reaction ASPAMINOTRANS_RXN_x at 0x23527af9a48>"
      ]
     },
     "execution_count": 50,
     "metadata": {},
     "output_type": "execute_result"
    }
   ],
   "source": [
    "c3_model.reactions.get_by_id('ASPAMINOTRANS_RXN_x')"
   ]
  },
  {
   "cell_type": "markdown",
   "metadata": {},
   "source": [
    "##Analyses to compare Results from Roell et al. with our model"
   ]
  },
  {
   "cell_type": "markdown",
   "metadata": {},
   "source": [
    "### Enzyme activity assay\n",
    "Roell et al.: AGAT has the highest activity compared to BHAA and BHAD"
   ]
  },
  {
   "cell_type": "markdown",
   "metadata": {},
   "source": []
  },
  {
   "cell_type": "code",
   "execution_count": 51,
   "metadata": {
    "pycharm": {
     "name": "#%%\n"
    }
   },
   "outputs": [
    {
     "name": "stdout",
     "output_type": "stream",
     "text": [
      "           minimum   maximum\n",
      "AGAT_x -906.374109  2.716800\n",
      "BHAA_x    2.631608  2.631608\n",
      "BHAD_x    2.631608  2.631608\n",
      "ISR_x     2.631608  2.631608\n"
     ]
    }
   ],
   "source": [
    "# FVA - WT with BHAC:\n",
    "with c3_model:\n",
    "    set_fixed_flux_ratio({'GLYCINE_AMINOTRANSFERASE_RXN_x':1, 'AGAT_x':10},c3_model) #ggt1 reaction is forced\n",
    "    set_fixed_flux_ratio({'SERINE_GLYOXYLATE_AMINOTRANSFERASE_RXN_x':1, 'BHAA_x':10},c3_model)\n",
    "\n",
    "    print(flux_variability_analysis(c3_model, bhac_c3))"
   ]
  },
  {
   "cell_type": "code",
   "execution_count": 52,
   "metadata": {
    "pycharm": {
     "name": "#%%\n"
    }
   },
   "outputs": [
    {
     "name": "stdout",
     "output_type": "stream",
     "text": [
      "           minimum  maximum\n",
      "AGAT_x -997.333507  2.99151\n",
      "BHAA_x    2.897703  3.22272\n",
      "BHAD_x    2.897703  3.22272\n",
      "ISR_x     2.897703  3.22272\n"
     ]
    }
   ],
   "source": [
    "# FVA - ggt with BHAC:\n",
    "with c3_model:\n",
    "    c3_model.reactions.get_by_id('GLYCINE_AMINOTRANSFERASE_RXN_x').knock_out()\n",
    "\n",
    "    print(flux_variability_analysis(c3_model, bhac_c3))"
   ]
  },
  {
   "cell_type": "markdown",
   "metadata": {},
   "source": [
    "Results show, that AGAT is capable to have a higher flux compared to the other BHAC reactions when looking at the wild type.\n",
    "For the ggt1-1 mutant we can observe the opposite contradicting Roell et al."
   ]
  },
  {
   "cell_type": "code",
   "execution_count": 53,
   "metadata": {
    "pycharm": {
     "name": "#%%\n"
    }
   },
   "outputs": [
    {
     "name": "stdout",
     "output_type": "stream",
     "text": [
      "         minimum   maximum\n",
      "AGAT_x  2.716800  2.716800\n",
      "BHAA_x  2.631608  2.631608\n",
      "BHAD_x  2.631608  2.631608\n",
      "ISR_x   2.631608  2.631608\n"
     ]
    }
   ],
   "source": [
    "# pFVA - WT with BHAC\n",
    "with c3_model:\n",
    "    set_fixed_flux_ratio({'GLYCINE_AMINOTRANSFERASE_RXN_x':1, 'AGAT_x':10},c3_model) #ggt1 reaction is forced\n",
    "    set_fixed_flux_ratio({'SERINE_GLYOXYLATE_AMINOTRANSFERASE_RXN_x':1, 'BHAA_x':10},c3_model)\n",
    "\n",
    "    print(flux_variability_analysis(c3_model, bhac_c3, pfba_factor=1))"
   ]
  },
  {
   "cell_type": "code",
   "execution_count": 54,
   "metadata": {
    "pycharm": {
     "name": "#%%\n"
    }
   },
   "outputs": [
    {
     "name": "stdout",
     "output_type": "stream",
     "text": [
      "         minimum   maximum\n",
      "AGAT_x  2.944606  2.944606\n",
      "BHAA_x  2.944606  2.944606\n",
      "BHAD_x  2.944606  2.944606\n",
      "ISR_x   2.944606  2.944606\n"
     ]
    }
   ],
   "source": [
    "# pFVA - ggt with BHAC\n",
    "with c3_model:\n",
    "    c3_model.reactions.get_by_id('GLYCINE_AMINOTRANSFERASE_RXN_x').knock_out()\n",
    "\n",
    "    print(flux_variability_analysis(c3_model, bhac_c3, pfba_factor=1))"
   ]
  },
  {
   "cell_type": "markdown",
   "metadata": {
    "pycharm": {
     "name": "#%% md\n"
    }
   },
   "source": [
    "In the wild type the results from Roell et al. are confirmed, because the flux through the AGAT reactions is higher.\n",
    "For the mutant this is not the case, all reactions have the same flux which contradicts Roell et al."
   ]
  },
  {
   "cell_type": "code",
   "execution_count": 55,
   "metadata": {
    "pycharm": {
     "name": "#%%\n"
    }
   },
   "outputs": [
    {
     "name": "stdout",
     "output_type": "stream",
     "text": [
      "AGAT: 1000.0\n",
      "BHAA: 49.96860439560434\n",
      "BHAD: 49.96860439560434\n",
      "ISR: 49.96860439560434\n"
     ]
    }
   ],
   "source": [
    "# checking for AGAT, BHAA, BHAD and ISR what fluxes these reactions can achieve when they are objective\n",
    "with c3_model:\n",
    "    c3_model.objective = 'AGAT_x'\n",
    "    print('AGAT:', c3_model.optimize().objective_value)\n",
    "\n",
    "with c3_model:\n",
    "    c3_model.objective = 'BHAA_x'\n",
    "    print('BHAA:', c3_model.optimize().objective_value)\n",
    "\n",
    "with c3_model:\n",
    "    c3_model.objective = 'BHAD_x'\n",
    "    print('BHAD:', c3_model.optimize().objective_value)\n",
    "\n",
    "with c3_model:\n",
    "    c3_model.objective = 'ISR_x'\n",
    "    print('ISR:', c3_model.optimize().objective_value)"
   ]
  },
  {
   "cell_type": "markdown",
   "metadata": {},
   "source": [
    "AGAT can have highest flux theoretically (all 3 reactions have the same upper/lower bounds)"
   ]
  },
  {
   "cell_type": "code",
   "execution_count": 56,
   "metadata": {
    "pycharm": {
     "name": "#%%\n"
    }
   },
   "outputs": [
    {
     "name": "stdout",
     "output_type": "stream",
     "text": [
      "AGAT_x 5.68314\n",
      "BHAA_x 0.0\n",
      "BHAD_x 0.0\n",
      "ISR_x 0.0\n"
     ]
    }
   ],
   "source": [
    "# pFBA - WT with BHAC\n",
    "with c3_model:\n",
    "    set_fixed_flux_ratio({'SERINE_GLYOXYLATE_AMINOTRANSFERASE_RXN_x':1, 'BHAA_x':10},c3_model)\n",
    "    # set_fixed_flux_ratio({'GLYCINE_AMINOTRANSFERASE_RXN_x':1, 'AGAT_x':10},c3_model)\n",
    "    # the ratio for AGAT can't be active, because this reaction gets knocked out (=0), so AGAT would also be zero\n",
    "    for i in AGAT_reacts:\n",
    "        c3_model.reactions.get_by_id(i).knock_out()\n",
    "    pFBA = round(pfba(c3_model).fluxes, 5)\n",
    "    for i in bhac_c3:\n",
    "        print(i, pFBA.get(i))\n"
   ]
  },
  {
   "cell_type": "markdown",
   "metadata": {},
   "source": [
    "If we knock out the other reactions that can potentially replace AGAT, the AGAT reaction is the only one which is active out of all BHAC reactions.\n",
    "If we would not apply the Serine-Glyoxylate-Aminotransferase : BHAA ratio, we get values that match the ggt1-1 mutant results"
   ]
  },
  {
   "cell_type": "markdown",
   "metadata": {},
   "source": [
    "#### Fig 2B - BHAC enzyme activity"
   ]
  },
  {
   "cell_type": "code",
   "execution_count": 57,
   "metadata": {
    "pycharm": {
     "name": "#%%\n"
    }
   },
   "outputs": [],
   "source": [
    "# get values for all BHAc reactions for the 4 scenarios\n",
    "AGAT_val = [abs(pFBA_noBHAC.get('AGAT_x')), abs(pFBA_BHAC.get('AGAT_x')), abs(pFBA_noBHAC_ggt.get('AGAT_x')), abs(pFBA_BHAC_ggt.get('AGAT_x'))]\n",
    "BHAA_val = [abs(pFBA_noBHAC.get('BHAA_x')), abs(pFBA_BHAC.get('BHAA_x')), abs(pFBA_noBHAC_ggt.get('BHAA_x')), abs(pFBA_BHAC_ggt.get('BHAA_x'))]\n",
    "BHAD_val = [abs(pFBA_noBHAC.get('BHAD_x')), abs(pFBA_BHAC.get('BHAD_x')), abs(pFBA_noBHAC_ggt.get('BHAD_x')), abs(pFBA_BHAC_ggt.get('BHAD_x'))]\n",
    "ISR_val = [abs(pFBA_noBHAC.get('ISR_x')), abs(pFBA_BHAC.get('ISR_x')), abs(pFBA_noBHAC_ggt.get('ISR_x')), abs(pFBA_BHAC_ggt.get('ISR_x'))]"
   ]
  },
  {
   "cell_type": "code",
   "execution_count": 58,
   "metadata": {
    "pycharm": {
     "name": "#%%\n"
    }
   },
   "outputs": [
    {
     "name": "stdout",
     "output_type": "stream",
     "text": [
      "[0.0, 2.7168, 0.0, 2.94461] [0.0, 2.63161, 0.0, 2.94461] [0.0, 2.63161, 0.0, 2.94461] [0.0, 2.63161, 0.0, 2.94461]\n"
     ]
    }
   ],
   "source": [
    "print(AGAT_val, BHAD_val, BHAA_val, ISR_val)"
   ]
  },
  {
   "cell_type": "code",
   "execution_count": 59,
   "metadata": {
    "pycharm": {
     "name": "#%%\n"
    }
   },
   "outputs": [],
   "source": [
    "# general plot aesthetics\n",
    "SMALL_SIZE = 13*1.7\n",
    "MEDIUM_SIZE = 18*1.7\n",
    "BIGGER_SIZE = 22*1.7\n",
    "\n",
    "plt.rc('font', size=SMALL_SIZE)          # controls default text sizes\n",
    "plt.rc('axes', titlesize=MEDIUM_SIZE)    # fontsize of the axes title\n",
    "plt.rc('axes', labelsize=MEDIUM_SIZE)    # fontsize of the x and y labels\n",
    "plt.rc('xtick', labelsize=SMALL_SIZE)    # fontsize of the tick labels\n",
    "plt.rc('ytick', labelsize=SMALL_SIZE)    # fontsize of the tick labels\n",
    "plt.rc('legend', fontsize=SMALL_SIZE)    # legend fontsize\n",
    "plt.rc('figure', titlesize=BIGGER_SIZE)  # fontsize of the figure title"
   ]
  },
  {
   "cell_type": "code",
   "execution_count": 60,
   "metadata": {
    "pycharm": {
     "name": "#%%\n"
    }
   },
   "outputs": [
    {
     "data": {
      "image/png": "[encoded data removed]",
      "text/plain": [
       "<Figure size 1800x1440 with 6 Axes>"
      ]
     },
     "metadata": {
      "needs_background": "light"
     },
     "output_type": "display_data"
    }
   ],
   "source": [
    "fig, ((ax1, ax2), (ax3, ax4)) = plt.subplots(2, 2, figsize=(25,20), sharey='all')\n",
    "#plt.subplots_adjust(left=None, bottom=None, right=None, top=0.8, wspace=None, hspace=None)\n",
    "\n",
    "# plot title\n",
    "fig.suptitle('Flux values through BHAC reactions in ambient air')\n",
    "\n",
    "# labeling of the x-axis\n",
    "x_titles = ['WT \\n without BHAC', 'WT \\n with BHAC', 'ggt1 \\n without BHAC', 'ggt1 \\n with BHAC']\n",
    "\n",
    "# labeling of the y-axis\n",
    "ax1.set(ylabel='Absolute flux values \\n [\\u03BCmol m$^{-2}$ s$^{-1}$]')\n",
    "ax3.set(ylabel='Absolute flux values \\n [\\u03BCmol m$^{-2}$ s$^{-1}$]')\n",
    "\n",
    "# second y-axis on the right sight of the plot\n",
    "ax5 = ax4.twinx()\n",
    "ax5.set_ylim(0,3.35)\n",
    "ax6 = ax2.twinx()\n",
    "ax6.set_ylim(0,3.35)\n",
    "\n",
    "# first plot for AGAT\n",
    "ax1.bar(x_titles, AGAT_val, width=0.5, color=['#949998', '#42938B', 'r', '#75AAE5'])\n",
    "ax1.set_title('AGAT')\n",
    "ax1.set_ylim(0,3.35)\n",
    "\n",
    "# second plot for BHAA\n",
    "ax2.bar(x_titles, BHAA_val, width=0.5, color=['#949998', '#42938B', 'r', '#75AAE5'])\n",
    "ax2.set_title('BHAA')\n",
    "ax2.set_ylim(0,3.35)\n",
    "\n",
    "# third plot for BHAD\n",
    "ax3.bar(x_titles, BHAD_val, width=0.5, color=['#949998', '#42938B', 'r', '#75AAE5'])\n",
    "ax3.set_title('BHAD')\n",
    "ax3.set_ylim(0,3.35)\n",
    "\n",
    "# fourth plot for ISR\n",
    "ax4.bar(x_titles, ISR_val, width=0.5, color=['#949998', '#42938B', 'r', '#75AAE5'])\n",
    "ax4.set_title('ISR')\n",
    "ax4.set_ylim(0,3.35)\n",
    "\n",
    "plt.show()\n",
    "#plt.savefig('figures/fig2b.png', dpi=300)"
   ]
  },
  {
   "cell_type": "markdown",
   "metadata": {},
   "source": [
    "### Detection of unique metabolites of BHAC\n",
    "Roell et al.: beta-Hydroxyaspartate (BHA) unique for BHAC and is not naturally found in Arabidopsis"
   ]
  },
  {
   "cell_type": "code",
   "execution_count": 61,
   "metadata": {
    "pycharm": {
     "name": "#%%\n"
    }
   },
   "outputs": [
    {
     "name": "stdout",
     "output_type": "stream",
     "text": [
      "[<Metabolite BETA_HYDROXYASPARTATE_x at 0x2352793e208>]\n",
      "[<Metabolite DIHYDROXY_ACETONE_PHOSPHATE_c at 0x23527901a48>, <Metabolite DIHYDROXY_ACETONE_PHOSPHATE_p at 0x235279040c8>, <Metabolite 5_HYDROXY_ACETOVANILLONE_c at 0x2352793b2c8>, <Metabolite a5_HYDROXY_ACETOVANILLONE_c at 0x2352793b308>]\n",
      "[<Metabolite L_ASPARTATE_x at 0x2352787f488>, <Metabolite CARBAMYUL_L_ASPARTATE_p at 0x2352789bd08>, <Metabolite L_ASPARTATE_c at 0x235278d9048>, <Metabolite L_ASPARTATE_m at 0x235278d9208>, <Metabolite L_ASPARTATE_p at 0x235278d9888>, <Metabolite L_ASPARTATE_v at 0x235278d9a88>, <Metabolite L_ASPARTATE_SEMIALDEHYDE_p at 0x235279251c8>, <Metabolite BETA_HYDROXYASPARTATE_x at 0x2352793e208>, <Metabolite IMINOASPARTATE_x at 0x2352793e108>]\n"
     ]
    }
   ],
   "source": [
    "print(c3_model.metabolites.query('HYDROXYASPARTATE'))\n",
    "print(c3_model.metabolites.query('HYDROXY_A'))\n",
    "print(c3_model.metabolites.query('ASPARTATE'))\n",
    "# there are no other metabolites in the model that could be BHA besides the BETA_HYDROXYASPARTATE_x I added for the BHAC"
   ]
  },
  {
   "cell_type": "code",
   "execution_count": 62,
   "metadata": {
    "pycharm": {
     "name": "#%%\n"
    }
   },
   "outputs": [
    {
     "name": "stdout",
     "output_type": "stream",
     "text": [
      "BHAA_x in wt without BHAC: 0.0\n",
      "BHAA_x in ggt without BHAC: 0.0\n",
      "BHAA_x in wt with BHAC: 2.63161\n",
      "BHAA_x in ggt with BHAC: 2.94461\n"
     ]
    }
   ],
   "source": [
    "print('BHAA_x in wt without BHAC:', pFBA_noBHAC.get('BHAA_x'))\n",
    "print('BHAA_x in ggt without BHAC:', pFBA_noBHAC_ggt.get('BHAA_x'))\n",
    "\n",
    "print('BHAA_x in wt with BHAC:', pFBA_BHAC.get('BHAA_x'))\n",
    "print('BHAA_x in ggt with BHAC:', pFBA_BHAC_ggt.get('BHAA_x'))"
   ]
  },
  {
   "cell_type": "markdown",
   "metadata": {},
   "source": [
    "Roell et al.: BHA just detectable when BHAC plant is grown under PR conditions"
   ]
  },
  {
   "cell_type": "code",
   "execution_count": 63,
   "metadata": {
    "pycharm": {
     "name": "#%%\n"
    }
   },
   "outputs": [
    {
     "name": "stdout",
     "output_type": "stream",
     "text": [
      "BHAA_x 2.9446064312161253\n"
     ]
    }
   ],
   "source": [
    "# standard: Rubisco ratio 3:1 (PR conditions), there is flux through BHAA producing BHA\n",
    "\n",
    "# no Rubisco rate to simulate conditions without PR\n",
    "# ratio needs to be blocked in the section \"Reading the model > Adding Rubisco..\" and then run everything (!) again to simulate HC\n",
    "\n",
    "# pFBA - WT with BHAC\n",
    "with c3_model:\n",
    "    pFBA = pfba(c3_model).fluxes\n",
    "    print('BHAA_x', pFBA.get('BHAA_x'))"
   ]
  },
  {
   "cell_type": "markdown",
   "metadata": {},
   "source": [
    "for AC (Rubisco ratio 3:1):\n",
    "for HC (no Rubisco ratio): -0.159"
   ]
  },
  {
   "cell_type": "code",
   "execution_count": 64,
   "metadata": {
    "pycharm": {
     "name": "#%%\n"
    }
   },
   "outputs": [
    {
     "name": "stdout",
     "output_type": "stream",
     "text": [
      "BHAA_x 2.9446064312161266\n",
      "BHAA_x 0.0\n",
      "BHAA_x 0.0\n",
      "BHAA_x 2.9446064312161266\n",
      "BHAA_x 2.9446064312161266\n",
      "BHAA_x 2.9446064312161266\n",
      "BHAA_x 5.889212862432253\n",
      "BHAA_x 0.27811343867611865\n"
     ]
    }
   ],
   "source": [
    "# ggt with BHAC\n",
    "with c3_model:\n",
    "    c3_model.reactions.get_by_id('GLYCINE_AMINOTRANSFERASE_RXN_x').knock_out()\n",
    "    pFBA = pfba(c3_model).fluxes\n",
    "    print('BHAA_x', pFBA.get('BHAA_x'))\n",
    "    print('BHAA_x', pFBA.get('GLY3KIN_RXN_p'))\n",
    "    print('BHAA_x', pFBA.get('SERINE_GLYOXYLATE_AMINOTRANSFERASE_RXN_x'))\n",
    "    print('BHAA_x', pFBA.get('AGAT_x'))\n",
    "    print('BHAA_x', pFBA.get('BHAD_x'))\n",
    "    print('BHAA_x', pFBA.get('ISR_x'))\n",
    "    print('BHAA_x', pFBA.get('RXN_969_x'))\n",
    "    print('BHAA_x', pFBA.get('GCVMULTI_RXN_m'))"
   ]
  },
  {
   "cell_type": "markdown",
   "metadata": {},
   "source": [
    "for AC (Rubisco ratio 3:1):\n",
    "for HC (no Rubisco ratio): -0.159"
   ]
  },
  {
   "cell_type": "markdown",
   "metadata": {},
   "source": [
    "There is no flux through the BHAA reaction producing BHA under high CO2 concentration (i.e. no PR) in wt with BHAC. Contrasting, the ggt1-1 mutant still has a flux, but a negative one (BHAD and ISR also negative flux while AGAT has a positive), i.e. reactions run backwards and not as intended"
   ]
  },
  {
   "cell_type": "markdown",
   "metadata": {},
   "source": [
    "Results by Roell et al. got confirmed"
   ]
  },
  {
   "cell_type": "markdown",
   "metadata": {},
   "source": [
    "#### Fig 3A/B - beta-hydroxyaspartate levels"
   ]
  },
  {
   "cell_type": "code",
   "execution_count": 65,
   "metadata": {
    "pycharm": {
     "name": "#%%\n"
    }
   },
   "outputs": [
    {
     "name": "stdout",
     "output_type": "stream",
     "text": [
      "There are 2 reactions including the following metabolites:\n",
      " ['BETA_HYDROXYASPARTATE_x'] \n",
      "\n"
     ]
    }
   ],
   "source": [
    "# level of beta-hydroxyaspartate depending on BHAC/CO2/Background\n",
    "BHA_reactions = search_reactions('BETA_HYDROXYASPARTATE', 'x')"
   ]
  },
  {
   "cell_type": "code",
   "execution_count": 66,
   "metadata": {
    "pycharm": {
     "name": "#%%\n"
    }
   },
   "outputs": [
    {
     "data": {
      "text/plain": [
       "[0.0, 5.2632, 0.0, 5.8892]"
      ]
     },
     "execution_count": 66,
     "metadata": {},
     "output_type": "execute_result"
    }
   ],
   "source": [
    "# values depend if a rubisco ratio is chosen in section 'Reading the models', then we get results for AC (3:1 ratio) or HC (no ratio) conditions\n",
    "BHA = [flux_values_sum(BHA_reactions, 'n', 'wt', plot='plot'), flux_values_sum(BHA_reactions, 'y', 'wt', plot='plot'), flux_values_sum(BHA_reactions, 'n', 'ggt', plot='plot'), flux_values_sum(BHA_reactions, 'y', 'ggt', plot='plot')]\n",
    "BHA"
   ]
  },
  {
   "cell_type": "code",
   "execution_count": 67,
   "metadata": {
    "pycharm": {
     "name": "#%%\n"
    }
   },
   "outputs": [],
   "source": [
    "BHA_ac = [0, 5.2632,  0, 5.8892]\n",
    "BHA_hc = [0,0,0, 0.3183]"
   ]
  },
  {
   "cell_type": "code",
   "execution_count": 233,
   "metadata": {
    "pycharm": {
     "name": "#%%\n"
    }
   },
   "outputs": [
    {
     "data": {
      "image/png": "[encoded data removed]",
      "text/plain": [
       "<Figure size 1584x360 with 3 Axes>"
      ]
     },
     "metadata": {
      "needs_background": "light"
     },
     "output_type": "display_data"
    }
   ],
   "source": [
    "fig, (ax1, ax2) = plt.subplots(1, 2, figsize=(22,5), sharey='all')\n",
    "plt.subplots_adjust(left=None, bottom=None, right=None, top=0.8, wspace=None, hspace=None)\n",
    "fig.suptitle('Metabolite levels of \\u03B2-Hydroxyaspartate')\n",
    "\n",
    "x_titles = ['WT \\n without BHAC', 'WT \\n with BHAC', 'ggt1 \\n without BHAC', 'ggt1 \\n with BHAC']\n",
    "\n",
    "ax1.set(ylabel='Flux sum [\\u03BCmol m$^{-2}$ s$^{-1}$]')\n",
    "\n",
    "ax3 = ax2.twinx()\n",
    "ax3.set_ylim(0,7)\n",
    "\n",
    "ax1.bar(x_titles, BHA_hc, width=0.5, color=['#949998', '#42938B', 'r', '#75AAE5'])\n",
    "ax1.set_title('HC')\n",
    "ax1.set_ylim(0,7)\n",
    "\n",
    "ax2.bar(x_titles, BHA_ac, width=0.5, color=['#949998', '#42938B', 'r', '#75AAE5'])\n",
    "ax2.set_title('AC')\n",
    "ax2.set_ylim(0,7)\n",
    "\n",
    "plt.show()\n",
    "#plt.savefig('figures/fig3a.png', dpi=300)"
   ]
  },
  {
   "cell_type": "markdown",
   "metadata": {},
   "source": [
    "### Variations in amount of certain metabolites associated with BHAC"
   ]
  },
  {
   "cell_type": "markdown",
   "metadata": {},
   "source": [
    "#### Glycine\n",
    "Roell et al.:\n",
    "- Glycine levels decreased twofold in WT with BHAC, because Glycine gets converted into BHA\n",
    "- in ggt1 mutant Glycine levels are 10-fold lower than in WT (with and without BHAC)"
   ]
  },
  {
   "cell_type": "code",
   "execution_count": 69,
   "metadata": {
    "pycharm": {
     "name": "#%%\n"
    }
   },
   "outputs": [
    {
     "name": "stdout",
     "output_type": "stream",
     "text": [
      "There are 24 reactions including the following metabolites:\n",
      " ['GLY_c', 'GLY_v', 'GLY_x', 'GLY_m', 'GLY_p'] \n",
      "\n",
      "GLYRIBONUCSYN_RXN_p = 0.00155\n",
      "GCVMULTI_RXN_m = 3.16554\n",
      "GLYOHMETRANS_RXN_p = 0.00155\n",
      "BHAA_x = 0.0\n",
      "GLYOHMETRANS_RXN_m = -3.09199\n",
      "AGAT_x = 0.0\n",
      "GLYOHMETRANS_RXN_c = 0.0\n",
      "THREONINE_ALDOLASE_RXN_c = 0.76426\n",
      "SERINE_GLYOXYLATE_AMINOTRANSFERASE_RXN_x = 2.84629\n",
      "GLYCINE_TRNA_LIGASE_RXN_c = 0.0\n",
      "sGLY_biomass = 0.29145\n",
      "GLYCINE_AMINOTRANSFERASE_RXN_x = 2.93843\n",
      "ALANINE_GLYOXYLATE_AMINOTRANSFERASE_RXN_x = 0.0\n",
      "\n",
      " ---------------- \n",
      " The flux sum is: 13.1011\n"
     ]
    }
   ],
   "source": [
    "# get all reactions with Glycine (across al compartments)\n",
    "gly_reactions = search_reactions('GLY', 'all')\n",
    "\n",
    "# pFBA/flux sum - WT without BHAC\n",
    "flux_values_sum(gly_reactions, 'n', 'wt')"
   ]
  },
  {
   "cell_type": "code",
   "execution_count": 70,
   "metadata": {
    "pycharm": {
     "name": "#%%\n"
    }
   },
   "outputs": [
    {
     "name": "stdout",
     "output_type": "stream",
     "text": [
      "GLYRIBONUCSYN_RXN_p = 0.00158\n",
      "GCVMULTI_RXN_m = 0.58785\n",
      "GLYOHMETRANS_RXN_p = 0.00158\n",
      "BHAA_x = 2.63161\n",
      "GLYOHMETRANS_RXN_m = -0.51305\n",
      "AGAT_x = 2.7168\n",
      "GLYOHMETRANS_RXN_c = 0.0\n",
      "THREONINE_ALDOLASE_RXN_c = 0.77728\n",
      "SERINE_GLYOXYLATE_AMINOTRANSFERASE_RXN_x = 0.26316\n",
      "GLYCINE_TRNA_LIGASE_RXN_c = 0.0\n",
      "sGLY_biomass = 0.29641\n",
      "GLYCINE_AMINOTRANSFERASE_RXN_x = 0.27168\n",
      "ALANINE_GLYOXYLATE_AMINOTRANSFERASE_RXN_x = 0.0\n",
      "\n",
      " ---------------- \n",
      " The flux sum is: 8.061\n"
     ]
    }
   ],
   "source": [
    "# pFBA/flux sum - WT with BHAC\n",
    "flux_values_sum(gly_reactions, 'y', 'wt')"
   ]
  },
  {
   "cell_type": "markdown",
   "metadata": {},
   "source": [
    "Flux sum with BHAC in wild type is lower than without BHAC (confirms Roell et al.)"
   ]
  },
  {
   "cell_type": "code",
   "execution_count": 71,
   "metadata": {
    "pycharm": {
     "name": "#%%\n"
    }
   },
   "outputs": [
    {
     "name": "stdout",
     "output_type": "stream",
     "text": [
      "13.1011\n",
      "7.4454\n"
     ]
    }
   ],
   "source": [
    "# pFBA/flux sum - ggt1 without BHAC\n",
    "print(flux_values_sum(gly_reactions, 'n', 'ggt', plot='plot'))\n",
    "\n",
    "# pFBA/flux sum - ggt1 with BHAC\n",
    "print(flux_values_sum(gly_reactions, 'y', 'ggt', plot='plot'))"
   ]
  },
  {
   "cell_type": "markdown",
   "metadata": {},
   "source": [
    "Although flux sum with BHAC in ggt1-1 mutant is lower than without BHAC, the results comparing ggt1-1 mutant and wt are the same, which contradicts Roell et al."
   ]
  },
  {
   "cell_type": "markdown",
   "metadata": {
    "pycharm": {
     "name": "#%% md\n"
    }
   },
   "source": [
    "#### Aspartate\n",
    "Roell et al.: Aspartate increases sixfold, because Asp is BHAC intermediate and product of OAA transamination"
   ]
  },
  {
   "cell_type": "code",
   "execution_count": 72,
   "metadata": {
    "pycharm": {
     "name": "#%%\n"
    }
   },
   "outputs": [
    {
     "name": "stdout",
     "output_type": "stream",
     "text": [
      "There are 4 reactions including the following metabolites:\n",
      " ['L_ASPARTATE_x'] \n",
      "\n"
     ]
    }
   ],
   "source": [
    "# search for Aspartate reactions in the Peroxisome\n",
    "asp_x_reactions = search_reactions('L_ASPARTATE', 'x')"
   ]
  },
  {
   "cell_type": "code",
   "execution_count": 73,
   "metadata": {
    "pycharm": {
     "name": "#%%\n"
    }
   },
   "outputs": [
    {
     "name": "stdout",
     "output_type": "stream",
     "text": [
      "ASPAMINOTRANS_RXN_x = 0.0\n",
      "ISR_x = 0.0\n",
      "AGAT_x = 0.0\n",
      "\n",
      " ---------------- \n",
      " The flux sum is: 0.0\n"
     ]
    }
   ],
   "source": [
    "# pFBA/flux sum - WT without BHAC\n",
    "flux_values_sum(asp_x_reactions, 'n', 'wt')\n",
    "\n",
    "# just regarding peroxisome: without bhac there is no aspartate in here"
   ]
  },
  {
   "cell_type": "code",
   "execution_count": 74,
   "metadata": {
    "pycharm": {
     "name": "#%%\n"
    }
   },
   "outputs": [
    {
     "name": "stdout",
     "output_type": "stream",
     "text": [
      "ASPAMINOTRANS_RXN_x = -0.08519\n",
      "ISR_x = 2.63161\n",
      "AGAT_x = 2.7168\n",
      "\n",
      " ---------------- \n",
      " The flux sum is: 5.4336\n"
     ]
    }
   ],
   "source": [
    "# pFBA/flux sum - WT with BHAC\n",
    "flux_values_sum(asp_x_reactions, 'y', 'wt')"
   ]
  },
  {
   "cell_type": "markdown",
   "metadata": {},
   "source": [
    "Without the BHAC there is no aspartate in the peroxisome (where the BHAC would be), but with BHAC with have a flux value."
   ]
  },
  {
   "cell_type": "code",
   "execution_count": 75,
   "metadata": {
    "pycharm": {
     "name": "#%%\n"
    }
   },
   "outputs": [
    {
     "name": "stdout",
     "output_type": "stream",
     "text": [
      "There are 26 reactions including the following metabolites:\n",
      " ['L_ASPARTATE_x', 'L_ASPARTATE_c', 'L_ASPARTATE_m', 'L_ASPARTATE_p', 'L_ASPARTATE_v'] \n",
      "\n"
     ]
    }
   ],
   "source": [
    "# get all reactions for Aspartate across all compartments\n",
    "asp_reactions = search_reactions('L_ASPARTATE', 'all')"
   ]
  },
  {
   "cell_type": "code",
   "execution_count": 76,
   "metadata": {
    "pycharm": {
     "name": "#%%\n"
    }
   },
   "outputs": [
    {
     "name": "stdout",
     "output_type": "stream",
     "text": [
      "SAICARSYN_RXN_p = 0.00155\n",
      "ARGSUCCINSYN_RXN_p = 0.07959\n",
      "ASPCARBTRANS_RXN_p = 0.0017\n",
      "sASP_biomass = -0.10768\n",
      "ASPAMINOTRANS_RXN_x = 0.0\n",
      "ASNSYNA_RXN_c = 0.07518\n",
      "AGAT_x = 0.0\n",
      "ASPARAGHYD_RXN_c = 0.0\n",
      "ASPAMINOTRANS_RXN_p = -1.2717\n",
      "ISR_x = 0.0\n",
      "ASPARTATE_TRNA_LIGASE_RXN_c = 0.0\n",
      "ASPAMINOTRANS_RXN_c = -0.18285\n",
      "ASPARTATEKIN_RXN_p = 1.15188\n",
      "ASPAMINOTRANS_RXN_m = 0.0\n",
      "ADENYLOSUCCINATE_SYNTHASE_RXN_p = 0.03698\n",
      "\n",
      " ---------------- \n",
      " The flux sum is: 2.9091\n"
     ]
    }
   ],
   "source": [
    "# pFBA/flux sum - WT without BHAC\n",
    "flux_values_sum(asp_reactions, 'n', 'wt')"
   ]
  },
  {
   "cell_type": "code",
   "execution_count": 77,
   "metadata": {
    "pycharm": {
     "name": "#%%\n"
    }
   },
   "outputs": [
    {
     "name": "stdout",
     "output_type": "stream",
     "text": [
      "SAICARSYN_RXN_p = 0.00158\n",
      "ARGSUCCINSYN_RXN_p = 0.08094\n",
      "ASPCARBTRANS_RXN_p = 0.00173\n",
      "sASP_biomass = -0.10951\n",
      "ASPAMINOTRANS_RXN_x = -0.08519\n",
      "ASNSYNA_RXN_c = 0.07646\n",
      "AGAT_x = 2.7168\n",
      "ASPARAGHYD_RXN_c = 0.0\n",
      "ASPAMINOTRANS_RXN_p = -1.29336\n",
      "ISR_x = 2.63161\n",
      "ASPARTATE_TRNA_LIGASE_RXN_c = 0.0\n",
      "ASPAMINOTRANS_RXN_c = -0.18597\n",
      "ASPARTATEKIN_RXN_p = 1.1715\n",
      "ASPAMINOTRANS_RXN_m = 0.0\n",
      "ADENYLOSUCCINATE_SYNTHASE_RXN_p = 0.03761\n",
      "\n",
      " ---------------- \n",
      " The flux sum is: 8.3923\n"
     ]
    }
   ],
   "source": [
    "# pFBA/flux sum - WT with BHAC\n",
    "flux_values_sum(asp_reactions, 'y', 'wt')"
   ]
  },
  {
   "cell_type": "markdown",
   "metadata": {},
   "source": [
    "There is more aspartate in the WT cell with BHAC than without confirming Roell et al. results"
   ]
  },
  {
   "cell_type": "code",
   "execution_count": 78,
   "metadata": {
    "pycharm": {
     "name": "#%%\n"
    }
   },
   "outputs": [
    {
     "name": "stdout",
     "output_type": "stream",
     "text": [
      "2.9091\n",
      "8.8509\n"
     ]
    }
   ],
   "source": [
    "# pFBA/flux sum - ggt1 without BHAC\n",
    "print(flux_values_sum(asp_reactions, 'n', 'ggt', plot='plot'))\n",
    "\n",
    "# pFBA/flux sum - ggt1 with BHAC\n",
    "print(flux_values_sum(asp_reactions, 'y', 'ggt', plot='plot'))"
   ]
  },
  {
   "cell_type": "markdown",
   "metadata": {},
   "source": [
    "There is more aspartate in the ggt1-1 mutant cell with BHAC than without confirming Roell et al. results"
   ]
  },
  {
   "cell_type": "markdown",
   "metadata": {
    "pycharm": {
     "name": "#%% md\n"
    }
   },
   "source": [
    "#### Malate\n",
    "Roell et al.: Malate increases twofold, because Mal is produced by reduction of OAA"
   ]
  },
  {
   "cell_type": "code",
   "execution_count": 79,
   "metadata": {
    "pycharm": {
     "name": "#%%\n"
    }
   },
   "outputs": [
    {
     "name": "stdout",
     "output_type": "stream",
     "text": [
      "There are 46 reactions including the following metabolites:\n",
      " ['MAL_p', 'MAL_m', 'MAL_x', 'MAL_v', 'MAL_c'] \n",
      "\n"
     ]
    }
   ],
   "source": [
    "# get the reactions where MAL in all compartments is part of\n",
    "mal_reactions = search_reactions('MAL', 'all')"
   ]
  },
  {
   "cell_type": "code",
   "execution_count": 80,
   "metadata": {
    "pycharm": {
     "name": "#%%\n"
    }
   },
   "outputs": [
    {
     "name": "stdout",
     "output_type": "stream",
     "text": [
      "sMAL_biomass = -0.05435\n",
      "MALATE_DEH_RXN_p = 0.11635\n",
      "FUMHYDR_RXN_c = 0.11812\n",
      "MALATE_DEH_RXN_x = 2.84629\n",
      "MALSYN_RXN_x = 0.0\n",
      "MALATE_DEH_RXN_c = -1.83983\n",
      "MALIC_NADP_RXN_p = 0.0\n",
      "FUMHYDR_RXN_m = 0.0\n",
      "1_PERIOD_1_PERIOD_1_PERIOD_39_RXN_m = 0.0\n",
      "MALATE_DEHYDROGENASE_NADP_RXN_p = 0.0\n",
      "MALIC_NADP_RXN_c = 0.0\n",
      "MALATE_DEH_RXN_m = -1.05904\n",
      "\n",
      " ---------------- \n",
      " The flux sum is: 6.034\n"
     ]
    }
   ],
   "source": [
    "# pFBA/flux sum - WT without BHAC\n",
    "flux_values_sum(mal_reactions, 'n', 'wt')"
   ]
  },
  {
   "cell_type": "code",
   "execution_count": 81,
   "metadata": {
    "pycharm": {
     "name": "#%%\n"
    }
   },
   "outputs": [
    {
     "name": "stdout",
     "output_type": "stream",
     "text": [
      "sMAL_biomass = -0.05527\n",
      "MALATE_DEH_RXN_p = 1.46853\n",
      "FUMHYDR_RXN_c = 0.12014\n",
      "MALATE_DEH_RXN_x = 2.89477\n",
      "MALSYN_RXN_x = 0.0\n",
      "MALATE_DEH_RXN_c = -5.13582\n",
      "MALIC_NADP_RXN_p = 0.83738\n",
      "FUMHYDR_RXN_m = 0.0\n",
      "1_PERIOD_1_PERIOD_1_PERIOD_39_RXN_m = 0.0\n",
      "MALATE_DEHYDROGENASE_NADP_RXN_p = 0.0\n",
      "MALIC_NADP_RXN_c = 0.0\n",
      "MALATE_DEH_RXN_m = 0.0\n",
      "\n",
      " ---------------- \n",
      " The flux sum is: 10.5119\n"
     ]
    }
   ],
   "source": [
    "# pFBA/flux sum - WT with BHAC\n",
    "flux_values_sum(mal_reactions, 'y', 'wt')"
   ]
  },
  {
   "cell_type": "markdown",
   "metadata": {},
   "source": [
    "More malate in the wt (higher flux sum with BHAC than without bhac) confirms Roell et al. results"
   ]
  },
  {
   "cell_type": "code",
   "execution_count": 82,
   "metadata": {
    "pycharm": {
     "name": "#%%\n"
    }
   },
   "outputs": [
    {
     "name": "stdout",
     "output_type": "stream",
     "text": [
      "6.034\n",
      "11.0105\n"
     ]
    }
   ],
   "source": [
    "# pFBA/flux sum - ggt1 without BHAC\n",
    "print(flux_values_sum(mal_reactions, 'n', 'ggt', plot='plot'))\n",
    "\n",
    "# pFBA/flux sum - ggt1 with BHAC\n",
    "print(flux_values_sum(mal_reactions, 'y', 'ggt', plot='plot'))"
   ]
  },
  {
   "cell_type": "markdown",
   "metadata": {},
   "source": [
    "More malate in the ggt1-1 mutant (higher flux sum with BHAC than without bhac) confirms Roell et al. results"
   ]
  },
  {
   "cell_type": "markdown",
   "metadata": {},
   "source": [
    "#### Fig 3C - Gly/Asp/Mal Metabolite Levels"
   ]
  },
  {
   "cell_type": "code",
   "execution_count": 83,
   "metadata": {
    "pycharm": {
     "name": "#%%\n"
    }
   },
   "outputs": [
    {
     "data": {
      "text/plain": [
       "[13.1011, 8.061, 13.1011, 7.4454]"
      ]
     },
     "execution_count": 83,
     "metadata": {},
     "output_type": "execute_result"
    }
   ],
   "source": [
    "# getting the glycine values (flux sum of all reactions where glycine is part of) for all 4 scenarios\n",
    "Gly_ac = [flux_values_sum(gly_reactions, 'n', 'wt', plot='plot'), flux_values_sum(gly_reactions, 'y', 'wt', plot='plot'), flux_values_sum(gly_reactions, 'n', 'ggt', plot='plot'), flux_values_sum(gly_reactions, 'y', 'ggt', plot='plot')]\n",
    "Gly_ac"
   ]
  },
  {
   "cell_type": "code",
   "execution_count": 84,
   "metadata": {
    "pycharm": {
     "name": "#%%\n"
    }
   },
   "outputs": [
    {
     "data": {
      "text/plain": [
       "[2.9091, 8.3923, 2.9091, 8.8509]"
      ]
     },
     "execution_count": 84,
     "metadata": {},
     "output_type": "execute_result"
    }
   ],
   "source": [
    "# getting the aspartate values for all 4 scenarios\n",
    "Asp_ac = [flux_values_sum(asp_reactions, 'n', 'wt', plot='plot'), flux_values_sum(asp_reactions, 'y', 'wt', plot='plot'), flux_values_sum(asp_reactions, 'n', 'ggt', plot='plot'), flux_values_sum(asp_reactions, 'y', 'ggt', plot='plot')]\n",
    "Asp_ac"
   ]
  },
  {
   "cell_type": "code",
   "execution_count": 85,
   "metadata": {
    "pycharm": {
     "name": "#%%\n"
    }
   },
   "outputs": [
    {
     "data": {
      "text/plain": [
       "[6.034, 10.5119, 6.034, 11.0105]"
      ]
     },
     "execution_count": 85,
     "metadata": {},
     "output_type": "execute_result"
    }
   ],
   "source": [
    "# getting the malate values for all 4 scenarios\n",
    "Mal_ac = [flux_values_sum(mal_reactions, 'n', 'wt', plot='plot'),flux_values_sum(mal_reactions, 'y', 'wt', plot='plot'), flux_values_sum(mal_reactions, 'n', 'ggt', plot='plot'), flux_values_sum(mal_reactions, 'y', 'ggt', plot='plot')]\n",
    "Mal_ac"
   ]
  },
  {
   "cell_type": "code",
   "execution_count": 86,
   "metadata": {
    "pycharm": {
     "name": "#%%\n"
    }
   },
   "outputs": [
    {
     "data": {
      "image/png": "[encoded data removed]",
      "text/plain": [
       "<Figure size 1728x604.8 with 4 Axes>"
      ]
     },
     "metadata": {
      "needs_background": "light"
     },
     "output_type": "display_data"
    }
   ],
   "source": [
    "fig, ((ax1, ax2, ax3)) = plt.subplots(1, 3, figsize=(24,6*1.4), sharey='all')\n",
    "plt.subplots_adjust(left=None, bottom=None, right=None, top=0.7, wspace=None, hspace=None)\n",
    "fig.suptitle('Metabolite levels of glycine, aspartate and malate in ambient air')\n",
    "\n",
    "x_titles = ['WT \\n without \\n BHAC', 'WT \\n with \\n BHAC', 'ggt1 \\n without \\n BHAC', 'ggt1 \\n with \\n BHAC']\n",
    "\n",
    "ax1.set(ylabel='Flux sum \\n [\\u03BCmol m$^{-2}$ s$^{-1}$]')\n",
    "\n",
    "ax4 = ax3.twinx()\n",
    "ax4.set_ylim(0,15)\n",
    "\n",
    "ax1.bar(x_titles, Gly_ac, width=0.5, color=['#949998', '#42938B', 'r', '#75AAE5'])\n",
    "ax1.set_title('Glycine')\n",
    "ax1.set_ylim(0,15)\n",
    "\n",
    "ax2.bar(x_titles, Asp_ac, width=0.5, color=['#949998', '#42938B', 'r', '#75AAE5'])\n",
    "ax2.set_title('Aspartate')\n",
    "ax2.set_ylim(0,15)\n",
    "\n",
    "ax3.bar(x_titles, Mal_ac, width=0.5, color=['#949998', '#42938B', 'r', '#75AAE5'])\n",
    "ax3.set_title('Malate')\n",
    "ax3.set_ylim(0,15)\n",
    "\n",
    "plt.show()\n",
    "#plt.savefig('figures/fig3c.png', dpi=300, bbox_inches = 'tight')"
   ]
  },
  {
   "cell_type": "markdown",
   "metadata": {
    "pycharm": {
     "name": "#%% md\n"
    }
   },
   "source": [
    "### Ammonia reduction\n",
    "Roell et al.:\n",
    "- free cellular ammonia is reduced by 20%\n",
    "- BHAC prevents NH4+ release in mitochondria\n",
    "- BHAC avoids chloroplastic nitrogen reassimilation by glutamine synthase"
   ]
  },
  {
   "cell_type": "code",
   "execution_count": 87,
   "metadata": {
    "pycharm": {
     "name": "#%%\n"
    }
   },
   "outputs": [
    {
     "name": "stdout",
     "output_type": "stream",
     "text": [
      "There are 27 reactions including the following metabolites:\n",
      " ['AMMONIUM_c', 'AMMONIUM_e', 'AMMONIUM_p', 'AMMONIUM_m', 'AMMONIUM_v'] \n",
      "\n"
     ]
    }
   ],
   "source": [
    "# get all reactions where Ammonia is part of across all compartments\n",
    "nh4_reactions = search_reactions('AMMONIUM', 'all')"
   ]
  },
  {
   "cell_type": "code",
   "execution_count": 88,
   "metadata": {
    "pycharm": {
     "name": "#%%\n"
    }
   },
   "outputs": [
    {
     "name": "stdout",
     "output_type": "stream",
     "text": [
      "12.098\n",
      "7.0408\n"
     ]
    }
   ],
   "source": [
    "# pFBA/flux sum - WT without BHAC\n",
    "print(flux_values_sum(nh4_reactions, 'n', 'wt', plot='plot'))\n",
    "\n",
    "# pFBA/flux sum - WT with BHAC\n",
    "print(flux_values_sum(nh4_reactions, 'y', 'wt', plot='plot'))"
   ]
  },
  {
   "cell_type": "code",
   "execution_count": 89,
   "metadata": {
    "pycharm": {
     "name": "#%%\n"
    }
   },
   "outputs": [
    {
     "name": "stdout",
     "output_type": "stream",
     "text": [
      "12.098\n",
      "6.4273\n"
     ]
    }
   ],
   "source": [
    "# pFBA/flux sum - ggt1 without BHAC\n",
    "print(flux_values_sum(nh4_reactions, 'n', 'ggt', plot='plot'))\n",
    "\n",
    "# pFBA/flux sum - ggt1 with BHAC\n",
    "print(flux_values_sum(nh4_reactions, 'y', 'ggt', plot='plot'))"
   ]
  },
  {
   "cell_type": "markdown",
   "metadata": {},
   "source": [
    "Less ammonia in the wt and ggt1-1 mutant (lower flux sum with BHAC than without bhac) confirms Roell et al. results"
   ]
  },
  {
   "cell_type": "code",
   "execution_count": 90,
   "metadata": {
    "pycharm": {
     "name": "#%%\n"
    }
   },
   "outputs": [
    {
     "data": {
      "text/html": [
       "\n",
       "        <table>\n",
       "            <tr>\n",
       "                <td><strong>Reaction identifier</strong></td><td>GCVMULTI_RXN_m</td>\n",
       "            </tr><tr>\n",
       "                <td><strong>Name</strong></td><td>GCVMULTI-RXN:NIL</td>\n",
       "            </tr><tr>\n",
       "                <td><strong>Memory address</strong></td>\n",
       "                <td>0x235279bc988</td>\n",
       "            </tr><tr>\n",
       "                <td><strong>Stoichiometry</strong></td>\n",
       "                <td>\n",
       "                    <p style='text-align:right'>GLY_m + NAD_m + THF_m --> AMMONIUM_m + CARBON_DIOXIDE_m + METHYLENE_THF_m + NADH_m</p>\n",
       "                    <p style='text-align:right'>GLY + NAD + THF --> AMMONIUM + CARBON-DIOXIDE + METHYLENE-THF + NADH</p>\n",
       "                </td>\n",
       "            </tr><tr>\n",
       "                <td><strong>GPR</strong></td><td></td>\n",
       "            </tr><tr>\n",
       "                <td><strong>Lower bound</strong></td><td>0.0</td>\n",
       "            </tr><tr>\n",
       "                <td><strong>Upper bound</strong></td><td>1000.0</td>\n",
       "            </tr>\n",
       "        </table>\n",
       "        "
      ],
      "text/plain": [
       "<Reaction GCVMULTI_RXN_m at 0x235279bc988>"
      ]
     },
     "execution_count": 90,
     "metadata": {},
     "output_type": "execute_result"
    }
   ],
   "source": [
    "# reaction in mitochondria where Glycine gets converted so CO2 and NH4+ etc. get released\n",
    "c3_model.reactions.GCVMULTI_RXN_m"
   ]
  },
  {
   "cell_type": "code",
   "execution_count": 91,
   "metadata": {
    "pycharm": {
     "name": "#%%\n"
    }
   },
   "outputs": [
    {
     "name": "stdout",
     "output_type": "stream",
     "text": [
      "GCVMULTI_RXN_m 3.16554\n"
     ]
    }
   ],
   "source": [
    "# pFBA - WT without BHAC\n",
    "print('GCVMULTI_RXN_m', pFBA_noBHAC.get('GCVMULTI_RXN_m'))"
   ]
  },
  {
   "cell_type": "code",
   "execution_count": 92,
   "metadata": {
    "pycharm": {
     "name": "#%%\n"
    }
   },
   "outputs": [
    {
     "name": "stdout",
     "output_type": "stream",
     "text": [
      "GCVMULTI_RXN_m 0.58785\n"
     ]
    }
   ],
   "source": [
    "# pFBA - WT with BHAC\n",
    "print('GCVMULTI_RXN_m', pFBA_BHAC.get('GCVMULTI_RXN_m'))"
   ]
  },
  {
   "cell_type": "code",
   "execution_count": 93,
   "metadata": {
    "pycharm": {
     "name": "#%%\n"
    }
   },
   "outputs": [
    {
     "name": "stdout",
     "output_type": "stream",
     "text": [
      "GCVMULTI_RXN_m 3.16554\n",
      "GCVMULTI_RXN_m 0.27811\n"
     ]
    }
   ],
   "source": [
    "# pFBA - ggt without BHAC\n",
    "print('GCVMULTI_RXN_m', pFBA_noBHAC_ggt.get('GCVMULTI_RXN_m'))\n",
    "\n",
    "# pFBA - ggt with BHAC\n",
    "print('GCVMULTI_RXN_m', pFBA_BHAC_ggt.get('GCVMULTI_RXN_m'))"
   ]
  },
  {
   "cell_type": "markdown",
   "metadata": {},
   "source": [
    "Flux through reaction releasing, among other things, ammonia is much smaller with BHAC than without (for wt and ggt1-1 mutant) confirming Roell et al. results"
   ]
  },
  {
   "cell_type": "code",
   "execution_count": 94,
   "metadata": {
    "pycharm": {
     "name": "#%%\n"
    }
   },
   "outputs": [
    {
     "data": {
      "text/html": [
       "\n",
       "        <table>\n",
       "            <tr>\n",
       "                <td><strong>Reaction identifier</strong></td><td>GLUTAMINESYN_RXN_p</td>\n",
       "            </tr><tr>\n",
       "                <td><strong>Name</strong></td><td>GLUTAMINESYN-RXN:Glutamate--ammonia ligase</td>\n",
       "            </tr><tr>\n",
       "                <td><strong>Memory address</strong></td>\n",
       "                <td>0x23527c23b08</td>\n",
       "            </tr><tr>\n",
       "                <td><strong>Stoichiometry</strong></td>\n",
       "                <td>\n",
       "                    <p style='text-align:right'>AMMONIUM_p + ATP_p + GLT_p --> ADP_p + GLN_p + 0.9 PROTON_p + Pi_p</p>\n",
       "                    <p style='text-align:right'>AMMONIUM + ATP + GLT --> ADP + GLN + 0.9 PROTON + Pi[p]</p>\n",
       "                </td>\n",
       "            </tr><tr>\n",
       "                <td><strong>GPR</strong></td><td></td>\n",
       "            </tr><tr>\n",
       "                <td><strong>Lower bound</strong></td><td>0.0</td>\n",
       "            </tr><tr>\n",
       "                <td><strong>Upper bound</strong></td><td>1000.0</td>\n",
       "            </tr>\n",
       "        </table>\n",
       "        "
      ],
      "text/plain": [
       "<Reaction GLUTAMINESYN_RXN_p at 0x23527c23b08>"
      ]
     },
     "execution_count": 94,
     "metadata": {},
     "output_type": "execute_result"
    }
   ],
   "source": [
    "# get reaction for glutamine synthase\n",
    "c3_model.reactions.GLUTAMINESYN_RXN_p"
   ]
  },
  {
   "cell_type": "code",
   "execution_count": 95,
   "metadata": {
    "pycharm": {
     "name": "#%%\n"
    }
   },
   "outputs": [
    {
     "name": "stdout",
     "output_type": "stream",
     "text": [
      "GLUTAMINESYN_RXN_p 5.89252\n"
     ]
    }
   ],
   "source": [
    "# pFBA - WT without BHAC\n",
    "print('GLUTAMINESYN_RXN_p', pFBA_noBHAC.get('GLUTAMINESYN_RXN_p'))"
   ]
  },
  {
   "cell_type": "code",
   "execution_count": 96,
   "metadata": {
    "pycharm": {
     "name": "#%%\n"
    }
   },
   "outputs": [
    {
     "name": "stdout",
     "output_type": "stream",
     "text": [
      "GLUTAMINESYN_RXN_p 3.36128\n"
     ]
    }
   ],
   "source": [
    "# pFBA - WT with BHAC\n",
    "print('GLUTAMINESYN_RXN_p', pFBA_BHAC.get('GLUTAMINESYN_RXN_p'))"
   ]
  },
  {
   "cell_type": "code",
   "execution_count": 97,
   "metadata": {
    "pycharm": {
     "name": "#%%\n"
    }
   },
   "outputs": [
    {
     "name": "stdout",
     "output_type": "stream",
     "text": [
      "GLUTAMINESYN_RXN_p 5.89252\n",
      "GLUTAMINESYN_RXN_p 3.05436\n"
     ]
    }
   ],
   "source": [
    "# pFBA - ggt without BHAC\n",
    "print('GLUTAMINESYN_RXN_p', pFBA_noBHAC_ggt.get('GLUTAMINESYN_RXN_p'))\n",
    "\n",
    "# pFBA - ggt with BHAC\n",
    "print('GLUTAMINESYN_RXN_p', pFBA_BHAC_ggt.get('GLUTAMINESYN_RXN_p'))"
   ]
  },
  {
   "cell_type": "markdown",
   "metadata": {},
   "source": [
    "Flux values through glutamine synthase are smaller with BHAC than without for wt and ggt1-1 mutant confirming Roell et al. results"
   ]
  },
  {
   "cell_type": "markdown",
   "metadata": {},
   "source": [
    "#### Fig 4C - Levels of NH4+"
   ]
  },
  {
   "cell_type": "code",
   "execution_count": 98,
   "metadata": {
    "pycharm": {
     "name": "#%%\n"
    }
   },
   "outputs": [
    {
     "data": {
      "text/plain": [
       "[12.098, 7.0408, 12.098, 6.4273]"
      ]
     },
     "execution_count": 98,
     "metadata": {},
     "output_type": "execute_result"
    }
   ],
   "source": [
    "# depending if a rubisco ratio is chosen in section 'Reading the models', then we get results for AC (3:1 ratio) or HC (no ratio) conditions\n",
    "nh4 = [flux_values_sum(nh4_reactions, 'n', 'wt', plot='plot'), flux_values_sum(nh4_reactions, 'y', 'wt', plot='plot'), flux_values_sum(nh4_reactions, 'n', 'ggt', plot='plot'), flux_values_sum(nh4_reactions, 'y', 'ggt', plot='plot')]\n",
    "nh4"
   ]
  },
  {
   "cell_type": "code",
   "execution_count": 99,
   "metadata": {
    "pycharm": {
     "name": "#%%\n"
    }
   },
   "outputs": [
    {
     "name": "stdout",
     "output_type": "stream",
     "text": [
      "RXN_13202_p = 0.0\n",
      "GCVMULTI_RXN_m = 3.16554\n",
      "DSERDEAM_RXN_c = 0.0\n",
      "GLUTAMINESYN_RXN_p = 5.89252\n",
      "ASNSYNA_RXN_c = 0.07518\n",
      "PHE_NH4_Lyase_c = 0.0\n",
      "LCYSDESULF_RXN_c = 0.0\n",
      "ASPARAGHYD_RXN_c = 0.0\n",
      "CARBAMATE_KINASE_RXN_p = 0.08129\n",
      "GLUTAMINESYN_RXN_c = 0.0\n",
      "THREDEHYD_RXN_p = 0.09573\n",
      "GLUTAMINESYN_RXN_m = 0.0\n",
      "GLUTAMATE_DEHYDROGENASE_RXN_m = 0.0\n",
      "AMP_DEAMINASE_RXN_c = 0.00083\n",
      "CYSTATHIONINE_BETA_LYASE_RXN_p = 0.03582\n",
      "FERREDOXIN_NITRITE_REDUCTASE_RXN_p = 2.75107\n",
      "UREASE_RXN_c = 0.0\n",
      "RXN_15130_p = 0.0\n",
      "\n",
      " ---------------- \n",
      " The flux sum is: 12.098\n",
      "RXN_13202_p = 0.0\n",
      "GCVMULTI_RXN_m = 0.27811\n",
      "DSERDEAM_RXN_c = 0.0\n",
      "GLUTAMINESYN_RXN_p = 3.05436\n",
      "ASNSYNA_RXN_c = 0.07654\n",
      "PHE_NH4_Lyase_c = 0.0\n",
      "LCYSDESULF_RXN_c = 0.0\n",
      "ASPARAGHYD_RXN_c = 0.0\n",
      "CARBAMATE_KINASE_RXN_p = 0.08275\n",
      "GLUTAMINESYN_RXN_c = 0.0\n",
      "THREDEHYD_RXN_p = 0.09746\n",
      "GLUTAMINESYN_RXN_m = 0.0\n",
      "GLUTAMATE_DEHYDROGENASE_RXN_m = 0.0\n",
      "AMP_DEAMINASE_RXN_c = 0.00084\n",
      "CYSTATHIONINE_BETA_LYASE_RXN_p = 0.03647\n",
      "FERREDOXIN_NITRITE_REDUCTASE_RXN_p = 2.80077\n",
      "UREASE_RXN_c = 0.0\n",
      "RXN_15130_p = 0.0\n",
      "\n",
      " ---------------- \n",
      " The flux sum is: 6.4273\n"
     ]
    }
   ],
   "source": [
    "flux_values_sum(nh4_reactions, 'n', 'ggt')\n",
    "flux_values_sum(nh4_reactions, 'y', 'ggt')"
   ]
  },
  {
   "cell_type": "code",
   "execution_count": 100,
   "metadata": {
    "pycharm": {
     "name": "#%%\n"
    }
   },
   "outputs": [
    {
     "name": "stdout",
     "output_type": "stream",
     "text": [
      "FERREDOXIN_NITRITE_REDUCTASE_RXN_p: NITRITE_p + 8.0 PROTON_p + 6.0 Reduced_ferredoxins_p --> AMMONIUM_p + 6.0 Oxidized_ferredoxins_p + 2.0 WATER_p\n",
      "CYSTATHIONINE_BETA_LYASE_RXN_p: L_CYSTATHIONINE_p + WATER_p --> AMMONIUM_p + HOMO_CYS_p + PYRUVATE_p\n",
      "ASNSYNA_RXN_c: AMMONIUM_c + ATP_c + L_ASPARTATE_c --> AMP_c + ASN_c + PPI_c + PROTON_c\n",
      "CARBAMATE_KINASE_RXN_p: AMMONIUM_p + ATP_p + CARBON_DIOXIDE_p <=> ADP_p + CARBAMOYL_P_p + 1.9 PROTON_p\n",
      "THREDEHYD_RXN_p: THR_p --> 2_OXOBUTANOATE_p + AMMONIUM_p\n",
      "GLUTAMINESYN_RXN_p: AMMONIUM_p + ATP_p + GLT_p --> ADP_p + GLN_p + 0.9 PROTON_p + Pi_p\n"
     ]
    }
   ],
   "source": [
    "# under HC reactions that differ between ggt with and without\n",
    "for i in ['FERREDOXIN_NITRITE_REDUCTASE_RXN_p',\n",
    "\"CYSTATHIONINE_BETA_LYASE_RXN_p\",\n",
    "\"ASNSYNA_RXN_c\",\n",
    "\"CARBAMATE_KINASE_RXN_p\",\n",
    "\"THREDEHYD_RXN_p\",\n",
    "\"GLUTAMINESYN_RXN_p\",]:\n",
    "    print(c3_model.reactions.get_by_id(i))"
   ]
  },
  {
   "cell_type": "code",
   "execution_count": 101,
   "metadata": {
    "pycharm": {
     "name": "#%%\n"
    }
   },
   "outputs": [],
   "source": [
    "# save values from both CO2 conditions for plotting\n",
    "nh4_ac = [12.098, 7.0408 , 12.098, 6.4273]\n",
    "nh4_hc = [8.4146, 8.4146, 8.4146, 8.4249]"
   ]
  },
  {
   "cell_type": "code",
   "execution_count": 236,
   "metadata": {
    "pycharm": {
     "name": "#%%\n"
    }
   },
   "outputs": [
    {
     "data": {
      "image/png": "[encoded data removed]",
      "text/plain": [
       "<Figure size 1584x432 with 3 Axes>"
      ]
     },
     "metadata": {
      "needs_background": "light"
     },
     "output_type": "display_data"
    }
   ],
   "source": [
    "fig, (ax1, ax2) = plt.subplots(1, 2, figsize=(22,6), sharey='all')\n",
    "plt.subplots_adjust(left=None, bottom=None, right=None, top=0.8, wspace=None, hspace=None)\n",
    "fig.suptitle('Metabolite levels of Ammonium')\n",
    "\n",
    "x_titles = ['WT \\n without BHAC', 'WT \\n with BHAC', 'ggt1 \\n without BHAC', 'ggt1 \\n with BHAC']\n",
    "\n",
    "ax1.set(ylabel='Flux sum [\\u03BCmol m$^{-2}$ s$^{-1}$]')\n",
    "\n",
    "ax3 = ax2.twinx()\n",
    "ax2.set_ylim(0,14)\n",
    "\n",
    "ax1.bar(x_titles, nh4_hc, width=0.5, color=['#949998', '#42938B', 'r', '#75AAE5'])\n",
    "ax1.set_title('HC')\n",
    "ax1.set_ylim(0,14)\n",
    "\n",
    "ax2.bar(x_titles, nh4_ac, width=0.5, color=['#949998', '#42938B', 'r', '#75AAE5'])\n",
    "ax2.set_title('AC')\n",
    "ax2.set_ylim(0,14)\n",
    "\n",
    "plt.show()\n",
    "#plt.savefig('figures/fig4c.png', dpi=300)"
   ]
  },
  {
   "cell_type": "markdown",
   "metadata": {},
   "source": [
    "### Accumulation Amino Acids\n",
    "Roell et al.:\n",
    "- certain Amino acids get produced, when BHAC is in plant: Glutamate & Ornithine (urea cycle); Lysine & Methionine & Threonine (OAA-derived carbon skeletons with Aspartate in Chloroplast)\n",
    "- rerouting of photorespiratory glycolate into amino acids"
   ]
  },
  {
   "cell_type": "markdown",
   "metadata": {},
   "source": [
    "#### Glutamate"
   ]
  },
  {
   "cell_type": "markdown",
   "metadata": {},
   "source": [
    "There are 2 reactions that can produce glutamate in the L-citrulline metabolism (=superpathway, where ura cycle is a part of); the Glutamate Synthase Ferredoxin is again mentioned by Roell et al. as part of the GS2/Fd-GOGAT complex (complex is supposed to have less activity with BHAC), so this reaction should not be responsible for a higher glutamate production. The other reaction, ornithine-δ-aminotransferase, produces glutamate from ornithine.\n",
    "According to the Budget Plot of glutamate the reaction that produces most ist Glutamate Synthase Ferredoxin."
   ]
  },
  {
   "cell_type": "code",
   "execution_count": 103,
   "metadata": {
    "pycharm": {
     "name": "#%%\n"
    }
   },
   "outputs": [
    {
     "name": "stdout",
     "output_type": "stream",
     "text": [
      "2_KETOGLUTARATE_p + GLN_p + 2.0 PROTON_p + 2.0 Reduced_ferredoxins_p --> 2.0 GLT_p + 2.0 Oxidized_ferredoxins_p\n",
      "2_KETOGLUTARATE_m + L_ORNITHINE_m <=> GLT_m + L_GLUTAMATE_GAMMA_SEMIALDEHYDE_m\n"
     ]
    }
   ],
   "source": [
    "# the following reactions are part of the superpathway and produce glutamate\n",
    "print(c3_model.reactions.get_by_id('GLUTAMATE_SYNTHASE_FERREDOXIN_RXN_p').reaction)\n",
    "print(c3_model.reactions.get_by_id('ORNITHINE_GLU_AMINOTRANSFORASE_RXN_m').reaction)"
   ]
  },
  {
   "cell_type": "code",
   "execution_count": 104,
   "metadata": {
    "pycharm": {
     "name": "#%%\n"
    }
   },
   "outputs": [
    {
     "name": "stdout",
     "output_type": "stream",
     "text": [
      "GLUTAMATE_SYNTHASE_FERREDOXIN_RXN_p 5.77959\n",
      "ORNITHINE_GLU_AMINOTRANSFORASE_RXN_m 0.0\n"
     ]
    }
   ],
   "source": [
    "# pFBA - WT without BHAC\n",
    "print('GLUTAMATE_SYNTHASE_FERREDOXIN_RXN_p', pFBA_noBHAC.get('GLUTAMATE_SYNTHASE_FERREDOXIN_RXN_p'))\n",
    "print('ORNITHINE_GLU_AMINOTRANSFORASE_RXN_m', pFBA_noBHAC.get('ORNITHINE_GLU_AMINOTRANSFORASE_RXN_m'))"
   ]
  },
  {
   "cell_type": "code",
   "execution_count": 105,
   "metadata": {
    "pycharm": {
     "name": "#%%\n"
    }
   },
   "outputs": [
    {
     "name": "stdout",
     "output_type": "stream",
     "text": [
      "GLUTAMATE_SYNTHASE_FERREDOXIN_RXN_p 3.24643\n",
      "ORNITHINE_GLU_AMINOTRANSFORASE_RXN_m -0.0\n"
     ]
    }
   ],
   "source": [
    "# pFBA - WT with BHAC\n",
    "print('GLUTAMATE_SYNTHASE_FERREDOXIN_RXN_p', pFBA_BHAC.get('GLUTAMATE_SYNTHASE_FERREDOXIN_RXN_p'))\n",
    "print('ORNITHINE_GLU_AMINOTRANSFORASE_RXN_m', pFBA_BHAC.get('ORNITHINE_GLU_AMINOTRANSFORASE_RXN_m'))"
   ]
  },
  {
   "cell_type": "code",
   "execution_count": 106,
   "metadata": {
    "pycharm": {
     "name": "#%%\n"
    }
   },
   "outputs": [
    {
     "name": "stdout",
     "output_type": "stream",
     "text": [
      "GLUTAMATE_SYNTHASE_FERREDOXIN_RXN_p 5.77959\n",
      "ORNITHINE_GLU_AMINOTRANSFORASE_RXN_m 0.0\n",
      "GLUTAMATE_SYNTHASE_FERREDOXIN_RXN_p 2.93939\n",
      "ORNITHINE_GLU_AMINOTRANSFORASE_RXN_m 0.0\n"
     ]
    }
   ],
   "source": [
    "# pFBA - ggt for glt producing reaction\n",
    "# without BHAC\n",
    "print('GLUTAMATE_SYNTHASE_FERREDOXIN_RXN_p', pFBA_noBHAC_ggt.get('GLUTAMATE_SYNTHASE_FERREDOXIN_RXN_p'))\n",
    "print('ORNITHINE_GLU_AMINOTRANSFORASE_RXN_m', pFBA_noBHAC_ggt.get('ORNITHINE_GLU_AMINOTRANSFORASE_RXN_m'))\n",
    "# with BHAC\n",
    "print('GLUTAMATE_SYNTHASE_FERREDOXIN_RXN_p', pFBA_BHAC_ggt.get('GLUTAMATE_SYNTHASE_FERREDOXIN_RXN_p'))\n",
    "print('ORNITHINE_GLU_AMINOTRANSFORASE_RXN_m', pFBA_BHAC_ggt.get('ORNITHINE_GLU_AMINOTRANSFORASE_RXN_m'))"
   ]
  },
  {
   "cell_type": "code",
   "execution_count": 107,
   "metadata": {
    "pycharm": {
     "name": "#%%\n"
    }
   },
   "outputs": [
    {
     "name": "stdout",
     "output_type": "stream",
     "text": [
      "There are 61 reactions including the following metabolites:\n",
      " ['GLT_m', 'GLT_p', 'GLT_c', 'GLT_v', 'GLT_x'] \n",
      "\n"
     ]
    }
   ],
   "source": [
    "# get reactions where Glt (from every compartment) is part of\n",
    "glt_reactions = search_reactions('GLT', 'all')"
   ]
  },
  {
   "cell_type": "code",
   "execution_count": 108,
   "metadata": {
    "pycharm": {
     "name": "#%%\n"
    }
   },
   "outputs": [
    {
     "name": "stdout",
     "output_type": "stream",
     "text": [
      "ALANINE_AMINOTRANSFERASE_RXN_m = 0.0\n",
      "ANTHRANSYN_RXN_p = 0.01798\n",
      "BRANCHED_CHAINAMINOTRANSFERLEU_RXN_p = -0.1692\n",
      "ALANINE_AMINOTRANSFERASE_RXN_x = 0.0\n",
      "BRANCHED_CHAINAMINOTRANSFERILEU_RXN_p = -0.09573\n",
      "ORNITHINE_GLU_AMINOTRANSFORASE_RXN_m = 0.0\n",
      "GMP_SYN_GLUT_RXN_c = 0.00083\n",
      "ASPAMINOTRANS_RXN_x = 0.0\n",
      "GLUTAMINESYN_RXN_p = 5.89252\n",
      "RXN_7737_p = 0.1104\n",
      "FGAMSYN_RXN_p = 0.00155\n",
      "GLURS_RXN_c = 0.0\n",
      "PRPPAMIDOTRANS_RXN_p = 0.00155\n",
      "1_PERIOD_5_PERIOD_1_PERIOD_9_RXN_c = 0.0\n",
      "PREPHENATE_TRANSAMINE_RXN_p = 0.12116\n",
      "TYROSINE_AMINOTRANSFERASE_RXN_c = 0.0\n",
      "CYSTEINE_AMINOTRANSFERASE_RXN_m = 0.0\n",
      "GLUTAMATE_SYNTHASE_NADH_RXN_p = 0.0\n",
      "PSERTRANSAM_RXN_p = 0.0\n",
      "2_AMINOADIPATE_AMINOTRANSFERASE_RXN_c = 0.0\n",
      "GLUTAMIDOTRANS_RXN_p = 0.03543\n",
      "ASPAMINOTRANS_RXN_p = -1.2717\n",
      "GLUTKIN_RXN_c = 0.11513\n",
      "BRANCHED_CHAINAMINOTRANSFERVAL_RXN_m = 0.0\n",
      "GLUTAMINESYN_RXN_c = 0.0\n",
      "GLUTAMINESYN_RXN_m = 0.0\n",
      "ASPAMINOTRANS_RXN_c = -0.18285\n",
      "GLUTDECARBOX_RXN_c = 0.0\n",
      "ALANINE_AMINOTRANSFERASE_RXN_c = -0.24583\n",
      "GLUTAMATE_DEHYDROGENASE_RXN_m = 0.0\n",
      "ASPAMINOTRANS_RXN_m = 0.0\n",
      "PYRROLINECARBDEHYDROG_RXN_NADP_m = 0.0\n",
      "GABATRANSAM_RXN_m = 0.0\n",
      "GLUTAMATE_SYNTHASE_FERREDOXIN_RXN_p = 5.77959\n",
      "GLYCINE_AMINOTRANSFERASE_RXN_x = 2.93843\n",
      "sGLU_biomass = -0.12404\n",
      "GLUTAMATE_N_ACETYLTRANSFERASE_RXN_p = 0.07959\n",
      "HISTAMINOTRANS_RXN_p = 0.03543\n",
      "CTPSYN_RXN_p = 0.00096\n",
      "BRANCHED_CHAINAMINOTRANSFERVAL_RXN_p = -0.15588\n",
      "ACETYLORNTRANSAM_RXN_p = 0.07959\n",
      "BRANCHED_CHAINAMINOTRANSFERILEU_RXN_m = 0.0\n",
      "TYROSINE_AMINOTRANSFERASE_RXN_p = 0.0\n",
      "BRANCHED_CHAINAMINOTRANSFERLEU_RXN_m = 0.0\n",
      "\n",
      " ---------------- \n",
      " The flux sum is: 17.4554\n"
     ]
    }
   ],
   "source": [
    "# pFBA/flux sum - WT without BHAC\n",
    "flux_values_sum(glt_reactions, 'n', 'wt')"
   ]
  },
  {
   "cell_type": "code",
   "execution_count": 109,
   "metadata": {
    "pycharm": {
     "name": "#%%\n"
    }
   },
   "outputs": [
    {
     "name": "stdout",
     "output_type": "stream",
     "text": [
      "ALANINE_AMINOTRANSFERASE_RXN_m = 0.0\n",
      "ANTHRANSYN_RXN_p = 0.01829\n",
      "BRANCHED_CHAINAMINOTRANSFERLEU_RXN_p = -0.17208\n",
      "ALANINE_AMINOTRANSFERASE_RXN_x = 0.0\n",
      "BRANCHED_CHAINAMINOTRANSFERILEU_RXN_p = -0.09736\n",
      "ORNITHINE_GLU_AMINOTRANSFORASE_RXN_m = -0.0\n",
      "GMP_SYN_GLUT_RXN_c = 0.00084\n",
      "ASPAMINOTRANS_RXN_x = -0.08519\n",
      "GLUTAMINESYN_RXN_p = 3.36128\n",
      "RXN_7737_p = 0.11228\n",
      "FGAMSYN_RXN_p = 0.00158\n",
      "GLURS_RXN_c = 0.0\n",
      "PRPPAMIDOTRANS_RXN_p = 0.00158\n",
      "1_PERIOD_5_PERIOD_1_PERIOD_9_RXN_c = 0.0\n",
      "PREPHENATE_TRANSAMINE_RXN_p = 0.12322\n",
      "TYROSINE_AMINOTRANSFERASE_RXN_c = 0.0\n",
      "CYSTEINE_AMINOTRANSFERASE_RXN_m = 0.0\n",
      "GLUTAMATE_SYNTHASE_NADH_RXN_p = 0.0\n",
      "PSERTRANSAM_RXN_p = 0.0\n",
      "2_AMINOADIPATE_AMINOTRANSFERASE_RXN_c = 0.0\n",
      "GLUTAMIDOTRANS_RXN_p = 0.03603\n",
      "ASPAMINOTRANS_RXN_p = -1.29336\n",
      "GLUTKIN_RXN_c = 0.1171\n",
      "BRANCHED_CHAINAMINOTRANSFERVAL_RXN_m = 0.0\n",
      "GLUTAMINESYN_RXN_c = 0.0\n",
      "GLUTAMINESYN_RXN_m = 0.0\n",
      "ASPAMINOTRANS_RXN_c = -0.18597\n",
      "GLUTDECARBOX_RXN_c = 0.0\n",
      "ALANINE_AMINOTRANSFERASE_RXN_c = -0.25001\n",
      "GLUTAMATE_DEHYDROGENASE_RXN_m = 0.0\n",
      "ASPAMINOTRANS_RXN_m = 0.0\n",
      "PYRROLINECARBDEHYDROG_RXN_NADP_m = 0.0\n",
      "GABATRANSAM_RXN_m = 0.0\n",
      "GLUTAMATE_SYNTHASE_FERREDOXIN_RXN_p = 3.24643\n",
      "GLYCINE_AMINOTRANSFERASE_RXN_x = 0.27168\n",
      "sGLU_biomass = -0.12615\n",
      "GLUTAMATE_N_ACETYLTRANSFERASE_RXN_p = 0.08094\n",
      "HISTAMINOTRANS_RXN_p = 0.03603\n",
      "CTPSYN_RXN_p = 0.00098\n",
      "BRANCHED_CHAINAMINOTRANSFERVAL_RXN_p = -0.15853\n",
      "ACETYLORNTRANSAM_RXN_p = 0.08094\n",
      "BRANCHED_CHAINAMINOTRANSFERILEU_RXN_m = 0.0\n",
      "TYROSINE_AMINOTRANSFERASE_RXN_p = 0.0\n",
      "BRANCHED_CHAINAMINOTRANSFERLEU_RXN_m = 0.0\n",
      "\n",
      " ---------------- \n",
      " The flux sum is: 9.8579\n"
     ]
    }
   ],
   "source": [
    "# pFBA/flux sum - WT with BHAC\n",
    "flux_values_sum(glt_reactions, 'y', 'wt')"
   ]
  },
  {
   "cell_type": "code",
   "execution_count": 110,
   "metadata": {
    "pycharm": {
     "name": "#%%\n"
    }
   },
   "outputs": [
    {
     "name": "stdout",
     "output_type": "stream",
     "text": [
      "17.4554\n",
      "8.9369\n"
     ]
    }
   ],
   "source": [
    "# pFBA - ggt without BHAC\n",
    "print(flux_values_sum(glt_reactions, 'n', 'ggt', plot='plot'))\n",
    "\n",
    "# pFBA/flux sum - ggt with BHAC\n",
    "print(flux_values_sum(glt_reactions, 'y', 'ggt', plot='plot'))"
   ]
  },
  {
   "cell_type": "markdown",
   "metadata": {},
   "source": [
    "When looking at glutamate in the whole cell, without the BHAC (in wt and ggt1-1 mutant) the flux sum is way higher (contradicting Roell et al. results). Additionally, the reaction producing the most Glutamate as part of the urea cycle also has a higher flux value without BHAC.\n",
    "\n",
    "If we follow the reactions (Budget Plots) and look at the reactions with highest values/highest difference between with/without BHAC (GLUTAMATE_SYNTHASE_FERREDOXIN_RXN_p), we see that this reactions needs Glutamine, which is mostly produced with NH4 as a substrate. In wt with BHAC simulations we have (according to Roell et al.) less Ammonia. That could be reason why we also have less Glutamate, when BHAC is active. However, no idea how Roell et al. observations came together."
   ]
  },
  {
   "cell_type": "markdown",
   "metadata": {},
   "source": [
    "#### Ornithine"
   ]
  },
  {
   "cell_type": "code",
   "execution_count": 111,
   "metadata": {
    "pycharm": {
     "name": "#%%\n"
    }
   },
   "outputs": [
    {
     "data": {
      "text/html": [
       "\n",
       "        <table>\n",
       "            <tr>\n",
       "                <td><strong>Reaction identifier</strong></td><td>ARGINASE_RXN_m</td>\n",
       "            </tr><tr>\n",
       "                <td><strong>Name</strong></td><td>ARGINASE-RXN:Arginase</td>\n",
       "            </tr><tr>\n",
       "                <td><strong>Memory address</strong></td>\n",
       "                <td>0x235279d4988</td>\n",
       "            </tr><tr>\n",
       "                <td><strong>Stoichiometry</strong></td>\n",
       "                <td>\n",
       "                    <p style='text-align:right'>ARG_m + WATER_m --> L_ORNITHINE_m + UREA_m</p>\n",
       "                    <p style='text-align:right'>ARG + WATER --> L-ORNITHINE + UREA</p>\n",
       "                </td>\n",
       "            </tr><tr>\n",
       "                <td><strong>GPR</strong></td><td></td>\n",
       "            </tr><tr>\n",
       "                <td><strong>Lower bound</strong></td><td>0.0</td>\n",
       "            </tr><tr>\n",
       "                <td><strong>Upper bound</strong></td><td>1000.0</td>\n",
       "            </tr>\n",
       "        </table>\n",
       "        "
      ],
      "text/plain": [
       "<Reaction ARGINASE_RXN_m at 0x235279d4988>"
      ]
     },
     "execution_count": 111,
     "metadata": {},
     "output_type": "execute_result"
    }
   ],
   "source": [
    "# reaction to produce Ornithine in urea cycle\n",
    "c3_model.reactions.get_by_id('ARGINASE_RXN_m')"
   ]
  },
  {
   "cell_type": "code",
   "execution_count": 112,
   "metadata": {
    "pycharm": {
     "name": "#%%\n"
    }
   },
   "outputs": [
    {
     "name": "stdout",
     "output_type": "stream",
     "text": [
      "ARGINASE_RXN_m 0.0\n"
     ]
    }
   ],
   "source": [
    "# pFBA/flux sum - WT without BHAC\n",
    "print('ARGINASE_RXN_m', pFBA_noBHAC.get('ARGINASE_RXN_m'))\n",
    "\n",
    "# both times zero, so no production ornithine at all"
   ]
  },
  {
   "cell_type": "code",
   "execution_count": 113,
   "metadata": {
    "pycharm": {
     "name": "#%%\n"
    }
   },
   "outputs": [
    {
     "name": "stdout",
     "output_type": "stream",
     "text": [
      "ARGINASE_RXN_m 0.0\n"
     ]
    }
   ],
   "source": [
    "# pFBA/flux sum - WT with BHAC\n",
    "print('ARGINASE_RXN_m', pFBA_BHAC.get('ARGINASE_RXN_m'))"
   ]
  },
  {
   "cell_type": "code",
   "execution_count": 114,
   "metadata": {
    "pycharm": {
     "name": "#%%\n"
    }
   },
   "outputs": [
    {
     "name": "stdout",
     "output_type": "stream",
     "text": [
      "There are 14 reactions including the following metabolites:\n",
      " ['L_ORNITHINE_p', 'L_ORNITHINE_m', 'L_ORNITHINE_c'] \n",
      "\n"
     ]
    }
   ],
   "source": [
    "# get reactions where Ornithine (from every compartment) is part of\n",
    "orn_reactions = search_reactions('L_ORNITHINE', 'all')"
   ]
  },
  {
   "cell_type": "code",
   "execution_count": 115,
   "metadata": {
    "pycharm": {
     "name": "#%%\n"
    }
   },
   "outputs": [
    {
     "name": "stdout",
     "output_type": "stream",
     "text": [
      "GLUTAMATE_N_ACETYLTRANSFERASE_RXN_p = 0.07959\n",
      "ORNITHINE_GLU_AMINOTRANSFORASE_RXN_m = 0.0\n",
      "ORNCARBAMTRANSFER_RXN_p = 0.07959\n",
      "ARGINASE_RXN_m = 0.0\n",
      "\n",
      " ---------------- \n",
      " The flux sum is: 0.1592\n"
     ]
    }
   ],
   "source": [
    "# pFBA/flux sum - WT without BHAC\n",
    "flux_values_sum(orn_reactions, 'n', 'wt')"
   ]
  },
  {
   "cell_type": "code",
   "execution_count": 116,
   "metadata": {
    "pycharm": {
     "name": "#%%\n"
    }
   },
   "outputs": [
    {
     "name": "stdout",
     "output_type": "stream",
     "text": [
      "GLUTAMATE_N_ACETYLTRANSFERASE_RXN_p = 0.08094\n",
      "ORNITHINE_GLU_AMINOTRANSFORASE_RXN_m = -0.0\n",
      "ORNCARBAMTRANSFER_RXN_p = 0.08094\n",
      "ARGINASE_RXN_m = 0.0\n",
      "\n",
      " ---------------- \n",
      " The flux sum is: 0.1619\n"
     ]
    }
   ],
   "source": [
    "# pFBA/flux sum - WT with BHAC\n",
    "flux_values_sum(orn_reactions, 'y', 'wt')"
   ]
  },
  {
   "cell_type": "code",
   "execution_count": 117,
   "metadata": {
    "pycharm": {
     "name": "#%%\n"
    }
   },
   "outputs": [
    {
     "name": "stdout",
     "output_type": "stream",
     "text": [
      "GLUTAMATE_N_ACETYLTRANSFERASE_RXN_p: GLT_p + N_ALPHA_ACETYLORNITHINE_p --> ACETYL_GLU_p + L_ORNITHINE_p\n",
      "ORNCARBAMTRANSFER_RXN_p: CARBAMOYL_P_p + L_ORNITHINE_p <=> L_CITRULLINE_p + PROTON_p + Pi_p\n"
     ]
    }
   ],
   "source": [
    "print(c3_model.reactions.get_by_id('GLUTAMATE_N_ACETYLTRANSFERASE_RXN_p'))\n",
    "print(c3_model.reactions.get_by_id('ORNCARBAMTRANSFER_RXN_p'))\n",
    "\n",
    "# second reaction ORNCARBAMTRANSFER_RXN_p is part of the urea cycle to consume Ornithine"
   ]
  },
  {
   "cell_type": "code",
   "execution_count": 118,
   "metadata": {
    "pycharm": {
     "name": "#%%\n"
    }
   },
   "outputs": [
    {
     "name": "stdout",
     "output_type": "stream",
     "text": [
      "0.1592\n",
      "0.1621\n"
     ]
    }
   ],
   "source": [
    "# pFBA - ggt without BHAC\n",
    "print(flux_values_sum(orn_reactions, 'n', 'ggt', plot='plot'))\n",
    "\n",
    "# pFBA - ggt with BHAC\n",
    "print(flux_values_sum(orn_reactions, 'y', 'ggt', plot='plot'))"
   ]
  },
  {
   "cell_type": "markdown",
   "metadata": {},
   "source": [
    "With BHAC in the wt and ggt1-1 mutant the flux sum is slightly higher confirming Roell et al. results, but production is not in urea cycle"
   ]
  },
  {
   "cell_type": "markdown",
   "metadata": {},
   "source": [
    "#### Lysine & Methionine & Threonine"
   ]
  },
  {
   "cell_type": "code",
   "execution_count": 119,
   "metadata": {
    "pycharm": {
     "name": "#%%\n"
    }
   },
   "outputs": [
    {
     "name": "stdout",
     "output_type": "stream",
     "text": [
      "starting point is the aspartate superpathway:\n",
      "ATP_p + L_ASPARTATE_p + 0.1 PROTON_p --> ADP_p + L_BETA_ASPARTYL_P_p\n",
      "L_BETA_ASPARTYL_P_p + NADPH_p + PROTON_p --> L_ASPARTATE_SEMIALDEHYDE_p + NADP_p + Pi_p\n",
      "Lysine production pathway (see below) also uses L_ASPARTATE_SEMIALDEHYDE_p but in different reactions than Thr & Met\n",
      "L_ASPARTATE_SEMIALDEHYDE_p + NADPH_p + PROTON_p --> HOMO_SER_p + NADP_p\n",
      "L_ASPARTATE_SEMIALDEHYDE_p + NADH_p + PROTON_p --> HOMO_SER_p + NAD_p\n",
      "ATP_p + HOMO_SER_p --> ADP_p + O_PHOSPHO_L_HOMOSERINE_p + 0.9 PROTON_p\n",
      "---------- \n",
      "Thr\n",
      "O_PHOSPHO_L_HOMOSERINE_p + WATER_p --> Pi_p + THR_p\n",
      "---------- \n",
      "Met\n",
      "CYS_p + O_PHOSPHO_L_HOMOSERINE_p --> L_CYSTATHIONINE_p + Pi_p\n",
      "L_CYSTATHIONINE_p + WATER_p --> AMMONIUM_p + HOMO_CYS_p + PYRUVATE_p\n",
      "5_METHYL_THF_p + HOMO_CYS_p --> MET_p + THF_p\n",
      "---------- \n",
      "Lys\n",
      "L_ASPARTATE_SEMIALDEHYDE_p + PYRUVATE_p --> 2_3_DIHYDRODIPICOLINATE_p + PROTON_p + 2.0 WATER_p\n",
      "2_3_DIHYDRODIPICOLINATE_p + NADPH_p + PROTON_p --> DELTA1_PIPERIDEINE_2_6_DICARBOXYLATE_p + NADP_p\n",
      "2_3_DIHYDRODIPICOLINATE_p + NADH_p + PROTON_p --> DELTA1_PIPERIDEINE_2_6_DICARBOXYLATE_p + NAD_p\n",
      "DELTA1_PIPERIDEINE_2_6_DICARBOXYLATE_p + GLT_p + PROTON_p + WATER_p --> 2_KETOGLUTARATE_p + LL_DIAMINOPIMELATE_p\n",
      "LL_DIAMINOPIMELATE_p --> MESO_DIAMINOPIMELATE_p\n",
      "MESO_DIAMINOPIMELATE_p + PROTON_p --> CARBON_DIOXIDE_p + LYS_p\n"
     ]
    }
   ],
   "source": [
    "# starting with Aspartate (Metacyc: aspartate superpathway)\n",
    "print('starting point is the aspartate superpathway:')\n",
    "print(c3_model.reactions.get_by_id('ASPARTATEKIN_RXN_p').reaction)\n",
    "print(c3_model.reactions.get_by_id('ASPARTATE_SEMIALDEHYDE_DEHYDROGENASE_RXN_p').reaction)\n",
    "print('Lysine production pathway (see below) also uses L_ASPARTATE_SEMIALDEHYDE_p but in different reactions than Thr & Met')\n",
    "# Thr & Met\n",
    "print(c3_model.reactions.get_by_id('HOMOSERDEHYDROG_RXN_NADP_p').reaction)\n",
    "print(c3_model.reactions.get_by_id('HOMOSERDEHYDROG_RXN_NAD_p').reaction)\n",
    "print(c3_model.reactions.get_by_id('HOMOSERKIN_RXN_p').reaction)\n",
    "\n",
    "# Thr\n",
    "print('-'*10, '\\nThr')\n",
    "print(c3_model.reactions.get_by_id('THRESYN_RXN_p').reaction) # Thr done\n",
    "\n",
    "# Met\n",
    "print('-'*10, '\\nMet')\n",
    "print(c3_model.reactions.get_by_id('CYSPH_RXN_p').reaction)\n",
    "print(c3_model.reactions.get_by_id('CYSTATHIONINE_BETA_LYASE_RXN_p').reaction)\n",
    "print(c3_model.reactions.get_by_id('HOMOCYSMETB12_RXN_p').reaction)\n",
    "\n",
    "# Lys\n",
    "print('-'*10, '\\nLys')\n",
    "print(c3_model.reactions.get_by_id('DIHYDRODIPICSYN_RXN_p').reaction)\n",
    "print(c3_model.reactions.get_by_id('DIHYDROPICRED_RXN_NADP_p').reaction)\n",
    "print(c3_model.reactions.get_by_id('DIHYDROPICRED_RXN_NAD_p').reaction)\n",
    "print(c3_model.reactions.get_by_id('RXN_7737_p').reaction)\n",
    "print(c3_model.reactions.get_by_id('DIAMINOPIMEPIM_RXN_p').reaction)\n",
    "print(c3_model.reactions.get_by_id('DIAMINOPIMDECARB_RXN_p').reaction)"
   ]
  },
  {
   "cell_type": "markdown",
   "metadata": {},
   "source": [
    "##### Methionine"
   ]
  },
  {
   "cell_type": "code",
   "execution_count": 120,
   "metadata": {
    "pycharm": {
     "name": "#%%\n"
    }
   },
   "outputs": [],
   "source": [
    "met_pathway = ['CYSPH_RXN_p', 'CYSTATHIONINE_BETA_LYASE_RXN_p', 'HOMOCYSMETB12_RXN_p']"
   ]
  },
  {
   "cell_type": "code",
   "execution_count": 121,
   "metadata": {
    "pycharm": {
     "name": "#%%\n"
    }
   },
   "outputs": [
    {
     "name": "stdout",
     "output_type": "stream",
     "text": [
      "CYSPH_RXN_p = 0.03582\n",
      "CYSTATHIONINE_BETA_LYASE_RXN_p = 0.03582\n",
      "HOMOCYSMETB12_RXN_p = 0.0\n",
      "\n",
      " ---------------- \n",
      " The flux sum is: 0.0716\n"
     ]
    }
   ],
   "source": [
    "# pFBA/flux sum - WT without BHAC\n",
    "flux_values_sum(met_pathway, 'n', 'wt')"
   ]
  },
  {
   "cell_type": "code",
   "execution_count": 122,
   "metadata": {
    "pycharm": {
     "name": "#%%\n"
    }
   },
   "outputs": [
    {
     "name": "stdout",
     "output_type": "stream",
     "text": [
      "CYSPH_RXN_p = 0.03643\n",
      "CYSTATHIONINE_BETA_LYASE_RXN_p = 0.03643\n",
      "HOMOCYSMETB12_RXN_p = -0.0\n",
      "\n",
      " ---------------- \n",
      " The flux sum is: 0.0729\n"
     ]
    }
   ],
   "source": [
    "# pFBA/flux sum - WT with BHAC\n",
    "flux_values_sum(met_pathway, 'y', 'wt')\n",
    "\n",
    "# flux with BHAC is slightly higher (=Roell), but Met is not produced"
   ]
  },
  {
   "cell_type": "code",
   "execution_count": 123,
   "metadata": {
    "pycharm": {
     "name": "#%%\n"
    }
   },
   "outputs": [
    {
     "name": "stdout",
     "output_type": "stream",
     "text": [
      "There are 12 reactions including the following metabolites:\n",
      " ['MET_p', 'MET_c', 'MET_v'] \n",
      "\n"
     ]
    }
   ],
   "source": [
    "# get reactions for methionine in the whole cell\n",
    "met_reactions = search_reactions('MET', 'all')"
   ]
  },
  {
   "cell_type": "code",
   "execution_count": 124,
   "metadata": {
    "pycharm": {
     "name": "#%%\n"
    }
   },
   "outputs": [
    {
     "name": "stdout",
     "output_type": "stream",
     "text": [
      "S_ADENMETSYN_RXN_c = 0.0\n",
      "sMET_biomass = 0.03582\n",
      "HOMOCYSMETB12_RXN_p = 0.0\n",
      "HOMOCYSMETB12_RXN_c = 0.03582\n",
      "METHIONINE_TRNA_LIGASE_RXN_c = 0.0\n",
      "\n",
      " ---------------- \n",
      " The flux sum is: 0.0716\n",
      "S_ADENMETSYN_RXN_c = 0.0\n",
      "sMET_biomass = 0.03643\n",
      "HOMOCYSMETB12_RXN_p = -0.0\n",
      "HOMOCYSMETB12_RXN_c = 0.03643\n",
      "METHIONINE_TRNA_LIGASE_RXN_c = 0.0\n",
      "\n",
      " ---------------- \n",
      " The flux sum is: 0.0729\n"
     ]
    }
   ],
   "source": [
    "# pFBA/flux sum - WT without BHAC\n",
    "flux_values_sum(met_reactions, 'n', 'wt')\n",
    "\n",
    "# pFBA/flux sum - WT with BHAC\n",
    "flux_values_sum(met_reactions, 'y', 'wt')\n",
    "\n",
    "\n",
    "# same results as with specific methionine pathway\n",
    "# = Roell results\n",
    "# Met producing reaction is active in cytosol instead of plastid (HOMOCYSMETB12_RXN)"
   ]
  },
  {
   "cell_type": "code",
   "execution_count": 125,
   "metadata": {
    "pycharm": {
     "name": "#%%\n"
    }
   },
   "outputs": [
    {
     "name": "stdout",
     "output_type": "stream",
     "text": [
      "0.0716\n",
      "0.0729\n"
     ]
    }
   ],
   "source": [
    "# pFBA/flux sum - ggt without BHAC\n",
    "print(flux_values_sum(met_reactions, 'n', 'ggt', plot='plot'))\n",
    "\n",
    "# pFBA/flux sum - ggt with BHAC\n",
    "print(flux_values_sum(met_reactions, 'y', 'ggt', plot='plot'))"
   ]
  },
  {
   "cell_type": "markdown",
   "metadata": {},
   "source": [
    "The methionine production is higher in wt and ggt1-1 mutant when BHAC is active confoeming Roell et al results."
   ]
  },
  {
   "cell_type": "code",
   "execution_count": 126,
   "metadata": {
    "pycharm": {
     "name": "#%%\n"
    }
   },
   "outputs": [
    {
     "name": "stdout",
     "output_type": "stream",
     "text": [
      "CYSPH_RXN_p = 0.04919\n",
      "CYSTATHIONINE_BETA_LYASE_RXN_p = 0.04919\n",
      "HOMOCYSMETB12_RXN_p = 0.0246\n",
      "\n",
      " ---------------- \n",
      " The flux sum is: 0.123\n",
      "\n",
      "values through the 2 objectives:\n",
      "Arabidopsis_biomass_tx: 0.02462\n",
      "HOMOCYSMETB12_RXN_c: 0.02462\n",
      "HOMOCYSMETB12_RXN_p: 0.02462\n"
     ]
    }
   ],
   "source": [
    "# WT with BHAC\n",
    "# 2 objectives: biomass and methionine production\n",
    "objective_met = {\n",
    "    c3_model.reactions.get_by_id('Arabidopsis_biomass_tx') : 1,\n",
    "    c3_model.reactions.get_by_id('HOMOCYSMETB12_RXN_c') : 1,\n",
    "    c3_model.reactions.get_by_id('HOMOCYSMETB12_RXN_p') : 1\n",
    "}\n",
    "\n",
    "with c3_model:\n",
    "    c3_model.objective = objective_met\n",
    "\n",
    "    set_fixed_flux_ratio({'Arabidopsis_biomass_tx':1,'HOMOCYSMETB12_RXN_c':1},c3_model)\n",
    "    set_fixed_flux_ratio({'Arabidopsis_biomass_tx':1,'HOMOCYSMETB12_RXN_p':1},c3_model)\n",
    "\n",
    "    pFBA = round(pfba(c3_model).fluxes, 5)\n",
    "\n",
    "    flux_values_sum(met_pathway, 'y', 'wt')\n",
    "\n",
    "    print('\\nvalues through the 2 objectives:')\n",
    "    print('Arabidopsis_biomass_tx:', pFBA.get('Arabidopsis_biomass_tx'))\n",
    "    print('HOMOCYSMETB12_RXN_c:', pFBA.get('HOMOCYSMETB12_RXN_c'))\n",
    "    print('HOMOCYSMETB12_RXN_p:', pFBA.get('HOMOCYSMETB12_RXN_p'))"
   ]
  },
  {
   "cell_type": "code",
   "execution_count": 127,
   "metadata": {
    "pycharm": {
     "name": "#%%\n"
    }
   },
   "outputs": [
    {
     "name": "stdout",
     "output_type": "stream",
     "text": [
      "CYSPH_RXN_p = 0.04839\n",
      "CYSTATHIONINE_BETA_LYASE_RXN_p = 0.04839\n",
      "HOMOCYSMETB12_RXN_p = 0.02419\n",
      "\n",
      " ---------------- \n",
      " The flux sum is: 0.121\n",
      "\n",
      "values through the 2 objectives:\n",
      "Arabidopsis_biomass_tx: 0.02419\n",
      "HOMOCYSMETB12_RXN_c: 0.02419\n",
      "HOMOCYSMETB12_RXN_p: 0.02419\n"
     ]
    }
   ],
   "source": [
    "# WT without BHAC\n",
    "# 2 objectives: biomass and methionine production\n",
    "with c3_model:\n",
    "    c3_model.objective = objective_met\n",
    "\n",
    "    for i in bhac_c3:\n",
    "        c3_model.reactions.get_by_id(i).knock_out()\n",
    "\n",
    "    set_fixed_flux_ratio({'Arabidopsis_biomass_tx':1,'HOMOCYSMETB12_RXN_c':1},c3_model)\n",
    "    set_fixed_flux_ratio({'Arabidopsis_biomass_tx':1,'HOMOCYSMETB12_RXN_p':1},c3_model)\n",
    "\n",
    "    pFBA = round(pfba(c3_model).fluxes, 5)\n",
    "\n",
    "    flux_values_sum(met_pathway, 'n', 'wt')\n",
    "\n",
    "    print('\\nvalues through the 2 objectives:')\n",
    "    print('Arabidopsis_biomass_tx:', pFBA.get('Arabidopsis_biomass_tx'))\n",
    "    print('HOMOCYSMETB12_RXN_c:', pFBA.get('HOMOCYSMETB12_RXN_c'))\n",
    "    print('HOMOCYSMETB12_RXN_p:', pFBA.get('HOMOCYSMETB12_RXN_p'))"
   ]
  },
  {
   "cell_type": "markdown",
   "metadata": {},
   "source": [
    "If ratios are implemented forcing biomass production, there is a biomass production whereas without a ratio, the model would only produce Met without biomass; values with BHAC higher than without"
   ]
  },
  {
   "cell_type": "markdown",
   "metadata": {},
   "source": [
    "##### Threonine"
   ]
  },
  {
   "cell_type": "code",
   "execution_count": 128,
   "metadata": {
    "pycharm": {
     "name": "#%%\n"
    }
   },
   "outputs": [],
   "source": [
    "# thr_pathway = ['ASPARTATEKIN_RXN_p', 'ASPARTATE_SEMIALDEHYDE_DEHYDROGENASE_RXN_p', 'HOMOSERDEHYDROG_RXN_NADP_p', 'HOMOSERDEHYDROG_RXN_NAD_p', 'HOMOSERKIN_RXN_p', 'THRESYN_RXN_p']\n",
    "thr_pathway = ['THRESYN_RXN_p']"
   ]
  },
  {
   "cell_type": "code",
   "execution_count": 129,
   "metadata": {
    "pycharm": {
     "name": "#%%\n"
    }
   },
   "outputs": [
    {
     "name": "stdout",
     "output_type": "stream",
     "text": [
      "THRESYN_RXN_p without BHAC: 1.00566\n",
      "THRESYN_RXN_p with BHAC: 1.02279\n"
     ]
    }
   ],
   "source": [
    "# pFBA - WT without BHAC\n",
    "print('THRESYN_RXN_p without BHAC:',pFBA_noBHAC.get('THRESYN_RXN_p'))\n",
    "\n",
    "# pFBA - WT with BHAC\n",
    "print('THRESYN_RXN_p with BHAC:', pFBA_BHAC.get('THRESYN_RXN_p'))\n",
    "\n",
    "# higher Threonine Production with BHAC"
   ]
  },
  {
   "cell_type": "code",
   "execution_count": 130,
   "metadata": {
    "pycharm": {
     "name": "#%%\n"
    }
   },
   "outputs": [
    {
     "name": "stdout",
     "output_type": "stream",
     "text": [
      "There are 12 reactions including the following metabolites:\n",
      " ['THR_p', 'THR_c', 'THR_v'] \n",
      "\n"
     ]
    }
   ],
   "source": [
    "# searching for all threonine reactions\n",
    "thr_reactions = search_reactions('THR', 'all')"
   ]
  },
  {
   "cell_type": "code",
   "execution_count": 131,
   "metadata": {
    "pycharm": {
     "name": "#%%\n"
    }
   },
   "outputs": [
    {
     "name": "stdout",
     "output_type": "stream",
     "text": [
      "THREONINE_ALDOLASE_RXN_c = 0.76426\n",
      "THRESYN_RXN_p = 1.00566\n",
      "THREDEHYD_RXN_p = 0.09573\n",
      "sTHR_biomass = 0.14566\n",
      "THREONINE_TRNA_LIGASE_RXN_c = 0.0\n",
      "\n",
      " ---------------- \n",
      " The flux sum is: 2.0113\n",
      "\n",
      "\n",
      "THREONINE_ALDOLASE_RXN_c = 0.77728\n",
      "THRESYN_RXN_p = 1.02279\n",
      "THREDEHYD_RXN_p = 0.09736\n",
      "sTHR_biomass = 0.14814\n",
      "THREONINE_TRNA_LIGASE_RXN_c = 0.0\n",
      "\n",
      " ---------------- \n",
      " The flux sum is: 2.0456\n"
     ]
    }
   ],
   "source": [
    "# pFBA/flux sum - wt without BHAC\n",
    "flux_values_sum(thr_reactions, 'n', 'wt')\n",
    "\n",
    "print('\\n')\n",
    "\n",
    "# pFBA/flux sum - wt with BHAC\n",
    "flux_values_sum(thr_reactions, 'y', 'wt')\n",
    "\n",
    "# in whole cell there is more Thr produced when BHAC is active (=Roell)"
   ]
  },
  {
   "cell_type": "code",
   "execution_count": 132,
   "metadata": {
    "pycharm": {
     "name": "#%%\n"
    }
   },
   "outputs": [
    {
     "name": "stdout",
     "output_type": "stream",
     "text": [
      "2.0113\n",
      "2.0476\n"
     ]
    }
   ],
   "source": [
    "# pFBA/flux sum - ggt without BHAC\n",
    "print(flux_values_sum(thr_reactions, 'n', 'ggt', plot='plot'))\n",
    "\n",
    "# pFBA/flux sum - ggt with BHAC\n",
    "print(flux_values_sum(thr_reactions, 'y', 'ggt', plot='plot'))"
   ]
  },
  {
   "cell_type": "markdown",
   "metadata": {},
   "source": [
    "There is more threonine in the wt and ggt-1 mutant cell when BHAC is active confirming Roell et al. results"
   ]
  },
  {
   "cell_type": "markdown",
   "metadata": {},
   "source": [
    "##### Lysine"
   ]
  },
  {
   "cell_type": "code",
   "execution_count": 133,
   "metadata": {
    "pycharm": {
     "name": "#%%\n"
    }
   },
   "outputs": [],
   "source": [
    "lys_pathway = ['DIHYDRODIPICSYN_RXN_p', 'DIHYDROPICRED_RXN_NADP_p', 'DIHYDROPICRED_RXN_NAD_p', 'RXN_7737_p', 'DIAMINOPIMEPIM_RXN_p', 'DIAMINOPIMDECARB_RXN_p']"
   ]
  },
  {
   "cell_type": "code",
   "execution_count": 134,
   "metadata": {
    "pycharm": {
     "name": "#%%\n"
    }
   },
   "outputs": [
    {
     "name": "stdout",
     "output_type": "stream",
     "text": [
      "DIHYDRODIPICSYN_RXN_p = 0.1104\n",
      "DIHYDROPICRED_RXN_NADP_p = 0.0\n",
      "DIHYDROPICRED_RXN_NAD_p = 0.1104\n",
      "RXN_7737_p = 0.1104\n",
      "DIAMINOPIMEPIM_RXN_p = 0.1104\n",
      "DIAMINOPIMDECARB_RXN_p = 0.1104\n",
      "\n",
      " ---------------- \n",
      " The flux sum is: 0.552\n"
     ]
    }
   ],
   "source": [
    "# pFBA - WT without BHAC\n",
    "flux_values_sum(lys_pathway, 'n', 'wt')"
   ]
  },
  {
   "cell_type": "code",
   "execution_count": 135,
   "metadata": {
    "pycharm": {
     "name": "#%%\n"
    }
   },
   "outputs": [
    {
     "name": "stdout",
     "output_type": "stream",
     "text": [
      "DIHYDRODIPICSYN_RXN_p = 0.11228\n",
      "DIHYDROPICRED_RXN_NADP_p = 0.0\n",
      "DIHYDROPICRED_RXN_NAD_p = 0.11228\n",
      "RXN_7737_p = 0.11228\n",
      "DIAMINOPIMEPIM_RXN_p = 0.11228\n",
      "DIAMINOPIMDECARB_RXN_p = 0.11228\n",
      "\n",
      " ---------------- \n",
      " The flux sum is: 0.5614\n"
     ]
    }
   ],
   "source": [
    "# pFBA - WT with BHAC\n",
    "flux_values_sum(lys_pathway, 'y', 'wt')"
   ]
  },
  {
   "cell_type": "code",
   "execution_count": 136,
   "metadata": {
    "pycharm": {
     "name": "#%%\n"
    }
   },
   "outputs": [
    {
     "name": "stdout",
     "output_type": "stream",
     "text": [
      "There are 15 reactions including the following metabolites:\n",
      " ['LYS_p', 'LYS_m', 'LYS_v', 'LYS_c'] \n",
      "\n"
     ]
    }
   ],
   "source": [
    "# looking at Lys reactions in the whole cell\n",
    "lys_reaction = search_reactions('LYS', 'all')"
   ]
  },
  {
   "cell_type": "code",
   "execution_count": 137,
   "metadata": {
    "pycharm": {
     "name": "#%%\n"
    }
   },
   "outputs": [
    {
     "name": "stdout",
     "output_type": "stream",
     "text": [
      "LYSINE_TRNA_LIGASE_RXN_c = 0.0\n",
      "1_PERIOD_5_PERIOD_1_PERIOD_8_RXN_c = 0.0\n",
      "sLYS_biomass = 0.1104\n",
      "DIAMINOPIMDECARB_RXN_p = 0.1104\n",
      "\n",
      " ---------------- \n",
      " The flux sum is: 0.2208\n",
      "\n",
      "\n",
      "LYSINE_TRNA_LIGASE_RXN_c = 0.0\n",
      "1_PERIOD_5_PERIOD_1_PERIOD_8_RXN_c = 0.0\n",
      "sLYS_biomass = 0.11228\n",
      "DIAMINOPIMDECARB_RXN_p = 0.11228\n",
      "\n",
      " ---------------- \n",
      " The flux sum is: 0.2246\n"
     ]
    }
   ],
   "source": [
    "# pFBA/flux sum - wt without BHAC\n",
    "flux_values_sum(lys_reaction, 'n', 'wt')\n",
    "\n",
    "print('\\n')\n",
    "\n",
    "# pFBA/flux sum - wt with BHAC\n",
    "flux_values_sum(lys_reaction, 'y', 'wt')"
   ]
  },
  {
   "cell_type": "code",
   "execution_count": 138,
   "metadata": {
    "pycharm": {
     "name": "#%%\n"
    }
   },
   "outputs": [
    {
     "name": "stdout",
     "output_type": "stream",
     "text": [
      "0.2208\n",
      "0.2248\n"
     ]
    }
   ],
   "source": [
    "# pFBA/flux sum - ggt without BHAC\n",
    "print(flux_values_sum(lys_reaction, 'n', 'ggt', plot='plot'))\n",
    "\n",
    "# pFBA/flux sum - ggt with BHAC\n",
    "print(flux_values_sum(lys_reaction, 'y', 'ggt', plot='plot'))"
   ]
  },
  {
   "cell_type": "markdown",
   "metadata": {},
   "source": [
    "In whole cell (wt and ggt1-1 mutant) there is more lysine produced when BHAC is active confirming Roell et al. results."
   ]
  },
  {
   "cell_type": "markdown",
   "metadata": {
    "pycharm": {
     "name": "#%% md\n"
    }
   },
   "source": [
    "### OAA Metabolism\n",
    "Roell et al.: different routes for OAA based on the export from OAA out of Peroxisome\n",
    "\n",
    "(1) transport OAA into mitochondria to fuel TCA cycle (accumulation citrate speaks for active route)\n",
    "\n",
    "(2) PCK1 decarboxylates OAA to PEP\n",
    "(2.1) PEP can go into Gluconeogenesis or\n",
    "(2.2) gets converted to Pyruvate by Pyruvate Kinase (accumulation Pyruvat speaks for an active PK route)\n",
    "\n",
    "(3) peroxisomal reduction to Malate"
   ]
  },
  {
   "cell_type": "markdown",
   "metadata": {},
   "source": [
    "#### (1) OAA fuels mitochondrial TCA cycle - accumulation of citrate"
   ]
  },
  {
   "cell_type": "code",
   "execution_count": 139,
   "metadata": {
    "pycharm": {
     "name": "#%%\n"
    }
   },
   "outputs": [
    {
     "data": {
      "text/html": [
       "\n",
       "        <table>\n",
       "            <tr>\n",
       "                <td><strong>Metabolite identifier</strong></td><td>OXALACETIC_ACID_m</td>\n",
       "            </tr><tr>\n",
       "                <td><strong>Name</strong></td><td>OXALACETIC_ACID[m]</td>\n",
       "            </tr><tr>\n",
       "                <td><strong>Memory address</strong></td>\n",
       "                <td>0x2352791c908</td>\n",
       "            </tr><tr>\n",
       "                <td><strong>Formula</strong></td><td>C4H2O5</td>\n",
       "            </tr><tr>\n",
       "                <td><strong>Compartment</strong></td><td>m</td>\n",
       "            </tr><tr>\n",
       "                <td><strong>In 11 reaction(s)</strong></td><td>\n",
       "                    OAA_SO4_mc, ASPAMINOTRANS_RXN_m, OAA_ACONITATE_mc, MALATE_DEH_RXN_m, CITSYN_RXN_m, 2KG_OAA_mc, OAA_Pi_mc, OAA_SUC_mc, OAA_ISOCITRATE_mc, OAA_CIT_mc, OAA_MAL_mc\n",
       "                    </td>\n",
       "            </tr>\n",
       "        </table>"
      ],
      "text/plain": [
       "<Metabolite OXALACETIC_ACID_m at 0x2352791c908>"
      ]
     },
     "execution_count": 139,
     "metadata": {},
     "output_type": "execute_result"
    }
   ],
   "source": [
    "#metabolite OAA in mitochondria\n",
    "c3_model.metabolites.OXALACETIC_ACID_m"
   ]
  },
  {
   "cell_type": "code",
   "execution_count": 140,
   "metadata": {
    "pycharm": {
     "name": "#%%\n"
    }
   },
   "outputs": [
    {
     "data": {
      "text/html": [
       "\n",
       "        <table>\n",
       "            <tr>\n",
       "                <td><strong>Reaction identifier</strong></td><td>CITSYN_RXN_m</td>\n",
       "            </tr><tr>\n",
       "                <td><strong>Name</strong></td><td>CITSYN-RXN:Citrate (si)-synthase</td>\n",
       "            </tr><tr>\n",
       "                <td><strong>Memory address</strong></td>\n",
       "                <td>0x23527cf0688</td>\n",
       "            </tr><tr>\n",
       "                <td><strong>Stoichiometry</strong></td>\n",
       "                <td>\n",
       "                    <p style='text-align:right'>ACETYL_COA_m + OXALACETIC_ACID_m + WATER_m --> CIT_m + CO_A_m + PROTON_m</p>\n",
       "                    <p style='text-align:right'>ACETYL-COA + OXALACETIC_ACID[m] + WATER --> CIT + CO-A + PROTON</p>\n",
       "                </td>\n",
       "            </tr><tr>\n",
       "                <td><strong>GPR</strong></td><td></td>\n",
       "            </tr><tr>\n",
       "                <td><strong>Lower bound</strong></td><td>0.0</td>\n",
       "            </tr><tr>\n",
       "                <td><strong>Upper bound</strong></td><td>1000.0</td>\n",
       "            </tr>\n",
       "        </table>\n",
       "        "
      ],
      "text/plain": [
       "<Reaction CITSYN_RXN_m at 0x23527cf0688>"
      ]
     },
     "execution_count": 140,
     "metadata": {},
     "output_type": "execute_result"
    }
   ],
   "source": [
    "c3_model.reactions.CITSYN_RXN_m # OAA into Citrate"
   ]
  },
  {
   "cell_type": "code",
   "execution_count": 141,
   "metadata": {
    "pycharm": {
     "name": "#%%\n"
    }
   },
   "outputs": [
    {
     "data": {
      "text/plain": [
       "[<Reaction CITSYN_RXN_x at 0x23527cc1f88>,\n",
       " <Reaction CITSYN_RXN_m at 0x23527cf0688>]"
      ]
     },
     "execution_count": 141,
     "metadata": {},
     "output_type": "execute_result"
    }
   ],
   "source": [
    "c3_model.reactions.query('CITSYN_RXN')"
   ]
  },
  {
   "cell_type": "code",
   "execution_count": 142,
   "metadata": {
    "pycharm": {
     "name": "#%%\n"
    }
   },
   "outputs": [
    {
     "name": "stdout",
     "output_type": "stream",
     "text": [
      "CITSYN_RXN_m: 0.0\n",
      "CITSYN_RXN_x: 0.40656\n"
     ]
    }
   ],
   "source": [
    "# pFBA - WT without BHAC\n",
    "print('CITSYN_RXN_m:', pFBA_noBHAC.get('CITSYN_RXN_m'))\n",
    "print('CITSYN_RXN_x:', pFBA_noBHAC.get('CITSYN_RXN_x'))"
   ]
  },
  {
   "cell_type": "code",
   "execution_count": 143,
   "metadata": {
    "pycharm": {
     "name": "#%%\n"
    }
   },
   "outputs": [
    {
     "name": "stdout",
     "output_type": "stream",
     "text": [
      "CITSYN_RXN_m: 0.0\n",
      "CITSYN_RXN_x: 0.41348\n"
     ]
    }
   ],
   "source": [
    "# pFBA - WT with BHAC\n",
    "print('CITSYN_RXN_m:', pFBA_BHAC.get('CITSYN_RXN_m'))\n",
    "print('CITSYN_RXN_x:', pFBA_BHAC.get('CITSYN_RXN_x'))\n",
    "\n",
    "# no flux in mitochondria (contradicting the results from Roell)\n",
    "# but flux in peroxisome and with BHAC the flux is higher (corresponds to Roell)"
   ]
  },
  {
   "cell_type": "code",
   "execution_count": 144,
   "metadata": {
    "pycharm": {
     "name": "#%%\n"
    }
   },
   "outputs": [
    {
     "name": "stdout",
     "output_type": "stream",
     "text": [
      "ggt - BHAC\n",
      "CITSYN_RXN_m: 0.0\n",
      "CITSYN_RXN_x: 0.40656\n",
      "\n",
      "\n",
      "ggt + BHAC\n",
      "CITSYN_RXN_m: 0.0\n",
      "CITSYN_RXN_x: 0.4139\n"
     ]
    }
   ],
   "source": [
    "# pFBA - ggt without BHAC\n",
    "print('ggt - BHAC')\n",
    "print('CITSYN_RXN_m:', pFBA_noBHAC_ggt.get('CITSYN_RXN_m'))\n",
    "print('CITSYN_RXN_x:', pFBA_noBHAC_ggt.get('CITSYN_RXN_x'))\n",
    "\n",
    "print('\\n')\n",
    "\n",
    "# pFBA - ggt with BHAC\n",
    "print('ggt + BHAC')\n",
    "print('CITSYN_RXN_m:', pFBA_BHAC_ggt.get('CITSYN_RXN_m'))\n",
    "print('CITSYN_RXN_x:', pFBA_BHAC_ggt.get('CITSYN_RXN_x'))"
   ]
  },
  {
   "cell_type": "code",
   "execution_count": 145,
   "metadata": {
    "pycharm": {
     "name": "#%%\n"
    }
   },
   "outputs": [
    {
     "name": "stdout",
     "output_type": "stream",
     "text": [
      "There are 8 reactions including the following metabolites:\n",
      " ['CIT_m'] \n",
      "\n",
      "0.0\n",
      "0.0\n",
      "0.0\n",
      "0.0\n"
     ]
    }
   ],
   "source": [
    "cit_m_reactions = search_reactions('CIT', 'm')\n",
    "\n",
    "print(flux_values_sum(cit_m_reactions, 'n', 'wt', plot='plot'))\n",
    "print(flux_values_sum(cit_m_reactions, 'y', 'wt', plot='plot'))\n",
    "print(flux_values_sum(cit_m_reactions, 'n', 'ggt', plot='plot'))\n",
    "print(flux_values_sum(cit_m_reactions, 'y', 'ggt', plot='plot'))"
   ]
  },
  {
   "cell_type": "markdown",
   "metadata": {},
   "source": [
    "There is no synthase of citrate in the mitochondria, contradicting Roell et al. results."
   ]
  },
  {
   "cell_type": "code",
   "execution_count": 146,
   "metadata": {
    "pycharm": {
     "name": "#%%\n"
    }
   },
   "outputs": [
    {
     "name": "stdout",
     "output_type": "stream",
     "text": [
      "There are 28 reactions including the following metabolites:\n",
      " ['CIT_m', 'CIT_c', 'CIT_x', 'CIT_v'] \n",
      "\n"
     ]
    }
   ],
   "source": [
    "# looking at all reactions including citrate in all compartments\n",
    "cit_reactions = search_reactions('CIT', 'all')"
   ]
  },
  {
   "cell_type": "code",
   "execution_count": 147,
   "metadata": {
    "pycharm": {
     "name": "#%%\n"
    }
   },
   "outputs": [
    {
     "name": "stdout",
     "output_type": "stream",
     "text": [
      "ACONITATEDEHYDR_RXN_m = 0.0\n",
      "ACONITATEDEHYDR_RXN_c = 0.3734\n",
      "CITSYN_RXN_x = 0.40656\n",
      "ATP_CITRATE_PRO_S_LYASE_RXN_c = 0.03316\n",
      "CITSYN_RXN_m = 0.0\n",
      "sCIT_biomass = 0.0\n",
      "\n",
      " ---------------- \n",
      " The flux sum is: 0.8131\n"
     ]
    }
   ],
   "source": [
    "# pFBA/flux sum - WT without BHAC\n",
    "flux_values_sum(cit_reactions, 'n', 'wt')"
   ]
  },
  {
   "cell_type": "code",
   "execution_count": 148,
   "metadata": {
    "pycharm": {
     "name": "#%%\n"
    }
   },
   "outputs": [
    {
     "name": "stdout",
     "output_type": "stream",
     "text": [
      "ACONITATEDEHYDR_RXN_m = 0.0\n",
      "ACONITATEDEHYDR_RXN_c = 0.37976\n",
      "CITSYN_RXN_x = 0.41348\n",
      "ATP_CITRATE_PRO_S_LYASE_RXN_c = 0.03373\n",
      "CITSYN_RXN_m = 0.0\n",
      "sCIT_biomass = 0.0\n",
      "\n",
      " ---------------- \n",
      " The flux sum is: 0.827\n"
     ]
    }
   ],
   "source": [
    "# pFBA/flux sum - WT with BHAC\n",
    "flux_values_sum(cit_reactions, 'y', 'wt')"
   ]
  },
  {
   "cell_type": "code",
   "execution_count": 149,
   "metadata": {
    "pycharm": {
     "name": "#%%\n"
    }
   },
   "outputs": [
    {
     "name": "stdout",
     "output_type": "stream",
     "text": [
      "0.8131\n",
      "0.8278\n"
     ]
    }
   ],
   "source": [
    "# pFBA/flux sum - ggt without BHAC\n",
    "print(flux_values_sum(cit_reactions, 'n', 'ggt', plot='plot'))\n",
    "\n",
    "# pFBA/flux sum - ggt with BHAC\n",
    "print(flux_values_sum(cit_reactions, 'y', 'ggt', plot='plot'))"
   ]
  },
  {
   "cell_type": "markdown",
   "metadata": {},
   "source": [
    "Higher flux sums through citrate reactions when BHAC is active in wt and ggt1-1 mutant \"confirming\" Roell et al. results. (Roell et al. just mentioned mitochondria, where the model shows no flux!)"
   ]
  },
  {
   "cell_type": "markdown",
   "metadata": {},
   "source": []
  },
  {
   "cell_type": "markdown",
   "metadata": {},
   "source": [
    "#### (2) conversion OAA into PEP"
   ]
  },
  {
   "cell_type": "code",
   "execution_count": 150,
   "metadata": {
    "pycharm": {
     "name": "#%%\n"
    }
   },
   "outputs": [
    {
     "data": {
      "text/html": [
       "\n",
       "        <table>\n",
       "            <tr>\n",
       "                <td><strong>Metabolite identifier</strong></td><td>PHOSPHO_ENOL_PYRUVATE_c</td>\n",
       "            </tr><tr>\n",
       "                <td><strong>Name</strong></td><td>PHOSPHO-ENOL-PYRUVATE</td>\n",
       "            </tr><tr>\n",
       "                <td><strong>Memory address</strong></td>\n",
       "                <td>0x23527923888</td>\n",
       "            </tr><tr>\n",
       "                <td><strong>Formula</strong></td><td>C3H2O6P1</td>\n",
       "            </tr><tr>\n",
       "                <td><strong>Compartment</strong></td><td>c</td>\n",
       "            </tr><tr>\n",
       "                <td><strong>In 6 reaction(s)</strong></td><td>\n",
       "                    PYRUVATEORTHOPHOSPHATE_DIKINASE_RXN_c, PEP_Pi_pc, PEPDEPHOS_RXN_c, PEPCARBOXYKIN_RXN_c, PEPCARBOX_RXN_c, 2PGADEHYDRAT_RXN_c\n",
       "                    </td>\n",
       "            </tr>\n",
       "        </table>"
      ],
      "text/plain": [
       "<Metabolite PHOSPHO_ENOL_PYRUVATE_c at 0x23527923888>"
      ]
     },
     "execution_count": 150,
     "metadata": {},
     "output_type": "execute_result"
    }
   ],
   "source": [
    "# metabolite PEP\n",
    "c3_model.metabolites.PHOSPHO_ENOL_PYRUVATE_c"
   ]
  },
  {
   "cell_type": "code",
   "execution_count": 151,
   "metadata": {
    "pycharm": {
     "name": "#%%\n"
    }
   },
   "outputs": [
    {
     "name": "stdout",
     "output_type": "stream",
     "text": [
      "PEPCARBOXYKIN_RXN_c: ATP_c + OXALACETIC_ACID_c + 0.15 PROTON_c --> ADP_c + CARBON_DIOXIDE_c + PHOSPHO_ENOL_PYRUVATE_c\n"
     ]
    }
   ],
   "source": [
    "#OAA into PEP\n",
    "print(c3_model.reactions.PEPCARBOXYKIN_RXN_c)"
   ]
  },
  {
   "cell_type": "code",
   "execution_count": 152,
   "metadata": {
    "pycharm": {
     "name": "#%%\n"
    }
   },
   "outputs": [
    {
     "name": "stdout",
     "output_type": "stream",
     "text": [
      "PEPCARBOXYKIN_RXN_c: 0.0\n",
      "PEPCARBOXYKIN_RXN_c: 0.0\n",
      "PEPCARBOXYKIN_RXN_c: 0.0\n",
      "PEPCARBOXYKIN_RXN_c: 0.08131\n"
     ]
    }
   ],
   "source": [
    "# pFBA - WT without BHAC\n",
    "print('PEPCARBOXYKIN_RXN_c:', pFBA_noBHAC.get('PEPCARBOXYKIN_RXN_c'))\n",
    "\n",
    "# pFBA - WT with BHAC\n",
    "print('PEPCARBOXYKIN_RXN_c:', pFBA_BHAC.get('PEPCARBOXYKIN_RXN_c'))\n",
    "\n",
    "# pFBA - ggt without BHAC\n",
    "print('PEPCARBOXYKIN_RXN_c:', pFBA_noBHAC_ggt.get('PEPCARBOXYKIN_RXN_c'))\n",
    "\n",
    "# pFBA - ggt with BHAC\n",
    "print('PEPCARBOXYKIN_RXN_c:', pFBA_BHAC_ggt.get('PEPCARBOXYKIN_RXN_c'))"
   ]
  },
  {
   "cell_type": "markdown",
   "metadata": {},
   "source": [
    "#### (2.1) PEP into Gluconeogenesis pathway\n",
    "\n",
    "Gluconeogenesis is the generation of glucose from non-sugar carbon substrates (source: Metacyc)"
   ]
  },
  {
   "cell_type": "code",
   "execution_count": 153,
   "metadata": {
    "pycharm": {
     "name": "#%%\n"
    }
   },
   "outputs": [
    {
     "name": "stdout",
     "output_type": "stream",
     "text": [
      "2PGADEHYDRAT_RXN_c: 2_PG_c <=> PHOSPHO_ENOL_PYRUVATE_c + WATER_c\n",
      "PEPCARBOXYKIN_RXN_c: ATP_c + OXALACETIC_ACID_c + 0.15 PROTON_c --> ADP_c + CARBON_DIOXIDE_c + PHOSPHO_ENOL_PYRUVATE_c\n",
      "PEPCARBOX_RXN_c: HCO3_c + PHOSPHO_ENOL_PYRUVATE_c + 0.3 PROTON_c --> OXALACETIC_ACID_c + Pi_c\n"
     ]
    }
   ],
   "source": [
    "print(c3_model.reactions.get_by_id('2PGADEHYDRAT_RXN_c'))\n",
    "print(c3_model.reactions.get_by_id('PEPCARBOXYKIN_RXN_c')) # produces PEP from OAA (see (2)))\n",
    "print(c3_model.reactions.get_by_id('PEPCARBOX_RXN_c')) # produces OAA from PEP (not relevant, because wrong direction)"
   ]
  },
  {
   "cell_type": "code",
   "execution_count": 154,
   "metadata": {
    "pycharm": {
     "name": "#%%\n"
    }
   },
   "outputs": [
    {
     "name": "stdout",
     "output_type": "stream",
     "text": [
      "wt - BHAC\n",
      "2PGADEHYDRAT_RXN_c: 2.81249\n",
      "2PGADEHYDRAT_RXN_p: 0.27828\n",
      "wt + BHAC\n",
      "2PGADEHYDRAT_RXN_c: 0.22878\n",
      "2PGADEHYDRAT_RXN_p: 0.28302\n"
     ]
    }
   ],
   "source": [
    "# pFBA - WT without BHAC\n",
    "print('wt - BHAC')\n",
    "print('2PGADEHYDRAT_RXN_c:', pFBA_noBHAC.get('2PGADEHYDRAT_RXN_c'))\n",
    "print('2PGADEHYDRAT_RXN_p:', pFBA_noBHAC.get('2PGADEHYDRAT_RXN_p'))\n",
    "# print('PEPCARBOX_RXN_c:', pFBA_noBHAC.get('PEPCARBOX_RXN_c'))\n",
    "# print('PEPCARBOXYKIN_RXN_c:', pFBA_noBHAC.get('PEPCARBOXYKIN_RXN_c'))\n",
    "\n",
    "# pFBA - WT with BHAC\n",
    "print('wt + BHAC')\n",
    "print('2PGADEHYDRAT_RXN_c:', pFBA_BHAC.get('2PGADEHYDRAT_RXN_c'))\n",
    "print('2PGADEHYDRAT_RXN_p:', pFBA_BHAC.get('2PGADEHYDRAT_RXN_p'))\n",
    "# print('PEPCARBOX_RXN_c:', pFBA_BHAC.get('PEPCARBOX_RXN_c'))\n",
    "# print('PEPCARBOXYKIN_RXN_c:', pFBA_BHAC.get('PEPCARBOXYKIN_RXN_c'))"
   ]
  },
  {
   "cell_type": "code",
   "execution_count": 155,
   "metadata": {
    "pycharm": {
     "name": "#%%\n"
    }
   },
   "outputs": [
    {
     "name": "stdout",
     "output_type": "stream",
     "text": [
      "ggt - BHAC\n",
      "2PGADEHYDRAT_RXN_c: 2.81249\n",
      "2PGADEHYDRAT_RXN_p: 0.27828\n",
      "ggt + BHAC\n",
      "2PGADEHYDRAT_RXN_c: 0.0\n",
      "2PGADEHYDRAT_RXN_p: 0.20199\n"
     ]
    }
   ],
   "source": [
    "# pFBA - ggt without BHAC\n",
    "print('ggt - BHAC')\n",
    "print('2PGADEHYDRAT_RXN_c:', pFBA_noBHAC_ggt.get('2PGADEHYDRAT_RXN_c'))\n",
    "print('2PGADEHYDRAT_RXN_p:', pFBA_noBHAC_ggt.get('2PGADEHYDRAT_RXN_p'))\n",
    "# print('PEPCARBOXYKIN_RXN_c:', pFBA_noBHAC_ggt.get('PEPCARBOXYKIN_RXN_c'))\n",
    "# print('PEPCARBOX_RXN_c:', pFBA_noBHAC_ggt.get('PEPCARBOX_RXN_c'))\n",
    "\n",
    "# pFBA - ggt with BHAC\n",
    "print('ggt + BHAC')\n",
    "print('2PGADEHYDRAT_RXN_c:', pFBA_BHAC_ggt.get('2PGADEHYDRAT_RXN_c'))\n",
    "print('2PGADEHYDRAT_RXN_p:', pFBA_BHAC_ggt.get('2PGADEHYDRAT_RXN_p'))\n",
    "# print('PEPCARBOXYKIN_RXN_c:', pFBA_BHAC_ggt.get('PEPCARBOXYKIN_RXN_c'))\n",
    "# print('PEPCARBOX_RXN_c:', pFBA_BHAC_ggt.get('PEPCARBOX_RXN_c'))"
   ]
  },
  {
   "cell_type": "markdown",
   "metadata": {},
   "source": [
    "The 2PGADEHYDRAT_RXN reactions run in the wrong direction, these produces PEP atm.\n",
    "(contradicting Roell et al.)"
   ]
  },
  {
   "cell_type": "code",
   "execution_count": 156,
   "metadata": {
    "pycharm": {
     "name": "#%%\n"
    }
   },
   "outputs": [],
   "source": [
    "# looking at flux values/sum for all reactions in the gluconeogenesis pathway\n",
    "gluconeogen_reactions = []\n",
    "for i in c3_model.groups.get_by_id('gluconeogenesis').members:\n",
    "    gluconeogen_reactions.append(i.id)"
   ]
  },
  {
   "cell_type": "code",
   "execution_count": 157,
   "metadata": {
    "pycharm": {
     "name": "#%%\n"
    }
   },
   "outputs": [
    {
     "name": "stdout",
     "output_type": "stream",
     "text": [
      "WT - BHAC: 83.0248\n",
      "WT + BHAC: 93.7311\n",
      "ggt - BHAC: 83.5913\n",
      "ggt + BHAC: 96.7402\n"
     ]
    }
   ],
   "source": [
    "print('WT - BHAC:', flux_values_sum(gluconeogen_reactions, 'n', 'wt', plot='plot'))\n",
    "print('WT + BHAC:',flux_values_sum(gluconeogen_reactions, 'y', 'wt', plot='plot'))\n",
    "print('ggt - BHAC:',flux_values_sum(gluconeogen_reactions, 'n', 'ggt', plot='plot'))\n",
    "print('ggt + BHAC:',flux_values_sum(gluconeogen_reactions, 'y', 'ggt', plot='plot'))"
   ]
  },
  {
   "cell_type": "markdown",
   "metadata": {},
   "source": [
    "When looking at the whole gluconeogenesis pathway, the flux sum is higher with BHAC, again contradicting Roell et al.) All reactions belonging to that pathway are probably in the \"wrong\" direction (not as intended), so flux sum is general not meaningful ."
   ]
  },
  {
   "cell_type": "markdown",
   "metadata": {},
   "source": [
    "#### (2.2) PEP conversion into Pyruvate - accumulation Pyruvate"
   ]
  },
  {
   "cell_type": "code",
   "execution_count": 158,
   "metadata": {
    "pycharm": {
     "name": "#%%\n"
    }
   },
   "outputs": [
    {
     "data": {
      "text/html": [
       "\n",
       "        <table>\n",
       "            <tr>\n",
       "                <td><strong>Reaction identifier</strong></td><td>PEPDEPHOS_RXN_c</td>\n",
       "            </tr><tr>\n",
       "                <td><strong>Name</strong></td><td>PEPDEPHOS-RXN:Pyruvate kinase</td>\n",
       "            </tr><tr>\n",
       "                <td><strong>Memory address</strong></td>\n",
       "                <td>0x23527a495c8</td>\n",
       "            </tr><tr>\n",
       "                <td><strong>Stoichiometry</strong></td>\n",
       "                <td>\n",
       "                    <p style='text-align:right'>ADP_c + PHOSPHO_ENOL_PYRUVATE_c + 0.85 PROTON_c --> ATP_c + PYRUVATE_c</p>\n",
       "                    <p style='text-align:right'>ADP + PHOSPHO-ENOL-PYRUVATE + 0.85 PROTON --> ATP + PYRUVATE</p>\n",
       "                </td>\n",
       "            </tr><tr>\n",
       "                <td><strong>GPR</strong></td><td></td>\n",
       "            </tr><tr>\n",
       "                <td><strong>Lower bound</strong></td><td>0.0</td>\n",
       "            </tr><tr>\n",
       "                <td><strong>Upper bound</strong></td><td>1000.0</td>\n",
       "            </tr>\n",
       "        </table>\n",
       "        "
      ],
      "text/plain": [
       "<Reaction PEPDEPHOS_RXN_c at 0x23527a495c8>"
      ]
     },
     "execution_count": 158,
     "metadata": {},
     "output_type": "execute_result"
    }
   ],
   "source": [
    "c3_model.reactions.PEPDEPHOS_RXN_c"
   ]
  },
  {
   "cell_type": "code",
   "execution_count": 159,
   "metadata": {
    "pycharm": {
     "name": "#%%\n"
    }
   },
   "outputs": [
    {
     "data": {
      "text/plain": [
       "[<Reaction PEPDEPHOS_RXN_c at 0x23527a495c8>,\n",
       " <Reaction PEPDEPHOS_RXN_p at 0x23527a49988>]"
      ]
     },
     "execution_count": 159,
     "metadata": {},
     "output_type": "execute_result"
    }
   ],
   "source": [
    "c3_model.reactions.query('PEPDEPHOS_RXN')\n",
    "# results with the one in plastid are all zero"
   ]
  },
  {
   "cell_type": "code",
   "execution_count": 160,
   "metadata": {
    "pycharm": {
     "name": "#%%\n"
    }
   },
   "outputs": [
    {
     "name": "stdout",
     "output_type": "stream",
     "text": [
      "PEPDEPHOS_RXN_c:\n",
      "WT - BHAC: 1.04831\n",
      "WT + BHAC: 0.22878\n"
     ]
    }
   ],
   "source": [
    "# pFBA - WT without BHAC\n",
    "print('PEPDEPHOS_RXN_c:')\n",
    "print('WT - BHAC:', pFBA_noBHAC.get('PEPDEPHOS_RXN_c'))\n",
    "\n",
    "# pFBA - WT with BHAC\n",
    "print('WT + BHAC:', pFBA_BHAC.get('PEPDEPHOS_RXN_c'))"
   ]
  },
  {
   "cell_type": "code",
   "execution_count": 161,
   "metadata": {
    "pycharm": {
     "name": "#%%\n"
    }
   },
   "outputs": [
    {
     "name": "stdout",
     "output_type": "stream",
     "text": [
      "PEPDEPHOS_RXN_c:\n",
      "ggt - BHAC: 1.04831\n",
      "ggt + BHAC: 0.0\n"
     ]
    }
   ],
   "source": [
    "# pFBA - ggt without BHAC\n",
    "print('PEPDEPHOS_RXN_c:')\n",
    "print('ggt - BHAC:', pFBA_noBHAC_ggt.get('PEPDEPHOS_RXN_c'))\n",
    "\n",
    "# ppFBA - ggt with BHAC\n",
    "print('ggt + BHAC:', pFBA_BHAC_ggt.get('PEPDEPHOS_RXN_c'))"
   ]
  },
  {
   "cell_type": "code",
   "execution_count": 162,
   "metadata": {
    "pycharm": {
     "name": "#%%\n"
    }
   },
   "outputs": [
    {
     "name": "stdout",
     "output_type": "stream",
     "text": [
      "There are 29 reactions including the following metabolites:\n",
      " ['PYRUVATE_c', 'PYRUVATE_x', 'PYRUVATE_m', 'PYRUVATE_p'] \n",
      "\n",
      "WT - BHAC: 1.8792\n",
      "WT + BHAC: 1.9112\n",
      "ggt - BHAC: 7.756\n",
      "ggt + BHAC: 1.9131\n"
     ]
    }
   ],
   "source": [
    "# looking at accumulation of Pyruvate (now in whole cell)\n",
    "pyruvate_reactions = search_reactions('PYRUVATE', 'all')\n",
    "\n",
    "# pFBA - WT without BHAC\n",
    "print('WT - BHAC:', flux_values_sum(pyruvate_reactions, 'n', 'wt', plot='plot'))\n",
    "\n",
    "# pFBA - WT with BHAC\n",
    "print('WT + BHAC:',flux_values_sum(pyruvate_reactions, 'y', 'wt', plot='plot'))\n",
    "\n",
    "# pFBA - ggt without BHAC\n",
    "print('ggt - BHAC:',flux_values_sum(pyruvate_reactions, 'n', 'ggt', plot='plot'))\n",
    "\n",
    "# pFBA - ggt with BHAC\n",
    "print('ggt + BHAC:', flux_values_sum(pyruvate_reactions, 'y', 'ggt', plot='plot'))"
   ]
  },
  {
   "cell_type": "markdown",
   "metadata": {},
   "source": [
    "Just looking at the pruvate kinase reaction, the model results contradict Roell et al. results, because our model shows more flux through this reaction without BHAC.\n",
    "When looking at Pyruvate flux sums for the whole cell, we have more Pyruvate when BHAC is active in the wt, but not in the ggt1-1 mutant."
   ]
  },
  {
   "cell_type": "code",
   "execution_count": 163,
   "metadata": {
    "pycharm": {
     "name": "#%%\n"
    }
   },
   "outputs": [
    {
     "name": "stdout",
     "output_type": "stream",
     "text": [
      "ALANINE_AMINOTRANSFERASE_RXN_m = 0.0\n",
      "ACETOLACTSYN_RXN_p = 0.32508\n",
      "ANTHRANSYN_RXN_p = 0.01798\n",
      "ALANINE_AMINOTRANSFERASE_RXN_x = -2.93843\n",
      "RXN_6902_m = 0.0\n",
      "PYRUVATEORTHOPHOSPHATE_DIKINASE_RXN_p = 0.0\n",
      "HMBPP_synthesis_p = 0.0\n",
      "DSERDEAM_RXN_c = 0.0\n",
      "PYRUVDEH_RXN_p = 0.0\n",
      "PYRUVATEORTHOPHOSPHATE_DIKINASE_RXN_c = 0.0\n",
      "LCYSDESULF_RXN_c = 0.0\n",
      "MALIC_NADP_RXN_p = 0.0\n",
      "PEPDEPHOS_RXN_c = 1.04831\n",
      "1_PERIOD_1_PERIOD_1_PERIOD_39_RXN_m = 0.0\n",
      "ACETOOHBUTSYN_RXN_p = 0.09573\n",
      "PYRUVDEH_RXN_m = 0.0\n",
      "MercaptoPyruvateSulfurtransferase_m = 0.0\n",
      "ALANINE_AMINOTRANSFERASE_RXN_c = -0.24583\n",
      "PEPDEPHOS_RXN_p = 0.0\n",
      "CYSTATHIONINE_BETA_LYASE_RXN_p = 0.03582\n",
      "ALANINE_GLYOXYLATE_AMINOTRANSFERASE_RXN_x = 2.93843\n",
      "MALIC_NADP_RXN_c = 0.0\n",
      "DIHYDRODIPICSYN_RXN_p = 0.1104\n",
      "\n",
      " ---------------- \n",
      " The flux sum is: 7.756\n",
      "ggt - BHAC: None\n",
      "ALANINE_AMINOTRANSFERASE_RXN_m = 0.0\n",
      "ACETOLACTSYN_RXN_p = 0.33095\n",
      "ANTHRANSYN_RXN_p = 0.0183\n",
      "ALANINE_AMINOTRANSFERASE_RXN_x = 0.0\n",
      "RXN_6902_m = 0.0\n",
      "PYRUVATEORTHOPHOSPHATE_DIKINASE_RXN_p = -0.0\n",
      "HMBPP_synthesis_p = 0.0\n",
      "DSERDEAM_RXN_c = 0.0\n",
      "PYRUVDEH_RXN_p = 0.0\n",
      "PYRUVATEORTHOPHOSPHATE_DIKINASE_RXN_c = 0.0\n",
      "LCYSDESULF_RXN_c = 0.0\n",
      "MALIC_NADP_RXN_p = 1.06725\n",
      "PEPDEPHOS_RXN_c = 0.0\n",
      "1_PERIOD_1_PERIOD_1_PERIOD_39_RXN_m = 0.0\n",
      "ACETOOHBUTSYN_RXN_p = 0.09746\n",
      "PYRUVDEH_RXN_m = 0.0\n",
      "MercaptoPyruvateSulfurtransferase_m = 0.0\n",
      "ALANINE_AMINOTRANSFERASE_RXN_c = -0.25027\n",
      "PEPDEPHOS_RXN_p = 0.0\n",
      "CYSTATHIONINE_BETA_LYASE_RXN_p = 0.03647\n",
      "ALANINE_GLYOXYLATE_AMINOTRANSFERASE_RXN_x = 0.0\n",
      "MALIC_NADP_RXN_c = 0.0\n",
      "DIHYDRODIPICSYN_RXN_p = 0.11239\n",
      "\n",
      " ---------------- \n",
      " The flux sum is: 1.9131\n",
      "ggt + BHAC: None\n"
     ]
    }
   ],
   "source": [
    "# pFBA - ggt without BHAC\n",
    "print('ggt - BHAC:',flux_values_sum(pyruvate_reactions, 'n', 'ggt'))\n",
    "\n",
    "# pFBA - ggt with BHAC\n",
    "print('ggt + BHAC:', flux_values_sum(pyruvate_reactions, 'y', 'ggt'))"
   ]
  },
  {
   "cell_type": "markdown",
   "metadata": {},
   "source": [
    "#### (3) peroxisomal reduction to Malate"
   ]
  },
  {
   "cell_type": "code",
   "execution_count": 164,
   "metadata": {
    "pycharm": {
     "name": "#%%\n"
    }
   },
   "outputs": [
    {
     "data": {
      "text/html": [
       "\n",
       "        <table>\n",
       "            <tr>\n",
       "                <td><strong>Reaction identifier</strong></td><td>MALATE_DEH_RXN_x</td>\n",
       "            </tr><tr>\n",
       "                <td><strong>Name</strong></td><td>MALATE-DEH-RXN:Malate dehydrogenase</td>\n",
       "            </tr><tr>\n",
       "                <td><strong>Memory address</strong></td>\n",
       "                <td>0x23527b0a508</td>\n",
       "            </tr><tr>\n",
       "                <td><strong>Stoichiometry</strong></td>\n",
       "                <td>\n",
       "                    <p style='text-align:right'>MAL_x + NAD_x <=> NADH_x + OXALACETIC_ACID_x + PROTON_x</p>\n",
       "                    <p style='text-align:right'>MAL + NAD <=> NADH + OXALACETIC_ACID[x] + PROTON</p>\n",
       "                </td>\n",
       "            </tr><tr>\n",
       "                <td><strong>GPR</strong></td><td></td>\n",
       "            </tr><tr>\n",
       "                <td><strong>Lower bound</strong></td><td>-1000.0</td>\n",
       "            </tr><tr>\n",
       "                <td><strong>Upper bound</strong></td><td>1000.0</td>\n",
       "            </tr>\n",
       "        </table>\n",
       "        "
      ],
      "text/plain": [
       "<Reaction MALATE_DEH_RXN_x at 0x23527b0a508>"
      ]
     },
     "execution_count": 164,
     "metadata": {},
     "output_type": "execute_result"
    }
   ],
   "source": [
    "# reaction to convert Malate into OAA (and reversed)\n",
    "c3_model.reactions.get_by_id('MALATE_DEH_RXN_x')"
   ]
  },
  {
   "cell_type": "code",
   "execution_count": 165,
   "metadata": {
    "pycharm": {
     "name": "#%%\n"
    }
   },
   "outputs": [
    {
     "name": "stdout",
     "output_type": "stream",
     "text": [
      "flux value through MALATE_DEH_RXN_p:\n",
      "WT - BHAC: 2.84629\n",
      "WT + BHAC: 2.89477\n",
      "ggt - BHAC: 2.84629\n",
      "ggt + BHAC: 2.94461\n"
     ]
    }
   ],
   "source": [
    "# pFBA - WT without BHAC\n",
    "print('flux value through MALATE_DEH_RXN_p:')\n",
    "print('WT - BHAC:', pFBA_noBHAC.get('MALATE_DEH_RXN_x'))\n",
    "\n",
    "# pFBA - WT with BHAC\n",
    "print('WT + BHAC:', pFBA_BHAC.get('MALATE_DEH_RXN_x'))\n",
    "\n",
    "# pFBA - ggt without BHAC\n",
    "print('ggt - BHAC:', pFBA_noBHAC_ggt.get('MALATE_DEH_RXN_x'))\n",
    "\n",
    "# pFBA - ggt with BHAC\n",
    "print('ggt + BHAC:', pFBA_BHAC_ggt.get('MALATE_DEH_RXN_x'))"
   ]
  },
  {
   "cell_type": "markdown",
   "metadata": {},
   "source": [
    "In the peroxisome malate is converted to OAA, so reaction runs in the wrong direction"
   ]
  },
  {
   "cell_type": "code",
   "execution_count": 166,
   "metadata": {
    "pycharm": {
     "name": "#%%\n"
    }
   },
   "outputs": [],
   "source": [
    "malate_oaa_reactions = []\n",
    "for i in c3_model.reactions.query('MALATE_DEH_RXN'):\n",
    "    malate_oaa_reactions.append(i.id)"
   ]
  },
  {
   "cell_type": "code",
   "execution_count": 167,
   "metadata": {
    "pycharm": {
     "name": "#%%\n"
    }
   },
   "outputs": [
    {
     "name": "stdout",
     "output_type": "stream",
     "text": [
      "WT - BHAC 5.8615\n",
      "WT + BHAC 9.4991\n",
      "ggt - BHAC 5.8615\n",
      "ggt + BHAC 9.7677\n"
     ]
    }
   ],
   "source": [
    "# pFBA - WT without BHAC\n",
    "print('WT - BHAC', flux_values_sum(malate_oaa_reactions, 'n', 'wt', plot='plot'))\n",
    "\n",
    "# pFBA - WT with BHAC\n",
    "print('WT + BHAC',flux_values_sum(malate_oaa_reactions, 'y', 'wt', plot='plot'))\n",
    "\n",
    "# pFBA - ggt without BHAC\n",
    "print('ggt - BHAC',flux_values_sum(malate_oaa_reactions, 'n', 'ggt', plot='plot'))\n",
    "\n",
    "# pFBA - ggt with BHAC\n",
    "print('ggt + BHAC', flux_values_sum(malate_oaa_reactions, 'y', 'ggt', plot='plot'))"
   ]
  },
  {
   "cell_type": "markdown",
   "metadata": {},
   "source": [
    "In addition, when looking at the Budget Plot of OAA, we see that the Malate-OAA reaction produces OAA in the peroxisome and plastid while it consumes OAA in the cytosol and mitochondria."
   ]
  },
  {
   "cell_type": "markdown",
   "metadata": {
    "pycharm": {
     "name": "#%% md\n"
    }
   },
   "source": [
    "### AGAT vs. BHAC\n",
    "Roell et al.:\n",
    "- AGAT alone is not sufficient to reshape metabolome as much as BHAC does\n",
    "- AGAT restores canonical PR in ggt1-1 mutant"
   ]
  },
  {
   "cell_type": "code",
   "execution_count": 168,
   "metadata": {
    "pycharm": {
     "name": "#%%\n"
    }
   },
   "outputs": [
    {
     "name": "stdout",
     "output_type": "stream",
     "text": [
      "WT with BHAC - Objective: 0.02982\n",
      "WT just with AGAT - Objective: 0.02932\n",
      "WT without BHAC - Objective: 0.02932\n"
     ]
    }
   ],
   "source": [
    "# pFBA\n",
    "# WT with BHAC\n",
    "with c3_model:\n",
    "    print('WT with BHAC - Objective:', pFBA_BHAC.get('Arabidopsis_biomass_tx'))\n",
    "\n",
    "# WT with just AGAT\n",
    "with c3_model:\n",
    "    set_fixed_flux_ratio({'GLYCINE_AMINOTRANSFERASE_RXN_x':1, 'AGAT_x':10},c3_model) #ggt1 reaction is forced\n",
    "    c3_model.reactions.get_by_id('BHAA_x').knock_out()\n",
    "    c3_model.reactions.get_by_id('BHAD_x').knock_out()\n",
    "    c3_model.reactions.get_by_id('ISR_x').knock_out()\n",
    "    pFBA = round(pfba(c3_model).fluxes, 5)\n",
    "    print('WT just with AGAT - Objective:', pFBA.get('Arabidopsis_biomass_tx'))\n",
    "\n",
    "# WT without BHAC\n",
    "with c3_model:\n",
    "    print('WT without BHAC - Objective:', pFBA_noBHAC.get('Arabidopsis_biomass_tx'))\n",
    "\n",
    "# biomass just with AGAT and without BHAC slightly lower than with whole bhac"
   ]
  },
  {
   "cell_type": "code",
   "execution_count": 169,
   "metadata": {
    "pycharm": {
     "name": "#%%\n"
    }
   },
   "outputs": [
    {
     "name": "stdout",
     "output_type": "stream",
     "text": [
      "ggt1 with BHAC - Objective: 0.02985\n",
      "ggt1 just with AGAT - Objective: 0.02932\n",
      "ggt1 without BHAC - Objective: 0.02932\n"
     ]
    }
   ],
   "source": [
    "# ggt mutant with BHAC\n",
    "print('ggt1 with BHAC - Objective:', pFBA_BHAC_ggt.get('Arabidopsis_biomass_tx'))\n",
    "\n",
    "# ggt mutant with just AGAT\n",
    "with c3_model:\n",
    "    c3_model.reactions.get_by_id('BHAA_x').knock_out()\n",
    "    c3_model.reactions.get_by_id('BHAD_x').knock_out()\n",
    "    c3_model.reactions.get_by_id('ISR_x').knock_out()\n",
    "    c3_model.reactions.get_by_id('GLYCINE_AMINOTRANSFERASE_RXN_x').knock_out()\n",
    "    pFBA = round(pfba(c3_model).fluxes, 5)\n",
    "    print('ggt1 just with AGAT - Objective:', pFBA.get('Arabidopsis_biomass_tx'))\n",
    "\n",
    "# ggt mutant without BHAC\n",
    "with c3_model:\n",
    "    print('ggt1 without BHAC - Objective:', pFBA_noBHAC_ggt.get('Arabidopsis_biomass_tx'))"
   ]
  },
  {
   "cell_type": "code",
   "execution_count": 170,
   "metadata": {
    "pycharm": {
     "name": "#%%\n"
    }
   },
   "outputs": [
    {
     "data": {
      "text/plain": [
       "'ATP_p + GLYCERATE_p --> ADP_p + G3P_p + 0.9 PROTON_p'"
      ]
     },
     "execution_count": 170,
     "metadata": {},
     "output_type": "execute_result"
    }
   ],
   "source": [
    "c3_model.reactions.get_by_id('GLY3KIN_RXN_p').reaction #last step of PR"
   ]
  },
  {
   "cell_type": "code",
   "execution_count": 171,
   "metadata": {
    "pycharm": {
     "name": "#%%\n"
    }
   },
   "outputs": [
    {
     "name": "stdout",
     "output_type": "stream",
     "text": [
      "GLYOHMETRANS_RXN_c : 0.0\n",
      "GLYCINE_AMINOTRANSFERASE_RXN_x : 2.93843\n",
      "GLYOHMETRANS_RXN_m : -3.09199\n",
      "GCVMULTI_RXN_m : 3.16554\n",
      "GLY3KIN_RXN_p : 2.84629\n",
      "RXN_969_x : 5.78472\n",
      "GLYOHMETRANS_RXN_p : 0.00155\n",
      "GPH_RXN_p : 5.78472\n",
      "RXN_961_p : 5.78472\n"
     ]
    }
   ],
   "source": [
    "# WT without BHAC\n",
    "for i in c3_model.groups.get_by_id('photorespiration').members:\n",
    "    print(i.id,':' ,pFBA_noBHAC.get(i.id))"
   ]
  },
  {
   "cell_type": "code",
   "execution_count": 172,
   "metadata": {
    "pycharm": {
     "name": "#%%\n"
    }
   },
   "outputs": [
    {
     "name": "stdout",
     "output_type": "stream",
     "text": [
      "GLYOHMETRANS_RXN_c : 0.0\n",
      "GLYCINE_AMINOTRANSFERASE_RXN_x : 0.0\n",
      "GLYOHMETRANS_RXN_m : -3.09199\n",
      "GCVMULTI_RXN_m : 3.16554\n",
      "GLY3KIN_RXN_p : 2.84629\n",
      "RXN_969_x : 5.78472\n",
      "GLYOHMETRANS_RXN_p : 0.00155\n",
      "GPH_RXN_p : 5.78472\n",
      "RXN_961_p : 5.78472\n"
     ]
    }
   ],
   "source": [
    "# ggt without BHAC\n",
    "for i in c3_model.groups.get_by_id('photorespiration').members:\n",
    "    print(i.id,':' ,pFBA_noBHAC_ggt.get(i.id))"
   ]
  },
  {
   "cell_type": "code",
   "execution_count": 173,
   "metadata": {
    "pycharm": {
     "name": "#%%\n"
    }
   },
   "outputs": [
    {
     "name": "stdout",
     "output_type": "stream",
     "text": [
      "GLYOHMETRANS_RXN_c 0.0\n",
      "GLYCINE_AMINOTRANSFERASE_RXN_x 0.0\n",
      "GLYOHMETRANS_RXN_m -0.20166\n",
      "GCVMULTI_RXN_m 0.27811\n",
      "GLY3KIN_RXN_p 0.0\n",
      "RXN_969_x 5.88921\n",
      "GLYOHMETRANS_RXN_p 0.0\n",
      "GPH_RXN_p 5.88921\n",
      "RXN_961_p 5.88921\n"
     ]
    }
   ],
   "source": [
    "# ggt with BHAC\n",
    "for i in c3_model.groups.get_by_id('photorespiration').members:\n",
    "    print(i.id,pFBA_BHAC_ggt.get(i.id))"
   ]
  },
  {
   "cell_type": "code",
   "execution_count": 174,
   "metadata": {
    "pycharm": {
     "name": "#%%\n"
    }
   },
   "outputs": [
    {
     "name": "stdout",
     "output_type": "stream",
     "text": [
      "GLYOHMETRANS_RXN_c 0.0\n",
      "GLYCINE_AMINOTRANSFERASE_RXN_x 0.0\n",
      "GLYOHMETRANS_RXN_m -3.09199\n",
      "GCVMULTI_RXN_m 3.16554\n",
      "GLY3KIN_RXN_p 2.84629\n",
      "RXN_969_x 5.78472\n",
      "GLYOHMETRANS_RXN_p 0.00155\n",
      "GPH_RXN_p 5.78472\n",
      "RXN_961_p 5.78472\n"
     ]
    }
   ],
   "source": [
    "# ggt mutant with just AGAT\n",
    "with c3_model:\n",
    "    c3_model.reactions.get_by_id('BHAA_x').knock_out()\n",
    "    c3_model.reactions.get_by_id('BHAD_x').knock_out()\n",
    "    c3_model.reactions.get_by_id('ISR_x').knock_out()\n",
    "    c3_model.reactions.get_by_id('GLYCINE_AMINOTRANSFERASE_RXN_x').knock_out() # ggt reaction\n",
    "    pFBA = round(pfba(c3_model).fluxes, 5)\n",
    "    for i in c3_model.groups.get_by_id('photorespiration').members:\n",
    "        print(i.id, pFBA.get(i.id))"
   ]
  },
  {
   "cell_type": "markdown",
   "metadata": {
    "pycharm": {
     "name": "#%% md\n"
    }
   },
   "source": [
    "Just adding the AGAT reaction in the wild type is not enough to get the same objective value compared to adding the whole BHAC (with just AGAT it is lower), conforming Roell et al. results.\n",
    "In the ggt1-1 mutant, with the complete BHAC there is no photorespiration, but only with AGAT there is PR (especially looking at the last step in the PR pathway)."
   ]
  },
  {
   "cell_type": "markdown",
   "metadata": {
    "pycharm": {
     "name": "#%% md\n"
    }
   },
   "source": [
    "### Reduction Growth"
   ]
  },
  {
   "cell_type": "markdown",
   "metadata": {},
   "source": [
    "#### 3-PG\n",
    "Roell et al.: BHAC reduces Growth because of reduced 3-PG levels"
   ]
  },
  {
   "cell_type": "code",
   "execution_count": 175,
   "metadata": {
    "pycharm": {
     "name": "#%%\n"
    }
   },
   "outputs": [
    {
     "data": {
      "text/html": [
       "\n",
       "        <table>\n",
       "            <tr>\n",
       "                <td><strong>Metabolite identifier</strong></td><td>G3P_p</td>\n",
       "            </tr><tr>\n",
       "                <td><strong>Name</strong></td><td>G3P</td>\n",
       "            </tr><tr>\n",
       "                <td><strong>Memory address</strong></td>\n",
       "                <td>0x23527906d88</td>\n",
       "            </tr><tr>\n",
       "                <td><strong>Formula</strong></td><td>C3H4O7P1</td>\n",
       "            </tr><tr>\n",
       "                <td><strong>Compartment</strong></td><td>p</td>\n",
       "            </tr><tr>\n",
       "                <td><strong>In 9 reaction(s)</strong></td><td>\n",
       "                    RIBULOSE_BISPHOSPHATE_CARBOXYLASE_RXN_p, 3PGA_Pi_pc, GLY3KIN_RXN_p, GAP_3PGA_pc, DHAP_3PGA_pc, RXN_961_p, PHOSGLYPHOS_RXN_p, 3PGAREARR_RXN_p, PGLYCDEHYDROG_RXN_p\n",
       "                    </td>\n",
       "            </tr>\n",
       "        </table>"
      ],
      "text/plain": [
       "<Metabolite G3P_p at 0x23527906d88>"
      ]
     },
     "execution_count": 175,
     "metadata": {},
     "output_type": "execute_result"
    }
   ],
   "source": [
    "#3-PG/3-Phosphoglycerate\n",
    "c3_model.metabolites.G3P_p"
   ]
  },
  {
   "cell_type": "code",
   "execution_count": 176,
   "metadata": {
    "pycharm": {
     "name": "#%%\n"
    }
   },
   "outputs": [
    {
     "data": {
      "text/html": [
       "\n",
       "        <table>\n",
       "            <tr>\n",
       "                <td><strong>Reaction identifier</strong></td><td>GLY3KIN_RXN_p</td>\n",
       "            </tr><tr>\n",
       "                <td><strong>Name</strong></td><td>GLY3KIN-RXN:Glycerate kinase</td>\n",
       "            </tr><tr>\n",
       "                <td><strong>Memory address</strong></td>\n",
       "                <td>0x23527a9cc88</td>\n",
       "            </tr><tr>\n",
       "                <td><strong>Stoichiometry</strong></td>\n",
       "                <td>\n",
       "                    <p style='text-align:right'>ATP_p + GLYCERATE_p --> ADP_p + G3P_p + 0.9 PROTON_p</p>\n",
       "                    <p style='text-align:right'>ATP + GLYCERATE --> ADP + G3P + 0.9 PROTON</p>\n",
       "                </td>\n",
       "            </tr><tr>\n",
       "                <td><strong>GPR</strong></td><td></td>\n",
       "            </tr><tr>\n",
       "                <td><strong>Lower bound</strong></td><td>0.0</td>\n",
       "            </tr><tr>\n",
       "                <td><strong>Upper bound</strong></td><td>1000.0</td>\n",
       "            </tr>\n",
       "        </table>\n",
       "        "
      ],
      "text/plain": [
       "<Reaction GLY3KIN_RXN_p at 0x23527a9cc88>"
      ]
     },
     "execution_count": 176,
     "metadata": {},
     "output_type": "execute_result"
    }
   ],
   "source": [
    "# Glycerate into 3-Phosphoglycerate (last step PR)\n",
    "c3_model.reactions.GLY3KIN_RXN_p"
   ]
  },
  {
   "cell_type": "code",
   "execution_count": 177,
   "metadata": {
    "pycharm": {
     "name": "#%%\n"
    }
   },
   "outputs": [
    {
     "name": "stdout",
     "output_type": "stream",
     "text": [
      "GLY3KIN_RXN_p: 2.84629\n"
     ]
    }
   ],
   "source": [
    "# pFBA - WT without BHAC\n",
    "print('GLY3KIN_RXN_p:', pFBA_noBHAC.get('GLY3KIN_RXN_p'))\n",
    "\n",
    "# no BHAC = PR active = flux through reaction producing 3-PG"
   ]
  },
  {
   "cell_type": "code",
   "execution_count": 178,
   "metadata": {
    "pycharm": {
     "name": "#%%\n"
    }
   },
   "outputs": [
    {
     "name": "stdout",
     "output_type": "stream",
     "text": [
      "GLY3KIN_RXN_p: 0.26316\n"
     ]
    }
   ],
   "source": [
    "# pFBA - WT with BHAC\n",
    "print('GLY3KIN_RXN_p:', pFBA_BHAC.get('GLY3KIN_RXN_p'))\n",
    "\n",
    "# no flux though last step of PR when BHAC is active, meaning no 3-PG gets produced"
   ]
  },
  {
   "cell_type": "code",
   "execution_count": 179,
   "metadata": {
    "pycharm": {
     "name": "#%%\n"
    }
   },
   "outputs": [
    {
     "name": "stdout",
     "output_type": "stream",
     "text": [
      "GLY3KIN_RXN_p: 2.84629\n",
      "GLY3KIN_RXN_p: 0.0\n"
     ]
    }
   ],
   "source": [
    "# pFBA - ggt without BHAC\n",
    "print('GLY3KIN_RXN_p:', pFBA_noBHAC_ggt.get('GLY3KIN_RXN_p'))\n",
    "\n",
    "# pFBA - ggt with BHAC\n",
    "print('GLY3KIN_RXN_p:', pFBA_BHAC_ggt.get('GLY3KIN_RXN_p'))"
   ]
  },
  {
   "cell_type": "markdown",
   "metadata": {},
   "source": [
    "When no BHAC is active, there is a flux through the last step of PR. With an active BHAC (in wt) there is also a small flux, forced through the set ratio (SERINE_GLYOXYLATE_AMINOTRANSFERASE_RXN_x':1, 'BHAA_x':10), without this ratio, it would be zero. Just going off this reaction, there would be less 3-PG."
   ]
  },
  {
   "cell_type": "code",
   "execution_count": 180,
   "metadata": {
    "pycharm": {
     "name": "#%%\n"
    }
   },
   "outputs": [
    {
     "name": "stdout",
     "output_type": "stream",
     "text": [
      "There are 15 reactions including the following metabolites:\n",
      " ['G3P_c', 'G3P_p'] \n",
      "\n"
     ]
    }
   ],
   "source": [
    "# now looking at 3-PG levels in whole cell (all reactions including 3-PG from all compartments)\n",
    "pg_reactions = search_reactions('G3P', 'all')"
   ]
  },
  {
   "cell_type": "code",
   "execution_count": 181,
   "metadata": {
    "pycharm": {
     "name": "#%%\n"
    }
   },
   "outputs": [
    {
     "name": "stdout",
     "output_type": "stream",
     "text": [
      "GLY3KIN_RXN_p = 2.84629\n",
      "PGLYCDEHYDROG_RXN_p = 0.0\n",
      "1_PERIOD_2_PERIOD_1_PERIOD_9_RXN_c = 0.0\n",
      "RIBULOSE_BISPHOSPHATE_CARBOXYLASE_RXN_p = 17.35415\n",
      "PHOSGLYPHOS_RXN_p = 44.11017\n",
      "PHOSGLYPHOS_RXN_c = -3.86163\n",
      "3PGAREARR_RXN_c = 2.81249\n",
      "3PGAREARR_RXN_p = 0.27828\n",
      "RXN_961_p = 5.78472\n",
      "\n",
      " ---------------- \n",
      " The flux sum is: 77.0477\n"
     ]
    }
   ],
   "source": [
    "# pFBA/flux sum - WT without BHAC\n",
    "flux_values_sum(pg_reactions, 'n', 'wt')"
   ]
  },
  {
   "cell_type": "code",
   "execution_count": 182,
   "metadata": {
    "pycharm": {
     "name": "#%%\n"
    }
   },
   "outputs": [
    {
     "name": "stdout",
     "output_type": "stream",
     "text": [
      "GLY3KIN_RXN_p = 0.26316\n",
      "PGLYCDEHYDROG_RXN_p = 0.0\n",
      "1_PERIOD_2_PERIOD_1_PERIOD_9_RXN_c = 0.0\n",
      "RIBULOSE_BISPHOSPHATE_CARBOXYLASE_RXN_p = 17.64974\n",
      "PHOSGLYPHOS_RXN_p = 48.75599\n",
      "PHOSGLYPHOS_RXN_c = -7.82189\n",
      "3PGAREARR_RXN_c = 0.22878\n",
      "3PGAREARR_RXN_p = 0.28302\n",
      "RXN_961_p = 5.88325\n",
      "\n",
      " ---------------- \n",
      " The flux sum is: 80.8858\n"
     ]
    }
   ],
   "source": [
    "# pFBA/flux sum - WT with BHAC\n",
    "flux_values_sum(pg_reactions, 'y', 'wt')"
   ]
  },
  {
   "cell_type": "code",
   "execution_count": 183,
   "metadata": {
    "pycharm": {
     "name": "#%%\n"
    }
   },
   "outputs": [
    {
     "name": "stdout",
     "output_type": "stream",
     "text": [
      "77.0477\n",
      "81.4256\n"
     ]
    }
   ],
   "source": [
    "# pFBA/flux sum - ggt without BHAC\n",
    "print(flux_values_sum(pg_reactions, 'n', 'ggt', plot='plot'))\n",
    "\n",
    "# pFBA/flux sum - ggt with BHAC\n",
    "print(flux_values_sum(pg_reactions, 'y', 'ggt', plot='plot'))"
   ]
  },
  {
   "cell_type": "markdown",
   "metadata": {},
   "source": [
    "We have a higher flux sum when BHAC is active, contradicting Roell et al. results"
   ]
  },
  {
   "cell_type": "code",
   "execution_count": 184,
   "metadata": {
    "pycharm": {
     "name": "#%%\n"
    }
   },
   "outputs": [
    {
     "name": "stdout",
     "output_type": "stream",
     "text": [
      "PHOSGLYPHOS_RXN_c: ATP_c + G3P_c + 0.15 PROTON_c <=> ADP_c + DPG_c\n",
      "GAP_3PGA_pc: G3P_c + GAP_p <=> G3P_p + GAP_c\n",
      "PHOSGLYPHOS_RXN_p: ATP_p + G3P_p + 0.1 PROTON_p <=> ADP_p + DPG_p\n"
     ]
    }
   ],
   "source": [
    "# looking at reactions that have a higher flux with bhac than without\n",
    "for i in ['PHOSGLYPHOS_RXN_c', 'GAP_3PGA_pc', 'PHOSGLYPHOS_RXN_p']:\n",
    "    print(c3_model.reactions.get_by_id(i))\n",
    "\n",
    "# PHOSGLYPHOS_RXN: 2x same reaction, different compartment (DPG = 3-phospho-D-glyceroyl phosphate), reaction is e.g. part of Calvin Cycle (in cytosol, with BHAC higher negative flux (producing 3PG) than without, but reaction in plastid also consumes more)\n",
    "# GAP_3PGA_pc: exchange of 3-PG and GAP (D-glyceraldehyde 3-phosphate) between cytosol and plastid\n",
    "\n",
    "# PHOSGLYPHOS_RXN_c AUSCHLAGGEBEND (produces 3-PG)"
   ]
  },
  {
   "cell_type": "code",
   "execution_count": 185,
   "metadata": {
    "pycharm": {
     "name": "#%%\n"
    }
   },
   "outputs": [
    {
     "name": "stdout",
     "output_type": "stream",
     "text": [
      "GLY3KIN_RXN_p: ATP_p + GLYCERATE_p --> ADP_p + G3P_p + 0.9 PROTON_p\n",
      "3PGAREARR_RXN_c: G3P_c <=> 2_PG_c\n"
     ]
    }
   ],
   "source": [
    "# looking at reactions that have a lower flux with bhac than without\n",
    "for i in ['GLY3KIN_RXN_p', '3PGAREARR_RXN_c']:\n",
    "    print(c3_model.reactions.get_by_id(i))\n",
    "\n",
    "# GLY3KIN_RXN_p is last step PR as shown above, therefore flux 0 with BHAC\n",
    "# 3PGAREARR_RXN_c 3PG gets consumed (part of many pathways)"
   ]
  },
  {
   "cell_type": "markdown",
   "metadata": {},
   "source": [
    "#### Sedoheptulose-7-phosphate\n",
    "Roell et al.: BHAC reduces Growth because of reduced sedoheptulose-7-phosphate levels (intermediate Calvin cycle)"
   ]
  },
  {
   "cell_type": "code",
   "execution_count": 186,
   "metadata": {
    "pycharm": {
     "name": "#%%\n"
    }
   },
   "outputs": [
    {
     "data": {
      "text/html": [
       "\n",
       "        <table>\n",
       "            <tr>\n",
       "                <td><strong>Metabolite identifier</strong></td><td>D_SEDOHEPTULOSE_7_P_p</td>\n",
       "            </tr><tr>\n",
       "                <td><strong>Name</strong></td><td>D-SEDOHEPTULOSE-7-P</td>\n",
       "            </tr><tr>\n",
       "                <td><strong>Memory address</strong></td>\n",
       "                <td>0x235278f1588</td>\n",
       "            </tr><tr>\n",
       "                <td><strong>Formula</strong></td><td>C7H13O10P1</td>\n",
       "            </tr><tr>\n",
       "                <td><strong>Compartment</strong></td><td>p</td>\n",
       "            </tr><tr>\n",
       "                <td><strong>In 3 reaction(s)</strong></td><td>\n",
       "                    1TRANSKETO_RXN_p, SEDOHEPTULOSE_BISPHOSPHATASE_RXN_p, TRANSALDOL_RXN_p\n",
       "                    </td>\n",
       "            </tr>\n",
       "        </table>"
      ],
      "text/plain": [
       "<Metabolite D_SEDOHEPTULOSE_7_P_p at 0x235278f1588>"
      ]
     },
     "execution_count": 186,
     "metadata": {},
     "output_type": "execute_result"
    }
   ],
   "source": [
    "# sedoheptulose-7-phosphate\n",
    "c3_model.metabolites.D_SEDOHEPTULOSE_7_P_p"
   ]
  },
  {
   "cell_type": "code",
   "execution_count": 187,
   "metadata": {
    "pycharm": {
     "name": "#%%\n"
    }
   },
   "outputs": [
    {
     "name": "stdout",
     "output_type": "stream",
     "text": [
      "TRANSALDOL_RXN_p: D_SEDOHEPTULOSE_7_P_p + GAP_p <=> ERYTHROSE_4P_p + FRUCTOSE_6P_p\n",
      "1TRANSKETO_RXN_p: D_SEDOHEPTULOSE_7_P_p + GAP_p <=> RIBOSE_5P_p + XYLULOSE_5_PHOSPHATE_p\n",
      "SEDOHEPTULOSE_BISPHOSPHATASE_RXN_p: D_SEDOHEPTULOSE_1_7_P2_p + WATER_p --> D_SEDOHEPTULOSE_7_P_p + Pi_p\n"
     ]
    }
   ],
   "source": [
    "print(c3_model.reactions.TRANSALDOL_RXN_p) # reaction consuming sedoheptulose\n",
    "print(c3_model.reactions.get_by_id('1TRANSKETO_RXN_p'))  # reaction consuming sedoheptulose\n",
    "print(c3_model.reactions.SEDOHEPTULOSE_BISPHOSPHATASE_RXN_p) # reaction producing sedoheptulose"
   ]
  },
  {
   "cell_type": "code",
   "execution_count": 188,
   "metadata": {
    "pycharm": {
     "name": "#%%\n"
    }
   },
   "outputs": [],
   "source": [
    "# reactions involving Sedoheptulose in the Calvin cycle\n",
    "sedohepto_calvin = ['SEDOHEPTULOSE_BISPHOSPHATASE_RXN_p', '1TRANSKETO_RXN_p', 'TRANSALDOL_RXN_p']"
   ]
  },
  {
   "cell_type": "code",
   "execution_count": 189,
   "metadata": {
    "pycharm": {
     "name": "#%%\n"
    }
   },
   "outputs": [
    {
     "name": "stdout",
     "output_type": "stream",
     "text": [
      "SEDOHEPTULOSE_BISPHOSPHATASE_RXN_p = 7.68546\n",
      "1TRANSKETO_RXN_p = 7.68546\n",
      "TRANSALDOL_RXN_p = 0.0\n",
      "\n",
      " ---------------- \n",
      " The flux sum is: 15.3709\n"
     ]
    }
   ],
   "source": [
    "# pFBA/flux sum - WT without BHAC\n",
    "flux_values_sum(sedohepto_calvin, 'n', 'wt')"
   ]
  },
  {
   "cell_type": "code",
   "execution_count": 190,
   "metadata": {
    "pycharm": {
     "name": "#%%\n"
    }
   },
   "outputs": [
    {
     "name": "stdout",
     "output_type": "stream",
     "text": [
      "SEDOHEPTULOSE_BISPHOSPHATASE_RXN_p = 7.81637\n",
      "1TRANSKETO_RXN_p = 7.81637\n",
      "TRANSALDOL_RXN_p = 0.0\n",
      "\n",
      " ---------------- \n",
      " The flux sum is: 15.6327\n"
     ]
    }
   ],
   "source": [
    "# pFBA/flux sum - WT with BHAC\n",
    "flux_values_sum(sedohepto_calvin, 'y', 'wt')\n",
    "\n",
    "# bit higher production sedoheptulose in Calvin Cycle, contradicting Roell Results"
   ]
  },
  {
   "cell_type": "code",
   "execution_count": 191,
   "metadata": {
    "pycharm": {
     "name": "#%%\n"
    }
   },
   "outputs": [
    {
     "name": "stdout",
     "output_type": "stream",
     "text": [
      "There are 5 reactions including the following metabolites:\n",
      " ['D_SEDOHEPTULOSE_7_P_p', 'D_SEDOHEPTULOSE_1_7_P2_p'] \n",
      "\n"
     ]
    }
   ],
   "source": [
    "# now looking at Sedoheputlose levels in whole cell (all reactions including Sedoheputlose from all compartments)\n",
    "sedo_reactions = search_reactions('D_SEDOHEPTULOSE.*', 'all')\n",
    "# D_SEDOHEPTULOSE_1_7_P2_p is precursor of D_SEDOHEPTULOSE_7_P_p in Calvin cycle"
   ]
  },
  {
   "cell_type": "code",
   "execution_count": 192,
   "metadata": {
    "pycharm": {
     "name": "#%%\n"
    }
   },
   "outputs": [
    {
     "name": "stdout",
     "output_type": "stream",
     "text": [
      "SEDOBISALDOL_RXN_p = 7.68546\n",
      "SEDOHEPTULOSE_BISPHOSPHATASE_RXN_p = 7.68546\n",
      "TRANSALDOL_RXN_p = 0.0\n",
      "1TRANSKETO_RXN_p = 7.68546\n",
      "\n",
      " ---------------- \n",
      " The flux sum is: 23.0564\n"
     ]
    }
   ],
   "source": [
    "# pFBA - WT without BHAC\n",
    "flux_values_sum(sedo_reactions, 'n', 'wt')"
   ]
  },
  {
   "cell_type": "code",
   "execution_count": 193,
   "metadata": {
    "pycharm": {
     "name": "#%%\n"
    }
   },
   "outputs": [
    {
     "name": "stdout",
     "output_type": "stream",
     "text": [
      "SEDOBISALDOL_RXN_p = 7.81637\n",
      "SEDOHEPTULOSE_BISPHOSPHATASE_RXN_p = 7.81637\n",
      "TRANSALDOL_RXN_p = 0.0\n",
      "1TRANSKETO_RXN_p = 7.81637\n",
      "\n",
      " ---------------- \n",
      " The flux sum is: 23.4491\n"
     ]
    }
   ],
   "source": [
    "# pFBA - WT with BHAC\n",
    "flux_values_sum(sedo_reactions, 'y', 'wt')"
   ]
  },
  {
   "cell_type": "code",
   "execution_count": 194,
   "metadata": {
    "pycharm": {
     "name": "#%%\n"
    }
   },
   "outputs": [
    {
     "name": "stdout",
     "output_type": "stream",
     "text": [
      "23.4729\n",
      "23.0564\n"
     ]
    }
   ],
   "source": [
    "# pFBA - ggt with BHAC\n",
    "print(flux_values_sum(sedo_reactions, 'y', 'ggt', plot='plot'))\n",
    "\n",
    "# pFBA - ggt without BHAC\n",
    "print(flux_values_sum(sedo_reactions, 'n', 'ggt', plot='plot'))"
   ]
  },
  {
   "cell_type": "markdown",
   "metadata": {},
   "source": [
    "We have higher sedoheptulose-7-phosphate in the wt and ggt1-1 mutant when BHAC is active, contradicting Roell et al. results"
   ]
  },
  {
   "cell_type": "markdown",
   "metadata": {},
   "source": [
    "#### 2-PG\n",
    "Roell et al.: similar 2-PG levels when BHAC is (in)active"
   ]
  },
  {
   "cell_type": "code",
   "execution_count": 195,
   "metadata": {
    "pycharm": {
     "name": "#%%\n"
    }
   },
   "outputs": [
    {
     "name": "stdout",
     "output_type": "stream",
     "text": [
      "There are 2 reactions including the following metabolites:\n",
      " ['CPD_67_p'] \n",
      "\n"
     ]
    }
   ],
   "source": [
    "# searching for all reactions including 2-PG\n",
    "pg2_reactions = search_reactions('CPD_67', 'all')"
   ]
  },
  {
   "cell_type": "code",
   "execution_count": 196,
   "metadata": {
    "pycharm": {
     "name": "#%%\n"
    }
   },
   "outputs": [
    {
     "name": "stdout",
     "output_type": "stream",
     "text": [
      "WT - BHAC: 11.5694\n",
      "WT + BHAC: 11.7665\n",
      "ggt - BHAC: 11.5694\n",
      "ggt + BHAC: 11.7784\n"
     ]
    }
   ],
   "source": [
    "pg2_ac = [flux_values_sum(pg2_reactions, 'n', 'wt', plot='plot'), # WT without BHAC\n",
    "          flux_values_sum(pg2_reactions, 'y', 'wt', plot='plot'), # WT with BHAC\n",
    "          flux_values_sum(pg2_reactions, 'n', 'ggt', plot='plot'), # ggt without BHAC\n",
    "          flux_values_sum(pg2_reactions, 'y', 'ggt', plot='plot')] # ggt with BHAC\n",
    "\n",
    "print('WT - BHAC:', pg2_ac[0])\n",
    "print('WT + BHAC:', pg2_ac[1])\n",
    "print('ggt - BHAC:', pg2_ac[2])\n",
    "print('ggt + BHAC:', pg2_ac[3])"
   ]
  },
  {
   "cell_type": "markdown",
   "metadata": {},
   "source": [
    "There are differences in the flux sum ~0.2 between WT/ggt1-1 mutant with and without BHAC, confirming Roell et al. results"
   ]
  },
  {
   "cell_type": "markdown",
   "metadata": {},
   "source": [
    "#### Ribose/ribulose-5-phosphate\n",
    "Roell et al.: similar ribose/ribulose-5-phosphate levels when BHAC is (in)active"
   ]
  },
  {
   "cell_type": "code",
   "execution_count": 197,
   "metadata": {
    "pycharm": {
     "name": "#%%\n"
    }
   },
   "outputs": [
    {
     "data": {
      "text/plain": [
       "['RIBULOSE_5P_c', 'RIBULOSE_5P_p', 'RIBOSE_5P_p']"
      ]
     },
     "execution_count": 197,
     "metadata": {},
     "output_type": "execute_result"
    }
   ],
   "source": [
    "# searching for the metabolites RIBULOSE_5P and RIBOSE_5P\n",
    "liste = []\n",
    "for i in c3_model.metabolites:\n",
    "    liste.append(i.id)\n",
    "\n",
    "rib_search = re.compile('RIB[A-Z]*OSE')\n",
    "rib_mets = list(filter(rib_search.match, liste))\n",
    "rib_mets"
   ]
  },
  {
   "cell_type": "code",
   "execution_count": 198,
   "metadata": {
    "pycharm": {
     "name": "#%%\n"
    }
   },
   "outputs": [
    {
     "data": {
      "text/plain": [
       "{'1TRANSKETO_RXN_p',\n",
       " '6PGLUCONDEHYDROG_RXN_c',\n",
       " '6PGLUCONDEHYDROG_RXN_p',\n",
       " 'PHOSPHORIBULOKINASE_RXN_p',\n",
       " 'PRPPSYN_RXN_p',\n",
       " 'RIB5PISOM_RXN_p',\n",
       " 'RIBULP3EPIM_RXN_c',\n",
       " 'RIBULP3EPIM_RXN_p'}"
      ]
     },
     "execution_count": 198,
     "metadata": {},
     "output_type": "execute_result"
    }
   ],
   "source": [
    "# searching for all reactions including the above found metabolites\n",
    "rib_reactions = []\n",
    "for i in rib_mets:\n",
    "    for j in c3_model.metabolites.get_by_id(i).reactions:\n",
    "        rib_reactions.append(j.id)\n",
    "\n",
    "rib_reactions = set(rib_reactions)\n",
    "rib_reactions"
   ]
  },
  {
   "cell_type": "code",
   "execution_count": 199,
   "metadata": {
    "pycharm": {
     "name": "#%%\n"
    }
   },
   "outputs": [
    {
     "name": "stdout",
     "output_type": "stream",
     "text": [
      "WT - BHAC: 54.0198\n",
      "WT + BHAC: 54.94\n",
      "ggt - BHAC: 54.0198\n",
      "ggt + BHAC: 54.9957\n"
     ]
    }
   ],
   "source": [
    "# pFBA - WT without BHAC\n",
    "print('WT - BHAC:',flux_values_sum(rib_reactions, 'n', 'wt', plot='plot'))\n",
    "\n",
    "# pFBA - WT with BHAC\n",
    "print('WT + BHAC:',flux_values_sum(rib_reactions, 'y', 'wt', plot='plot'))\n",
    "\n",
    "# pFBA - ggt without BHAC\n",
    "print('ggt - BHAC:',flux_values_sum(rib_reactions, 'n', 'ggt', plot='plot'))\n",
    "\n",
    "# pFBA - ggt with BHAC\n",
    "print('ggt + BHAC:',flux_values_sum(rib_reactions, 'y', 'ggt', plot='plot'))"
   ]
  },
  {
   "cell_type": "markdown",
   "metadata": {},
   "source": [
    "There are differences in the flux sum ~0.9 between WT/ggt1-1 mutant with and without BHAC, confirming Roell et al. results (?, it's unclear what amount of difference is still considered similar)"
   ]
  },
  {
   "cell_type": "markdown",
   "metadata": {},
   "source": [
    "#### Fig 5B - Metabolites involved with Growth"
   ]
  },
  {
   "cell_type": "code",
   "execution_count": 200,
   "metadata": {
    "pycharm": {
     "name": "#%%\n"
    }
   },
   "outputs": [
    {
     "name": "stdout",
     "output_type": "stream",
     "text": [
      "There are 2 reactions including the following metabolites:\n",
      " ['CPD_67_p'] \n",
      "\n"
     ]
    },
    {
     "data": {
      "text/plain": [
       "[11.5694, 11.7665, 11.5694, 11.7784]"
      ]
     },
     "execution_count": 200,
     "metadata": {},
     "output_type": "execute_result"
    }
   ],
   "source": [
    "pg2_reactions = search_reactions('CPD_67', 'all')\n",
    "\n",
    "pg2_ac = [flux_values_sum(pg2_reactions, 'n', 'wt', plot='plot'), flux_values_sum(pg2_reactions, 'y', 'wt', plot='plot'), flux_values_sum(pg2_reactions, 'n', 'ggt', plot='plot'), flux_values_sum(pg2_reactions, 'y', 'ggt', plot='plot')]\n",
    "pg2_ac"
   ]
  },
  {
   "cell_type": "code",
   "execution_count": 201,
   "metadata": {
    "pycharm": {
     "name": "#%%\n"
    }
   },
   "outputs": [
    {
     "name": "stdout",
     "output_type": "stream",
     "text": [
      "There are 15 reactions including the following metabolites:\n",
      " ['G3P_c', 'G3P_p'] \n",
      "\n"
     ]
    },
    {
     "data": {
      "text/plain": [
       "[77.0477, 80.8858, 77.0477, 81.4256]"
      ]
     },
     "execution_count": 201,
     "metadata": {},
     "output_type": "execute_result"
    }
   ],
   "source": [
    "pg3_reactions = search_reactions('G3P', 'all')\n",
    "\n",
    "pg3_ac = [flux_values_sum(pg3_reactions, 'n', 'wt', plot='plot'), flux_values_sum(pg3_reactions, 'y', 'wt', plot='plot'), flux_values_sum(pg3_reactions, 'n', 'ggt', plot='plot'), flux_values_sum(pg3_reactions, 'y', 'ggt', plot='plot')]\n",
    "pg3_ac"
   ]
  },
  {
   "cell_type": "code",
   "execution_count": 202,
   "metadata": {
    "pycharm": {
     "name": "#%%\n"
    }
   },
   "outputs": [
    {
     "name": "stdout",
     "output_type": "stream",
     "text": [
      "There are 3 reactions including the following metabolites:\n",
      " ['D_SEDOHEPTULOSE_7_P_p'] \n",
      "\n"
     ]
    },
    {
     "data": {
      "text/plain": [
       "[15.3709, 15.6327, 15.3709, 15.6486]"
      ]
     },
     "execution_count": 202,
     "metadata": {},
     "output_type": "execute_result"
    }
   ],
   "source": [
    "s7p_reactions = search_reactions('D_SEDOHEPTULOSE_7_P', 'all')\n",
    "\n",
    "s7p_ac = [flux_values_sum(s7p_reactions, 'n', 'wt', plot='plot'), flux_values_sum(s7p_reactions, 'y', 'wt', plot='plot'), flux_values_sum(s7p_reactions, 'n', 'ggt', plot='plot'), flux_values_sum(s7p_reactions, 'y', 'ggt', plot='plot')]\n",
    "s7p_ac"
   ]
  },
  {
   "cell_type": "code",
   "execution_count": 203,
   "metadata": {
    "pycharm": {
     "name": "#%%\n"
    }
   },
   "outputs": [
    {
     "data": {
      "text/plain": [
       "[54.0198, 54.94, 54.0198, 54.9957]"
      ]
     },
     "execution_count": 203,
     "metadata": {},
     "output_type": "execute_result"
    }
   ],
   "source": [
    "r5p_ac = [flux_values_sum(rib_reactions, 'n', 'wt', plot='plot'), flux_values_sum(rib_reactions, 'y', 'wt', plot='plot'), flux_values_sum(rib_reactions, 'n', 'ggt', plot='plot'), flux_values_sum(rib_reactions, 'y', 'ggt', plot='plot')]\n",
    "r5p_ac"
   ]
  },
  {
   "cell_type": "code",
   "execution_count": 204,
   "metadata": {
    "pycharm": {
     "name": "#%%\n"
    }
   },
   "outputs": [
    {
     "data": {
      "image/png": "[encoded data removed]",
      "text/plain": [
       "<Figure size 1584x1296 with 6 Axes>"
      ]
     },
     "metadata": {
      "needs_background": "light"
     },
     "output_type": "display_data"
    }
   ],
   "source": [
    "fig, ((ax1, ax2), (ax3, ax4)) = plt.subplots(2, 2, figsize=(22,18), sharey='all')\n",
    "#plt.subplots_adjust(left=None, bottom=None, right=None, top=0.8, wspace=None, hspace=None)\n",
    "fig.suptitle('Metabolite levels of phosphorylated metabolites in ambient air')\n",
    "\n",
    "x_titles = ['WT \\n without BHAC', 'WT \\n with BHAC', 'ggt1 \\n without BHAC', 'ggt1 \\n with BHAC']\n",
    "\n",
    "ax1.set(ylabel='Flux sum [\\u03BCmol m$^{-2}$ s$^{-1}$]')\n",
    "ax3.set(ylabel='Flux sum [\\u03BCmol m$^{-2}$ s$^{-1}$]')\n",
    "\n",
    "ax5 = ax4.twinx()\n",
    "ax5.set_ylim(0,88)\n",
    "ax6 = ax2.twinx()\n",
    "ax6.set_ylim(0,88)\n",
    "\n",
    "ax1.bar(x_titles, pg2_ac, width=0.5, color=['#949998', '#42938B', 'r', '#75AAE5'])\n",
    "ax1.set_title('2-PG')\n",
    "ax1.set_ylim(0,88)\n",
    "\n",
    "ax2.bar(x_titles, pg3_ac, width=0.5, color=['#949998', '#42938B', 'r', '#75AAE5'])\n",
    "ax2.set_title('3-PG')\n",
    "ax2.set_ylim(0,88)\n",
    "\n",
    "ax3.bar(x_titles, s7p_ac, width=0.5, color=['#949998', '#42938B', 'r', '#75AAE5'])\n",
    "ax3.set_title('S7P')\n",
    "ax3.set_ylim(0,88)\n",
    "\n",
    "ax4.bar(x_titles, r5p_ac, width=0.5, color=['#949998', '#42938B', 'r', '#75AAE5'])\n",
    "ax4.set_title('R5P')\n",
    "ax4.set_ylim(0,88)\n",
    "\n",
    "plt.show()\n",
    "#plt.savefig('figures/fig5b.png', dpi=300)"
   ]
  },
  {
   "cell_type": "markdown",
   "metadata": {
    "pycharm": {
     "name": "#%% md\n"
    }
   },
   "source": [
    "### Nitrogen Metabolism\n",
    "Roell et al.:\n",
    "(0) Ammonia reassimilation and refixation by glutamine synthetase 2/ferredoxin–dependent glutamine:oxoglutarate aminotransferase complex is integral part photorespiration (same as in glutamate assimilation and ammonia reduction)\n",
    "\n",
    "Roell et al.: in BHAC plants there are metabolic adaptions to compensate for an impaired nitrogen shuttle:\n",
    "(1.1) use of cytosolic glutamine synthetases\n",
    "(1.2) avoid chloroplastic nitrogen reassimilation by glutamine synthase (same as with ammonia reduction)\n",
    "(2) use of glutamate dehydrogenase\n",
    "(3) excess N stored in urea cycle\n",
    "(4) ornithine-citrulline shuttle could support mitochondrial chloroplastic nitrogen exchange"
   ]
  },
  {
   "cell_type": "markdown",
   "metadata": {},
   "source": []
  },
  {
   "cell_type": "markdown",
   "metadata": {},
   "source": [
    "#### (0) GS2/Fd-GOGAT complex (in chloroplast)"
   ]
  },
  {
   "cell_type": "code",
   "execution_count": 205,
   "metadata": {
    "pycharm": {
     "name": "#%%\n"
    }
   },
   "outputs": [
    {
     "data": {
      "text/html": [
       "\n",
       "        <table>\n",
       "            <tr>\n",
       "                <td><strong>Reaction identifier</strong></td><td>GLUTAMATE_SYNTHASE_FERREDOXIN_RXN_p</td>\n",
       "            </tr><tr>\n",
       "                <td><strong>Name</strong></td><td>GLUTAMATE-SYNTHASE-FERREDOXIN-RXN:Glutamate synthase (ferredoxin)</td>\n",
       "            </tr><tr>\n",
       "                <td><strong>Memory address</strong></td>\n",
       "                <td>0x235279df588</td>\n",
       "            </tr><tr>\n",
       "                <td><strong>Stoichiometry</strong></td>\n",
       "                <td>\n",
       "                    <p style='text-align:right'>2_KETOGLUTARATE_p + GLN_p + 2.0 PROTON_p + 2.0 Reduced_ferredoxins_p --> 2.0 GLT_p + 2.0 Oxidized_ferredoxins_p</p>\n",
       "                    <p style='text-align:right'>2-KETOGLUTARATE + GLN + 2.0 PROTON + 2.0 Reduced_ferredoxins[p] --> 2.0 GLT + 2.0 Oxidized_ferredoxins[p]</p>\n",
       "                </td>\n",
       "            </tr><tr>\n",
       "                <td><strong>GPR</strong></td><td></td>\n",
       "            </tr><tr>\n",
       "                <td><strong>Lower bound</strong></td><td>0.0</td>\n",
       "            </tr><tr>\n",
       "                <td><strong>Upper bound</strong></td><td>1000.0</td>\n",
       "            </tr>\n",
       "        </table>\n",
       "        "
      ],
      "text/plain": [
       "<Reaction GLUTAMATE_SYNTHASE_FERREDOXIN_RXN_p at 0x235279df588>"
      ]
     },
     "execution_count": 205,
     "metadata": {},
     "output_type": "execute_result"
    }
   ],
   "source": [
    "c3_model.reactions.get_by_id('GLUTAMATE_SYNTHASE_FERREDOXIN_RXN_p')"
   ]
  },
  {
   "cell_type": "code",
   "execution_count": 206,
   "metadata": {
    "pycharm": {
     "name": "#%%\n"
    }
   },
   "outputs": [
    {
     "name": "stdout",
     "output_type": "stream",
     "text": [
      "GLUTAMATE_SYNTHASE_FERREDOXIN_RXN_p:\n",
      "WT - BHAC 5.77959\n",
      "WT + BHAC: 3.24643\n",
      "ggt - BHAC: 5.77959\n",
      "ggt + BHAC: 2.93939\n"
     ]
    }
   ],
   "source": [
    "print('GLUTAMATE_SYNTHASE_FERREDOXIN_RXN_p:')\n",
    "\n",
    "# pFBA - WT without BHAC\n",
    "print('WT - BHAC', pFBA_noBHAC.get('GLUTAMATE_SYNTHASE_FERREDOXIN_RXN_p'))\n",
    "\n",
    "# pFBA - WT with BHAC\n",
    "print('WT + BHAC:', pFBA_BHAC.get('GLUTAMATE_SYNTHASE_FERREDOXIN_RXN_p'))\n",
    "\n",
    "# pFBA - ggt without BHAC\n",
    "print('ggt - BHAC:', pFBA_noBHAC_ggt.get('GLUTAMATE_SYNTHASE_FERREDOXIN_RXN_p'))\n",
    "\n",
    "# pFBA - ggt with BHAC\n",
    "print('ggt + BHAC:', pFBA_BHAC_ggt.get('GLUTAMATE_SYNTHASE_FERREDOXIN_RXN_p'))"
   ]
  },
  {
   "cell_type": "code",
   "execution_count": 207,
   "metadata": {
    "pycharm": {
     "name": "#%%\n"
    }
   },
   "outputs": [
    {
     "data": {
      "text/html": [
       "\n",
       "        <table>\n",
       "            <tr>\n",
       "                <td><strong>Reaction identifier</strong></td><td>GLUTAMINESYN_RXN_p</td>\n",
       "            </tr><tr>\n",
       "                <td><strong>Name</strong></td><td>GLUTAMINESYN-RXN:Glutamate--ammonia ligase</td>\n",
       "            </tr><tr>\n",
       "                <td><strong>Memory address</strong></td>\n",
       "                <td>0x23527c23b08</td>\n",
       "            </tr><tr>\n",
       "                <td><strong>Stoichiometry</strong></td>\n",
       "                <td>\n",
       "                    <p style='text-align:right'>AMMONIUM_p + ATP_p + GLT_p --> ADP_p + GLN_p + 0.9 PROTON_p + Pi_p</p>\n",
       "                    <p style='text-align:right'>AMMONIUM + ATP + GLT --> ADP + GLN + 0.9 PROTON + Pi[p]</p>\n",
       "                </td>\n",
       "            </tr><tr>\n",
       "                <td><strong>GPR</strong></td><td></td>\n",
       "            </tr><tr>\n",
       "                <td><strong>Lower bound</strong></td><td>0.0</td>\n",
       "            </tr><tr>\n",
       "                <td><strong>Upper bound</strong></td><td>1000.0</td>\n",
       "            </tr>\n",
       "        </table>\n",
       "        "
      ],
      "text/plain": [
       "<Reaction GLUTAMINESYN_RXN_p at 0x23527c23b08>"
      ]
     },
     "execution_count": 207,
     "metadata": {},
     "output_type": "execute_result"
    }
   ],
   "source": [
    "c3_model.reactions.get_by_id('GLUTAMINESYN_RXN_p')"
   ]
  },
  {
   "cell_type": "code",
   "execution_count": 208,
   "metadata": {
    "pycharm": {
     "name": "#%%\n"
    }
   },
   "outputs": [
    {
     "name": "stdout",
     "output_type": "stream",
     "text": [
      "GLUTAMINESYN_RXN_p \n",
      " WT - BHAC 5.89252 \n",
      " WT + BHAC 3.36128 \n",
      " ggt - BHAC 5.89252 \n",
      " ggt + BHAC 3.05436\n"
     ]
    }
   ],
   "source": [
    "print('GLUTAMINESYN_RXN_p','\\n','WT - BHAC', pFBA_noBHAC.get('GLUTAMINESYN_RXN_p'), '\\n WT + BHAC', pFBA_BHAC.get('GLUTAMINESYN_RXN_p'), '\\n ggt - BHAC', pFBA_noBHAC_ggt.get('GLUTAMINESYN_RXN_p'), '\\n ggt + BHAC', pFBA_BHAC_ggt.get('GLUTAMINESYN_RXN_p'))"
   ]
  },
  {
   "cell_type": "markdown",
   "metadata": {},
   "source": [
    "Our results are according to Roell et al., because there is a higher flux through the reaction without BHAC (when there is PR)"
   ]
  },
  {
   "cell_type": "markdown",
   "metadata": {},
   "source": [
    "#### (1) glutamine synthetase\n",
    "(1.1) Based on the metabolite profiles, we hypothesize three metabolic adaptations that compensate the impaired nitrogen shuttle in BHAC plants. A general response upon impaired GS2/Fd-GOGAT–dependent nitrogen assimilation is the use of cytosolic glutamine synthetases (Roell et al. 2021)\n",
    "(1.2) Nitrogen conservation by the BHAC is assumed to prevent mitochondrial ammonia release and avoid chloroplastic nitrogen reassimilation by glutamine synthase"
   ]
  },
  {
   "cell_type": "code",
   "execution_count": 209,
   "metadata": {
    "pycharm": {
     "name": "#%%\n"
    }
   },
   "outputs": [
    {
     "data": {
      "text/html": [
       "\n",
       "        <table>\n",
       "            <tr>\n",
       "                <td><strong>Reaction identifier</strong></td><td>GLUTAMINESYN_RXN_c</td>\n",
       "            </tr><tr>\n",
       "                <td><strong>Name</strong></td><td>GLUTAMINESYN-RXN:Glutamate--ammonia ligase</td>\n",
       "            </tr><tr>\n",
       "                <td><strong>Memory address</strong></td>\n",
       "                <td>0x23527c1d608</td>\n",
       "            </tr><tr>\n",
       "                <td><strong>Stoichiometry</strong></td>\n",
       "                <td>\n",
       "                    <p style='text-align:right'>AMMONIUM_c + ATP_c + GLT_c --> ADP_c + GLN_c + 0.55 PROTON_c + Pi_c</p>\n",
       "                    <p style='text-align:right'>AMMONIUM + ATP + GLT --> ADP + GLN + 0.55 PROTON + Pi[c]</p>\n",
       "                </td>\n",
       "            </tr><tr>\n",
       "                <td><strong>GPR</strong></td><td></td>\n",
       "            </tr><tr>\n",
       "                <td><strong>Lower bound</strong></td><td>0.0</td>\n",
       "            </tr><tr>\n",
       "                <td><strong>Upper bound</strong></td><td>1000.0</td>\n",
       "            </tr>\n",
       "        </table>\n",
       "        "
      ],
      "text/plain": [
       "<Reaction GLUTAMINESYN_RXN_c at 0x23527c1d608>"
      ]
     },
     "execution_count": 209,
     "metadata": {},
     "output_type": "execute_result"
    }
   ],
   "source": [
    "# (1.1) cytosolic glutamine synthetase\n",
    "c3_model.reactions.get_by_id('GLUTAMINESYN_RXN_c')"
   ]
  },
  {
   "cell_type": "code",
   "execution_count": 210,
   "metadata": {
    "pycharm": {
     "name": "#%%\n"
    }
   },
   "outputs": [
    {
     "name": "stdout",
     "output_type": "stream",
     "text": [
      "GLUTAMINESYN_RXN_c\n",
      "WT - BHAC: 0.0\n",
      "WT + BHAC: 0.0\n",
      "ggt - BHAC: 0.0\n",
      "ggt + BHAC: 0.0\n"
     ]
    }
   ],
   "source": [
    "print('GLUTAMINESYN_RXN_c')\n",
    "\n",
    "# pFBA - WT without BHAC\n",
    "print('WT - BHAC:', pFBA_noBHAC.get('GLUTAMINESYN_RXN_c'))\n",
    "\n",
    "# pFBA - WT with BHAC\n",
    "print('WT + BHAC:', pFBA_BHAC.get('GLUTAMINESYN_RXN_c'))\n",
    "\n",
    "# pFBA - ggt without BHAC\n",
    "print('ggt - BHAC:', pFBA_noBHAC_ggt.get('GLUTAMINESYN_RXN_c'))\n",
    "\n",
    "# pFBA - ggt with BHAC\n",
    "print('ggt + BHAC:', pFBA_BHAC_ggt.get('GLUTAMINESYN_RXN_c'))"
   ]
  },
  {
   "cell_type": "markdown",
   "metadata": {},
   "source": [
    "The cytosolic glutamine synthase is never used, contradicting Roell et al. results."
   ]
  },
  {
   "cell_type": "code",
   "execution_count": 211,
   "metadata": {
    "pycharm": {
     "name": "#%%\n"
    }
   },
   "outputs": [],
   "source": [
    "# (1.2) avoid chloroplastic glutamine synthase with BHAC"
   ]
  },
  {
   "cell_type": "code",
   "execution_count": 212,
   "metadata": {
    "pycharm": {
     "name": "#%%\n"
    }
   },
   "outputs": [
    {
     "name": "stdout",
     "output_type": "stream",
     "text": [
      "GLUTAMINESYN_RXN_p:\n",
      "WT - BHAC: 5.89252\n",
      "WT + BHAC: 3.36128\n",
      "ggt - BHAC: 5.89252\n",
      "ggt + BHAC: 3.05436\n"
     ]
    }
   ],
   "source": [
    "print('GLUTAMINESYN_RXN_p:')\n",
    "\n",
    "# pFBA - WT without BHAC\n",
    "print('WT - BHAC:', pFBA_noBHAC.get('GLUTAMINESYN_RXN_p'))\n",
    "\n",
    "# pFBA - WT with BHAC\n",
    "print('WT + BHAC:', pFBA_BHAC.get('GLUTAMINESYN_RXN_p'))\n",
    "\n",
    "# pFBA - ggt without BHAC\n",
    "print('ggt - BHAC:', pFBA_noBHAC_ggt.get('GLUTAMINESYN_RXN_p'))\n",
    "\n",
    "# pFBA - ggt with BHAC\n",
    "print('ggt + BHAC:', pFBA_BHAC_ggt.get('GLUTAMINESYN_RXN_p'))"
   ]
  },
  {
   "cell_type": "markdown",
   "metadata": {},
   "source": [
    "There is less flux though the chloroplastic glutamine synthase when BHAC is active, confirming Roell et al. results"
   ]
  },
  {
   "cell_type": "markdown",
   "metadata": {},
   "source": []
  },
  {
   "cell_type": "markdown",
   "metadata": {
    "pycharm": {
     "name": "#%% md\n"
    }
   },
   "source": [
    "#### (2) glutamine dehydrogenase"
   ]
  },
  {
   "cell_type": "code",
   "execution_count": 213,
   "metadata": {
    "pycharm": {
     "name": "#%%\n"
    }
   },
   "outputs": [
    {
     "data": {
      "text/html": [
       "\n",
       "        <table>\n",
       "            <tr>\n",
       "                <td><strong>Reaction identifier</strong></td><td>GLUTAMATE_DEHYDROGENASE_RXN_m</td>\n",
       "            </tr><tr>\n",
       "                <td><strong>Name</strong></td><td>GLUTAMATE-DEHYDROGENASE-RXN:Glutamate dehydrogenase</td>\n",
       "            </tr><tr>\n",
       "                <td><strong>Memory address</strong></td>\n",
       "                <td>0x23527c4b948</td>\n",
       "            </tr><tr>\n",
       "                <td><strong>Stoichiometry</strong></td>\n",
       "                <td>\n",
       "                    <p style='text-align:right'>GLT_m + NAD_m + WATER_m --> 2_KETOGLUTARATE_m + AMMONIUM_m + NADH_m + PROTON_m</p>\n",
       "                    <p style='text-align:right'>GLT + NAD + WATER --> 2-KETOGLUTARATE + AMMONIUM + NADH + PROTON</p>\n",
       "                </td>\n",
       "            </tr><tr>\n",
       "                <td><strong>GPR</strong></td><td></td>\n",
       "            </tr><tr>\n",
       "                <td><strong>Lower bound</strong></td><td>0.0</td>\n",
       "            </tr><tr>\n",
       "                <td><strong>Upper bound</strong></td><td>1000.0</td>\n",
       "            </tr>\n",
       "        </table>\n",
       "        "
      ],
      "text/plain": [
       "<Reaction GLUTAMATE_DEHYDROGENASE_RXN_m at 0x23527c4b948>"
      ]
     },
     "execution_count": 213,
     "metadata": {},
     "output_type": "execute_result"
    }
   ],
   "source": [
    "# glutamate dehydrogenase\n",
    "c3_model.reactions.get_by_id('GLUTAMATE_DEHYDROGENASE_RXN_m')"
   ]
  },
  {
   "cell_type": "code",
   "execution_count": 214,
   "metadata": {
    "pycharm": {
     "name": "#%%\n"
    }
   },
   "outputs": [
    {
     "data": {
      "text/plain": [
       "[<Reaction GLUTAMATE_DEHYDROGENASE_RXN_m at 0x23527c4b948>]"
      ]
     },
     "execution_count": 214,
     "metadata": {},
     "output_type": "execute_result"
    }
   ],
   "source": [
    "# this reaction just exists in mitochondria\n",
    "c3_model.reactions.query('GLUTAMATE_DEHYDROGENASE_RXN')"
   ]
  },
  {
   "cell_type": "code",
   "execution_count": 215,
   "metadata": {
    "pycharm": {
     "name": "#%%\n"
    }
   },
   "outputs": [
    {
     "name": "stdout",
     "output_type": "stream",
     "text": [
      "GLUTAMATE_DEHYDROGENASE_RXN_m:\n",
      "WT - BHAC: 0.0\n",
      "WT + BHAC: 0.0\n",
      "ggt - BHAC: 0.0\n",
      "ggt + BHAC: 0.0\n"
     ]
    }
   ],
   "source": [
    "print('GLUTAMATE_DEHYDROGENASE_RXN_m:')\n",
    "\n",
    "# pFBA - WT without BHAC\n",
    "print('WT - BHAC:', pFBA_noBHAC.get('GLUTAMATE_DEHYDROGENASE_RXN_m'))\n",
    "\n",
    "# pFBA - WT with BHAC\n",
    "print('WT + BHAC:', pFBA_BHAC.get('GLUTAMATE_DEHYDROGENASE_RXN_m'))\n",
    "\n",
    "# pFBA - ggt without BHAC\n",
    "print('ggt - BHAC:', pFBA_noBHAC_ggt.get('GLUTAMATE_DEHYDROGENASE_RXN_m'))\n",
    "\n",
    "# pFBA - ggt with BHAC\n",
    "print('ggt + BHAC:', pFBA_BHAC_ggt.get('GLUTAMATE_DEHYDROGENASE_RXN_m'))"
   ]
  },
  {
   "cell_type": "markdown",
   "metadata": {},
   "source": [
    "#### (3) urea cycle\n",
    "excess N stored in urea cycle (reactions according to Metacyc):\n",
    "- RXN-13202 (6.3.4.16)\n",
    "- ORNCARBAMTRANSFER-RXN (2.1.3.3)\n",
    "- ARGSUCCINLYA-RXN (4.3.2.1)\n",
    "- ARGSUCCINSYN-RXN (6.3.4.5)\n",
    "- ORNCARBAMTRANSFER-RXN (2.1.3.3)\n",
    "- ARGINASE-RXN (3.5.3.1)"
   ]
  },
  {
   "cell_type": "code",
   "execution_count": 216,
   "metadata": {
    "pycharm": {
     "name": "#%%\n"
    }
   },
   "outputs": [
    {
     "data": {
      "text/plain": [
       "[<Reaction RXN_13202_p at 0x235279b5bc8>,\n",
       " <Reaction ORNCARBAMTRANSFER_RXN_p at 0x23527cdb2c8>,\n",
       " <Reaction ARGINASE_RXN_m at 0x235279d4988>,\n",
       " <Reaction ARGSUCCINLYA_RXN_p at 0x23527af0908>,\n",
       " <Reaction ARGSUCCINSYN_RXN_p at 0x23527a6ca48>]"
      ]
     },
     "execution_count": 216,
     "metadata": {},
     "output_type": "execute_result"
    }
   ],
   "source": [
    "c3_model.groups.get_by_id('ureacycle').members"
   ]
  },
  {
   "cell_type": "code",
   "execution_count": 217,
   "metadata": {
    "pycharm": {
     "name": "#%%\n"
    }
   },
   "outputs": [],
   "source": [
    "urea = ['RXN_13202_p', 'ORNCARBAMTRANSFER_RXN_p', 'ARGSUCCINLYA_RXN_p', 'ARGSUCCINSYN_RXN_p', 'ARGINASE_RXN_m', 'ARG_pc', 'GLUTAMATE_N_ACETYLTRANSFERASE_RXN_p']\n",
    "\n",
    "# ARG_pc added afterwards: produced Arginine is transported into cytosol by ARGSUCCINLYA_RXN_p\n",
    "# GLUTAMATE_N_ACETYLTRANSFERASE_RXN_p added afterwards: show where the Ornithine for ORNCARBAMTRANSFER_RXN_p is coming from"
   ]
  },
  {
   "cell_type": "code",
   "execution_count": 218,
   "metadata": {
    "pycharm": {
     "name": "#%%\n"
    }
   },
   "outputs": [
    {
     "name": "stdout",
     "output_type": "stream",
     "text": [
      "RXN_13202_p = 0.0\n",
      "ORNCARBAMTRANSFER_RXN_p = 0.07959\n",
      "ARGSUCCINLYA_RXN_p = 0.07959\n",
      "ARGSUCCINSYN_RXN_p = 0.07959\n",
      "ARGINASE_RXN_m = 0.0\n",
      "GLUTAMATE_N_ACETYLTRANSFERASE_RXN_p = 0.07959\n",
      "\n",
      " ---------------- \n",
      " The flux sum is: 0.3184\n"
     ]
    }
   ],
   "source": [
    "# pFBA - WT without BHAC\n",
    "flux_values_sum(urea, 'n', 'wt')"
   ]
  },
  {
   "cell_type": "code",
   "execution_count": 219,
   "metadata": {
    "pycharm": {
     "name": "#%%\n"
    }
   },
   "outputs": [
    {
     "name": "stdout",
     "output_type": "stream",
     "text": [
      "RXN_13202_p = 0.0\n",
      "ORNCARBAMTRANSFER_RXN_p = 0.08094\n",
      "ARGSUCCINLYA_RXN_p = 0.08094\n",
      "ARGSUCCINSYN_RXN_p = 0.08094\n",
      "ARGINASE_RXN_m = 0.0\n",
      "GLUTAMATE_N_ACETYLTRANSFERASE_RXN_p = 0.08094\n",
      "\n",
      " ---------------- \n",
      " The flux sum is: 0.3238\n"
     ]
    }
   ],
   "source": [
    "# pFBA - WT with BHAC\n",
    "flux_values_sum(urea, 'y', 'wt')"
   ]
  },
  {
   "cell_type": "code",
   "execution_count": 220,
   "metadata": {
    "pycharm": {
     "name": "#%%\n"
    }
   },
   "outputs": [
    {
     "name": "stdout",
     "output_type": "stream",
     "text": [
      "ggt - BHAC: 0.3184\n",
      "ggt + BHAC: 0.3241\n"
     ]
    }
   ],
   "source": [
    "# pFBA - ggt without BHAC\n",
    "print('ggt - BHAC:', flux_values_sum(urea, 'n', 'ggt', plot='plot'))\n",
    "\n",
    "# pFBA - ggt with BHAC\n",
    "print('ggt + BHAC:', flux_values_sum(urea, 'y', 'ggt', plot='plot'))"
   ]
  },
  {
   "cell_type": "markdown",
   "metadata": {},
   "source": [
    "The flux sums with an active BHAC in wt and ggt1-1 mutant is slightly higher than without BHAC, confirming Roell et al. results"
   ]
  },
  {
   "cell_type": "markdown",
   "metadata": {},
   "source": [
    "#### (4) ornithine-citrulline shuttle\n",
    "ornithine-citrulline shuttle could support mitochondrial-chloroplastic nitrogen exchange"
   ]
  },
  {
   "cell_type": "code",
   "execution_count": 221,
   "metadata": {
    "pycharm": {
     "name": "#%%\n"
    }
   },
   "outputs": [
    {
     "name": "stdout",
     "output_type": "stream",
     "text": [
      "There are 14 reactions including the following metabolites:\n",
      " ['L_ORNITHINE_p', 'L_ORNITHINE_m', 'L_ORNITHINE_c'] \n",
      "\n",
      "There are 12 reactions including the following metabolites:\n",
      " ['L_CITRULLINE_p', 'L_CITRULLINE_m', 'L_CITRULLINE_c'] \n",
      "\n"
     ]
    }
   ],
   "source": [
    "# get all reactions involving Ornithine and Citrulline in all compartments\n",
    "orn_reactions = search_reactions('L_ORNITHINE', 'all')\n",
    "cit_reactions = search_reactions('L_CITRULLINE', 'all')"
   ]
  },
  {
   "cell_type": "code",
   "execution_count": 222,
   "metadata": {
    "pycharm": {
     "name": "#%%\n"
    }
   },
   "outputs": [
    {
     "data": {
      "text/plain": [
       "['ORNITHINE_CITRULLINE_pc',\n",
       " 'ORNITHINE_CITRULLINE_mc',\n",
       " 'ORNCARBAMTRANSFER_RXN_p']"
      ]
     },
     "execution_count": 222,
     "metadata": {},
     "output_type": "execute_result"
    }
   ],
   "source": [
    "# all reactions that have citrulline and ornithine as metabolites\n",
    "orn_cit = []\n",
    "for i in orn_reactions:\n",
    "    if 'CIT' in c3_model.reactions.get_by_id(i).reaction:\n",
    "        orn_cit.append(i)\n",
    "orn_cit"
   ]
  },
  {
   "cell_type": "code",
   "execution_count": 223,
   "metadata": {
    "pycharm": {
     "name": "#%%\n"
    }
   },
   "outputs": [
    {
     "name": "stdout",
     "output_type": "stream",
     "text": [
      "flux sums for the all reactions that have both Orn and Cit as metabolites:\n",
      "WT - BHAC: 0.07959\n",
      "WT + BHAC: 0.08094\n",
      "ggt - BHAC: 0.07959\n",
      "ggt + BHAc: 0.08103\n"
     ]
    }
   ],
   "source": [
    "# pFBA - WT without BHAC\n",
    "print('flux sums for the all reactions that have both Orn and Cit as metabolites:')\n",
    "print('WT - BHAC:', pFBA_noBHAC.get('ORNITHINE_CITRULLINE_pc') + pFBA_noBHAC.get('ORNCARBAMTRANSFER_RXN_p') + pFBA_noBHAC.get('ORNITHINE_CITRULLINE_mc'))\n",
    "\n",
    "# pFBA - WT with BHAC\n",
    "print('WT + BHAC:', pFBA_BHAC.get('ORNITHINE_CITRULLINE_pc') + pFBA_BHAC.get('ORNCARBAMTRANSFER_RXN_p') + pFBA_BHAC.get('ORNITHINE_CITRULLINE_mc'))\n",
    "\n",
    "# pFBA - ggt without BHAC\n",
    "print('ggt - BHAC:', pFBA_noBHAC_ggt.get('ORNITHINE_CITRULLINE_pc') + pFBA_noBHAC_ggt.get('ORNCARBAMTRANSFER_RXN_p') + pFBA_noBHAC_ggt.get('ORNITHINE_CITRULLINE_mc'))\n",
    "\n",
    "# pFBA - ggt with BHAC\n",
    "print('ggt + BHAc:', pFBA_BHAC_ggt.get('ORNITHINE_CITRULLINE_pc') + pFBA_BHAC_ggt.get('ORNCARBAMTRANSFER_RXN_p') + pFBA_BHAC_ggt.get('ORNITHINE_CITRULLINE_mc'))"
   ]
  },
  {
   "cell_type": "code",
   "execution_count": 224,
   "metadata": {
    "pycharm": {
     "name": "#%%\n"
    }
   },
   "outputs": [
    {
     "name": "stdout",
     "output_type": "stream",
     "text": [
      "flux sums for all Orn and all Cit reactions:\n",
      "WT - BHAC: 0.3184\n",
      "WT + BHAC: 0.3238\n",
      "ggt - BHAC: 0.3184\n",
      "ggt + BHAC: 0.3242\n"
     ]
    }
   ],
   "source": [
    "print('flux sums for all Orn and all Cit reactions:')\n",
    "\n",
    "# pFBA - WT without BHAC\n",
    "print('WT - BHAC:',flux_values_sum(orn_reactions, 'n', 'wt', plot='plot') + flux_values_sum(cit_reactions, 'n', 'wt', plot='plot'))\n",
    "\n",
    "# pFBA - WT with BHAC\n",
    "print('WT + BHAC:', flux_values_sum(orn_reactions, 'y', 'wt', plot='plot') + flux_values_sum(cit_reactions, 'y', 'wt', plot='plot'))\n",
    "\n",
    "# pFBA - ggt without BHAC\n",
    "print('ggt - BHAC:',flux_values_sum(orn_reactions, 'n', 'ggt', plot='plot') + flux_values_sum(cit_reactions, 'n', 'ggt', plot='plot'))\n",
    "\n",
    "# pFBA - ggt with BHAC\n",
    "print('ggt + BHAC:',flux_values_sum(orn_reactions, 'y', 'ggt', plot='plot') + flux_values_sum(cit_reactions, 'y', 'ggt', plot='plot'))"
   ]
  },
  {
   "cell_type": "markdown",
   "metadata": {},
   "source": [
    "The flux sums are higher when BHAc is active in ggt1-1 mutant and wt confirming Roell et al. results"
   ]
  },
  {
   "cell_type": "markdown",
   "metadata": {},
   "source": [
    "## Flux Maps\n",
    "Flux Maps with Escher could be a great visualisation tool for the future"
   ]
  },
  {
   "cell_type": "code",
   "execution_count": 225,
   "metadata": {
    "pycharm": {
     "name": "#%%\n"
    }
   },
   "outputs": [],
   "source": [
    "# visualisation of the BHAC pathway\n",
    "group = Group('bhac')\n",
    "group.name = ('β-hydroxyaspartate cycle')\n",
    "c3_model.add_groups([group])"
   ]
  },
  {
   "cell_type": "code",
   "execution_count": 226,
   "metadata": {
    "pycharm": {
     "name": "#%%\n"
    }
   },
   "outputs": [],
   "source": [
    "c3_model.groups.bhac.add_members([\n",
    "    c3_model.reactions.AGAT_x,c3_model.reactions.BHAA_x, c3_model.reactions.BHAD_x, c3_model.reactions.ISR_x])"
   ]
  },
  {
   "cell_type": "code",
   "execution_count": 227,
   "metadata": {
    "pycharm": {
     "name": "#%%\n"
    }
   },
   "outputs": [
    {
     "data": {
      "text/plain": [
       "[<Reaction AGAT_x at 0x23527e46b88>,\n",
       " <Reaction BHAA_x at 0x23527e46dc8>,\n",
       " <Reaction BHAD_x at 0x23527e46cc8>,\n",
       " <Reaction ISR_x at 0x23527e46408>]"
      ]
     },
     "execution_count": 227,
     "metadata": {},
     "output_type": "execute_result"
    }
   ],
   "source": [
    "c3_model.groups.bhac.members"
   ]
  },
  {
   "cell_type": "code",
   "execution_count": 228,
   "metadata": {
    "pycharm": {
     "name": "#%%\n"
    }
   },
   "outputs": [],
   "source": [
    "cm.model_convert(c3_model)"
   ]
  },
  {
   "cell_type": "code",
   "execution_count": 229,
   "metadata": {
    "pycharm": {
     "name": "#%%\n"
    }
   },
   "outputs": [
    {
     "data": {
      "text/plain": [
       "{'AGAT_x': 0.0,\n",
       " 'BHAA_x': 6.41267851711857,\n",
       " 'BHAD_x': 6.41267851711857,\n",
       " 'ISR_x': 6.41267851711857}"
      ]
     },
     "execution_count": 229,
     "metadata": {},
     "output_type": "execute_result"
    }
   ],
   "source": [
    "bhac_dict = {}\n",
    "with c3_model:\n",
    "    set_bounds('Photon_tx', (0, 1000), c3_model)\n",
    "    set_bounds('Nitrate_tx', (0, 10), c3_model)\n",
    "    a = c3_model.optimize().fluxes.to_dict()\n",
    "    for i in bhac_c3:\n",
    "        bhac_dict[i] = a.get(i)\n",
    "\n",
    "bhac_dict"
   ]
  },
  {
   "cell_type": "code",
   "execution_count": 230,
   "metadata": {
    "pycharm": {
     "name": "#%%\n"
    }
   },
   "outputs": [
    {
     "data": {
      "text/plain": [
       "{'AGAT_x': 10.513568410302751,\n",
       " 'BHAA_x': 10.51356841033276,\n",
       " 'BHAD_x': 10.513568410332757,\n",
       " 'ISR_x': 10.513568410332757}"
      ]
     },
     "execution_count": 230,
     "metadata": {},
     "output_type": "execute_result"
    }
   ],
   "source": [
    "bhac_dict = {}\n",
    "with c3_model:\n",
    "    set_bounds('Photon_tx', (0, 1000), c3_model)\n",
    "    set_bounds('Nitrate_tx', (0, 10), c3_model)\n",
    "    a = flux_variability_analysis(c3_model, bhac_c3, pfba_factor=1)\n",
    "    for i in bhac_c3:\n",
    "        bhac_dict[i] = a.get('minimum')[i]\n",
    "bhac_dict"
   ]
  },
  {
   "cell_type": "code",
   "execution_count": 231,
   "metadata": {
    "pycharm": {
     "name": "#%%\n"
    }
   },
   "outputs": [
    {
     "data": {
      "application/vnd.jupyter.widget-view+json": {
       "model_id": "865b53c7ee92400aa90e624999b9b1cc",
       "version_major": 2,
       "version_minor": 0
      },
      "text/plain": [
       "Builder(reaction_data={'AGAT_x': 10.513568410302751, 'BHAA_x': 10.51356841033276, 'BHAD_x': 10.513568410332757…"
      ]
     },
     "metadata": {},
     "output_type": "display_data"
    }
   ],
   "source": [
    "c3_model.groups.get_by_id('bhac').color_positive = \"green\"\n",
    "c3_model.groups.get_by_id('bhac').color_negative = \"red\"\n",
    "\n",
    "c3_model.groups.get_by_id('bhac').visualize(\n",
    "    solution_fluxes=bhac_dict\n",
    ")\n",
    "\n",
    "# Pycharm: visualisation is not shown here, type 'jupyter notebook' into terminal to open the code in the browser (local host)"
   ]
  }
 ],
 "metadata": {
  "kernelspec": {
   "display_name": "Python 3 (ipykernel)",
   "language": "python",
   "name": "python3"
  },
  "language_info": {
   "codemirror_mode": {
    "name": "ipython",
    "version": 3
   },
   "file_extension": ".py",
   "mimetype": "text/x-python",
   "name": "python",
   "nbconvert_exporter": "python",
   "pygments_lexer": "ipython3",
   "version": "3.7.13"
  }
 },
 "nbformat": 4,
 "nbformat_minor": 1
}
